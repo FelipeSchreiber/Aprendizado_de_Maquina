{
  "nbformat": 4,
  "nbformat_minor": 0,
  "metadata": {
    "colab": {
      "name": "PIPEML_ELL891_LOO.ipynb",
      "provenance": [],
      "collapsed_sections": []
    },
    "kernelspec": {
      "display_name": "Python 3",
      "language": "python",
      "name": "python3"
    },
    "language_info": {
      "codemirror_mode": {
        "name": "ipython",
        "version": 3
      },
      "file_extension": ".py",
      "mimetype": "text/x-python",
      "name": "python",
      "nbconvert_exporter": "python",
      "pygments_lexer": "ipython3",
      "version": "3.8.3"
    }
  },
  "cells": [
    {
      "cell_type": "code",
      "metadata": {
        "id": "TuhLM1DChrVb",
        "colab": {
          "base_uri": "https://localhost:8080/"
        },
        "outputId": "4d0401e8-f43b-426a-8224-2ff22bf6ce1f"
      },
      "source": [
        "import numpy as np\n",
        "import pandas as pd\n",
        "import seaborn as sns\n",
        "import matplotlib\n",
        "import matplotlib.pyplot as plt\n",
        "from scipy.stats import skew\n",
        "from scipy import stats\n",
        "from scipy.stats.stats import pearsonr\n",
        "from sklearn.metrics import confusion_matrix\n",
        "from sklearn import metrics\n",
        "from sklearn.metrics import confusion_matrix, make_scorer, accuracy_score, precision_score, recall_score, f1_score, roc_auc_score\n",
        "from sklearn.preprocessing import MinMaxScaler, StandardScaler\n",
        "from sklearn.base import BaseEstimator, TransformerMixin, ClassifierMixin\n",
        "from sklearn.preprocessing import scale\n",
        "from sklearn.impute import KNNImputer\n",
        "from sklearn.neighbors import KNeighborsClassifier\n",
        "from sklearn.decomposition import PCA\n",
        "from sklearn.svm import LinearSVC\n",
        "!pip install category_encoders\n",
        "from category_encoders.cat_boost import CatBoostEncoder\n",
        "from category_encoders.leave_one_out import LeaveOneOutEncoder\n",
        "from sklearn.model_selection import cross_validate, StratifiedKFold\n",
        "from sklearn.feature_selection import SelectKBest\n",
        "from sklearn.feature_selection import chi2\n",
        "from sklearn.model_selection import GridSearchCV\n",
        "!pip install scikit-optimize\n",
        "from skopt import BayesSearchCV\n",
        "from skopt.space import Real, Categorical, Integer\n",
        "from sklearn.ensemble import RandomForestClassifier\n",
        "from sklearn.linear_model import LogisticRegression\n",
        "from sklearn.naive_bayes import GaussianNB\n",
        "from sklearn.kernel_approximation import Nystroem\n",
        "from sklearn.pipeline import FeatureUnion\n",
        "from sklearn.svm import SVC\n",
        "from sklearn.neural_network import MLPClassifier\n",
        "from imblearn import pipeline\n",
        "from imblearn.combine import SMOTEENN, SMOTETomek\n",
        "from sklearn.discriminant_analysis import LinearDiscriminantAnalysis\n",
        "from sklearn.discriminant_analysis import QuadraticDiscriminantAnalysis\n",
        "!pip install catboost\n",
        "!pip install ipywidgets\n",
        "from catboost import CatBoostClassifier\n",
        "!pip install lightgbm\n",
        "from lightgbm import LGBMClassifier as lgb\n",
        "!pip3 install xgboost\n",
        "import xgboost as xg\n",
        "from sklearn.ensemble import AdaBoostClassifier, StackingClassifier\n",
        "from imblearn.over_sampling import SVMSMOTE, SMOTE, ADASYN, BorderlineSMOTE\n",
        "from sklearn.pipeline import Pipeline\n",
        "from google.colab import drive\n",
        "drive.mount('/content/gdrive')\n",
        "import warnings\n",
        "warnings.filterwarnings('ignore')"
      ],
      "execution_count": 1,
      "outputs": [
        {
          "output_type": "stream",
          "text": [
            "Requirement already satisfied: category_encoders in /usr/local/lib/python3.6/dist-packages (2.2.2)\n",
            "Requirement already satisfied: numpy>=1.14.0 in /usr/local/lib/python3.6/dist-packages (from category_encoders) (1.18.5)\n",
            "Requirement already satisfied: patsy>=0.5.1 in /usr/local/lib/python3.6/dist-packages (from category_encoders) (0.5.1)\n",
            "Requirement already satisfied: scipy>=1.0.0 in /usr/local/lib/python3.6/dist-packages (from category_encoders) (1.4.1)\n",
            "Requirement already satisfied: statsmodels>=0.9.0 in /usr/local/lib/python3.6/dist-packages (from category_encoders) (0.10.2)\n",
            "Requirement already satisfied: pandas>=0.21.1 in /usr/local/lib/python3.6/dist-packages (from category_encoders) (1.1.4)\n",
            "Requirement already satisfied: scikit-learn>=0.20.0 in /usr/local/lib/python3.6/dist-packages (from category_encoders) (0.22.2.post1)\n",
            "Requirement already satisfied: six in /usr/local/lib/python3.6/dist-packages (from patsy>=0.5.1->category_encoders) (1.15.0)\n",
            "Requirement already satisfied: pytz>=2017.2 in /usr/local/lib/python3.6/dist-packages (from pandas>=0.21.1->category_encoders) (2018.9)\n",
            "Requirement already satisfied: python-dateutil>=2.7.3 in /usr/local/lib/python3.6/dist-packages (from pandas>=0.21.1->category_encoders) (2.8.1)\n",
            "Requirement already satisfied: joblib>=0.11 in /usr/local/lib/python3.6/dist-packages (from scikit-learn>=0.20.0->category_encoders) (0.17.0)\n"
          ],
          "name": "stdout"
        },
        {
          "output_type": "stream",
          "text": [
            "/usr/local/lib/python3.6/dist-packages/statsmodels/tools/_testing.py:19: FutureWarning: pandas.util.testing is deprecated. Use the functions in the public API at pandas.testing instead.\n",
            "  import pandas.util.testing as tm\n"
          ],
          "name": "stderr"
        },
        {
          "output_type": "stream",
          "text": [
            "Requirement already satisfied: scikit-optimize in /usr/local/lib/python3.6/dist-packages (0.8.1)\n",
            "Requirement already satisfied: scikit-learn>=0.20.0 in /usr/local/lib/python3.6/dist-packages (from scikit-optimize) (0.22.2.post1)\n",
            "Requirement already satisfied: scipy>=0.19.1 in /usr/local/lib/python3.6/dist-packages (from scikit-optimize) (1.4.1)\n",
            "Requirement already satisfied: numpy>=1.13.3 in /usr/local/lib/python3.6/dist-packages (from scikit-optimize) (1.18.5)\n",
            "Requirement already satisfied: joblib>=0.11 in /usr/local/lib/python3.6/dist-packages (from scikit-optimize) (0.17.0)\n",
            "Requirement already satisfied: pyaml>=16.9 in /usr/local/lib/python3.6/dist-packages (from scikit-optimize) (20.4.0)\n",
            "Requirement already satisfied: PyYAML in /usr/local/lib/python3.6/dist-packages (from pyaml>=16.9->scikit-optimize) (3.13)\n"
          ],
          "name": "stdout"
        },
        {
          "output_type": "stream",
          "text": [
            "/usr/local/lib/python3.6/dist-packages/sklearn/externals/six.py:31: FutureWarning: The module is deprecated in version 0.21 and will be removed in version 0.23 since we've dropped support for Python 2.7. Please rely on the official version of six (https://pypi.org/project/six/).\n",
            "  \"(https://pypi.org/project/six/).\", FutureWarning)\n",
            "/usr/local/lib/python3.6/dist-packages/sklearn/utils/deprecation.py:144: FutureWarning: The sklearn.neighbors.base module is  deprecated in version 0.22 and will be removed in version 0.24. The corresponding classes / functions should instead be imported from sklearn.neighbors. Anything that cannot be imported from sklearn.neighbors is now part of the private API.\n",
            "  warnings.warn(message, FutureWarning)\n"
          ],
          "name": "stderr"
        },
        {
          "output_type": "stream",
          "text": [
            "Requirement already satisfied: catboost in /usr/local/lib/python3.6/dist-packages (0.24.3)\n",
            "Requirement already satisfied: six in /usr/local/lib/python3.6/dist-packages (from catboost) (1.15.0)\n",
            "Requirement already satisfied: pandas>=0.24.0 in /usr/local/lib/python3.6/dist-packages (from catboost) (1.1.4)\n",
            "Requirement already satisfied: plotly in /usr/local/lib/python3.6/dist-packages (from catboost) (4.4.1)\n",
            "Requirement already satisfied: scipy in /usr/local/lib/python3.6/dist-packages (from catboost) (1.4.1)\n",
            "Requirement already satisfied: matplotlib in /usr/local/lib/python3.6/dist-packages (from catboost) (3.2.2)\n",
            "Requirement already satisfied: graphviz in /usr/local/lib/python3.6/dist-packages (from catboost) (0.10.1)\n",
            "Requirement already satisfied: numpy>=1.16.0 in /usr/local/lib/python3.6/dist-packages (from catboost) (1.18.5)\n",
            "Requirement already satisfied: pytz>=2017.2 in /usr/local/lib/python3.6/dist-packages (from pandas>=0.24.0->catboost) (2018.9)\n",
            "Requirement already satisfied: python-dateutil>=2.7.3 in /usr/local/lib/python3.6/dist-packages (from pandas>=0.24.0->catboost) (2.8.1)\n",
            "Requirement already satisfied: retrying>=1.3.3 in /usr/local/lib/python3.6/dist-packages (from plotly->catboost) (1.3.3)\n",
            "Requirement already satisfied: cycler>=0.10 in /usr/local/lib/python3.6/dist-packages (from matplotlib->catboost) (0.10.0)\n",
            "Requirement already satisfied: kiwisolver>=1.0.1 in /usr/local/lib/python3.6/dist-packages (from matplotlib->catboost) (1.3.1)\n",
            "Requirement already satisfied: pyparsing!=2.0.4,!=2.1.2,!=2.1.6,>=2.0.1 in /usr/local/lib/python3.6/dist-packages (from matplotlib->catboost) (2.4.7)\n",
            "Requirement already satisfied: ipywidgets in /usr/local/lib/python3.6/dist-packages (7.5.1)\n",
            "Requirement already satisfied: ipython>=4.0.0; python_version >= \"3.3\" in /usr/local/lib/python3.6/dist-packages (from ipywidgets) (5.5.0)\n",
            "Requirement already satisfied: ipykernel>=4.5.1 in /usr/local/lib/python3.6/dist-packages (from ipywidgets) (4.10.1)\n",
            "Requirement already satisfied: traitlets>=4.3.1 in /usr/local/lib/python3.6/dist-packages (from ipywidgets) (4.3.3)\n",
            "Requirement already satisfied: widgetsnbextension~=3.5.0 in /usr/local/lib/python3.6/dist-packages (from ipywidgets) (3.5.1)\n",
            "Requirement already satisfied: nbformat>=4.2.0 in /usr/local/lib/python3.6/dist-packages (from ipywidgets) (5.0.8)\n",
            "Requirement already satisfied: pygments in /usr/local/lib/python3.6/dist-packages (from ipython>=4.0.0; python_version >= \"3.3\"->ipywidgets) (2.6.1)\n",
            "Requirement already satisfied: prompt-toolkit<2.0.0,>=1.0.4 in /usr/local/lib/python3.6/dist-packages (from ipython>=4.0.0; python_version >= \"3.3\"->ipywidgets) (1.0.18)\n",
            "Requirement already satisfied: setuptools>=18.5 in /usr/local/lib/python3.6/dist-packages (from ipython>=4.0.0; python_version >= \"3.3\"->ipywidgets) (50.3.2)\n",
            "Requirement already satisfied: decorator in /usr/local/lib/python3.6/dist-packages (from ipython>=4.0.0; python_version >= \"3.3\"->ipywidgets) (4.4.2)\n",
            "Requirement already satisfied: pexpect; sys_platform != \"win32\" in /usr/local/lib/python3.6/dist-packages (from ipython>=4.0.0; python_version >= \"3.3\"->ipywidgets) (4.8.0)\n",
            "Requirement already satisfied: pickleshare in /usr/local/lib/python3.6/dist-packages (from ipython>=4.0.0; python_version >= \"3.3\"->ipywidgets) (0.7.5)\n",
            "Requirement already satisfied: simplegeneric>0.8 in /usr/local/lib/python3.6/dist-packages (from ipython>=4.0.0; python_version >= \"3.3\"->ipywidgets) (0.8.1)\n",
            "Requirement already satisfied: tornado>=4.0 in /usr/local/lib/python3.6/dist-packages (from ipykernel>=4.5.1->ipywidgets) (5.1.1)\n",
            "Requirement already satisfied: jupyter-client in /usr/local/lib/python3.6/dist-packages (from ipykernel>=4.5.1->ipywidgets) (5.3.5)\n",
            "Requirement already satisfied: six in /usr/local/lib/python3.6/dist-packages (from traitlets>=4.3.1->ipywidgets) (1.15.0)\n",
            "Requirement already satisfied: ipython-genutils in /usr/local/lib/python3.6/dist-packages (from traitlets>=4.3.1->ipywidgets) (0.2.0)\n",
            "Requirement already satisfied: notebook>=4.4.1 in /usr/local/lib/python3.6/dist-packages (from widgetsnbextension~=3.5.0->ipywidgets) (5.3.1)\n",
            "Requirement already satisfied: jsonschema!=2.5.0,>=2.4 in /usr/local/lib/python3.6/dist-packages (from nbformat>=4.2.0->ipywidgets) (2.6.0)\n",
            "Requirement already satisfied: jupyter-core in /usr/local/lib/python3.6/dist-packages (from nbformat>=4.2.0->ipywidgets) (4.7.0)\n",
            "Requirement already satisfied: wcwidth in /usr/local/lib/python3.6/dist-packages (from prompt-toolkit<2.0.0,>=1.0.4->ipython>=4.0.0; python_version >= \"3.3\"->ipywidgets) (0.2.5)\n",
            "Requirement already satisfied: ptyprocess>=0.5 in /usr/local/lib/python3.6/dist-packages (from pexpect; sys_platform != \"win32\"->ipython>=4.0.0; python_version >= \"3.3\"->ipywidgets) (0.6.0)\n",
            "Requirement already satisfied: python-dateutil>=2.1 in /usr/local/lib/python3.6/dist-packages (from jupyter-client->ipykernel>=4.5.1->ipywidgets) (2.8.1)\n",
            "Requirement already satisfied: pyzmq>=13 in /usr/local/lib/python3.6/dist-packages (from jupyter-client->ipykernel>=4.5.1->ipywidgets) (20.0.0)\n",
            "Requirement already satisfied: nbconvert in /usr/local/lib/python3.6/dist-packages (from notebook>=4.4.1->widgetsnbextension~=3.5.0->ipywidgets) (5.6.1)\n",
            "Requirement already satisfied: jinja2 in /usr/local/lib/python3.6/dist-packages (from notebook>=4.4.1->widgetsnbextension~=3.5.0->ipywidgets) (2.11.2)\n",
            "Requirement already satisfied: Send2Trash in /usr/local/lib/python3.6/dist-packages (from notebook>=4.4.1->widgetsnbextension~=3.5.0->ipywidgets) (1.5.0)\n",
            "Requirement already satisfied: terminado>=0.8.1 in /usr/local/lib/python3.6/dist-packages (from notebook>=4.4.1->widgetsnbextension~=3.5.0->ipywidgets) (0.9.1)\n",
            "Requirement already satisfied: mistune<2,>=0.8.1 in /usr/local/lib/python3.6/dist-packages (from nbconvert->notebook>=4.4.1->widgetsnbextension~=3.5.0->ipywidgets) (0.8.4)\n",
            "Requirement already satisfied: defusedxml in /usr/local/lib/python3.6/dist-packages (from nbconvert->notebook>=4.4.1->widgetsnbextension~=3.5.0->ipywidgets) (0.6.0)\n",
            "Requirement already satisfied: entrypoints>=0.2.2 in /usr/local/lib/python3.6/dist-packages (from nbconvert->notebook>=4.4.1->widgetsnbextension~=3.5.0->ipywidgets) (0.3)\n",
            "Requirement already satisfied: pandocfilters>=1.4.1 in /usr/local/lib/python3.6/dist-packages (from nbconvert->notebook>=4.4.1->widgetsnbextension~=3.5.0->ipywidgets) (1.4.3)\n",
            "Requirement already satisfied: bleach in /usr/local/lib/python3.6/dist-packages (from nbconvert->notebook>=4.4.1->widgetsnbextension~=3.5.0->ipywidgets) (3.2.1)\n",
            "Requirement already satisfied: testpath in /usr/local/lib/python3.6/dist-packages (from nbconvert->notebook>=4.4.1->widgetsnbextension~=3.5.0->ipywidgets) (0.4.4)\n",
            "Requirement already satisfied: MarkupSafe>=0.23 in /usr/local/lib/python3.6/dist-packages (from jinja2->notebook>=4.4.1->widgetsnbextension~=3.5.0->ipywidgets) (1.1.1)\n",
            "Requirement already satisfied: packaging in /usr/local/lib/python3.6/dist-packages (from bleach->nbconvert->notebook>=4.4.1->widgetsnbextension~=3.5.0->ipywidgets) (20.4)\n",
            "Requirement already satisfied: webencodings in /usr/local/lib/python3.6/dist-packages (from bleach->nbconvert->notebook>=4.4.1->widgetsnbextension~=3.5.0->ipywidgets) (0.5.1)\n",
            "Requirement already satisfied: pyparsing>=2.0.2 in /usr/local/lib/python3.6/dist-packages (from packaging->bleach->nbconvert->notebook>=4.4.1->widgetsnbextension~=3.5.0->ipywidgets) (2.4.7)\n",
            "Requirement already satisfied: lightgbm in /usr/local/lib/python3.6/dist-packages (2.2.3)\n",
            "Requirement already satisfied: scikit-learn in /usr/local/lib/python3.6/dist-packages (from lightgbm) (0.22.2.post1)\n",
            "Requirement already satisfied: scipy in /usr/local/lib/python3.6/dist-packages (from lightgbm) (1.4.1)\n",
            "Requirement already satisfied: numpy in /usr/local/lib/python3.6/dist-packages (from lightgbm) (1.18.5)\n",
            "Requirement already satisfied: joblib>=0.11 in /usr/local/lib/python3.6/dist-packages (from scikit-learn->lightgbm) (0.17.0)\n",
            "Requirement already satisfied: xgboost in /usr/local/lib/python3.6/dist-packages (0.90)\n",
            "Requirement already satisfied: numpy in /usr/local/lib/python3.6/dist-packages (from xgboost) (1.18.5)\n",
            "Requirement already satisfied: scipy in /usr/local/lib/python3.6/dist-packages (from xgboost) (1.4.1)\n",
            "Drive already mounted at /content/gdrive; to attempt to forcibly remount, call drive.mount(\"/content/gdrive\", force_remount=True).\n"
          ],
          "name": "stdout"
        }
      ]
    },
    {
      "cell_type": "code",
      "metadata": {
        "id": "N1__u1Q7p9lG"
      },
      "source": [
        "path = '/content/gdrive/My Drive/eel891-2020ple-trabalho-1/Balanceado/'"
      ],
      "execution_count": 2,
      "outputs": []
    },
    {
      "cell_type": "code",
      "metadata": {
        "id": "75u6uTFtL-KF",
        "colab": {
          "base_uri": "https://localhost:8080/"
        },
        "outputId": "ad7d1fd5-245c-4270-e7c2-8b3124ee9ea5"
      },
      "source": [
        "!ls '/content/gdrive/My Drive/eel891-2020ple-trabalho-1/'\n"
      ],
      "execution_count": 3,
      "outputs": [
        {
          "output_type": "stream",
          "text": [
            "Balanceado\t\t     exemplo_de_arquivo_de_respostas.csv\n",
            "conjunto_de_teste.csv\t     Test_Data_CATB_encoded.csv\n",
            "conjunto_de_treinamento.csv  Training_data_imputed_CATB_SMOTEENN_resampled.csv\n",
            "dicionario_de_dados.xlsx\n"
          ],
          "name": "stdout"
        }
      ]
    },
    {
      "cell_type": "markdown",
      "metadata": {
        "id": "cOG3p73akkKk"
      },
      "source": [
        "# Load Data"
      ]
    },
    {
      "cell_type": "code",
      "metadata": {
        "id": "afI88FBVkgPV"
      },
      "source": [
        "df_treino = pd.read_csv(path+\"conjunto_de_treinamento.csv\")\n",
        "df_teste = pd.read_csv(path+\"conjunto_de_teste.csv\")\n",
        "#efetua o preprocessamento de uma vez num unico conjunto de dados\n",
        "all_data = pd.concat([df_treino,df_teste],ignore_index=True)"
      ],
      "execution_count": 4,
      "outputs": []
    },
    {
      "cell_type": "code",
      "metadata": {
        "id": "wH2TEdvnmdub",
        "colab": {
          "base_uri": "https://localhost:8080/"
        },
        "outputId": "614a0cf6-1e7e-4b0d-e0e8-310fe1917036"
      },
      "source": [
        "df_treino.columns"
      ],
      "execution_count": 5,
      "outputs": [
        {
          "output_type": "execute_result",
          "data": {
            "text/plain": [
              "Index(['id_solicitante', 'produto_solicitado', 'dia_vencimento',\n",
              "       'forma_envio_solicitacao', 'tipo_endereco', 'sexo', 'idade',\n",
              "       'estado_civil', 'qtde_dependentes', 'grau_instrucao', 'nacionalidade',\n",
              "       'estado_onde_nasceu', 'estado_onde_reside',\n",
              "       'possui_telefone_residencial', 'codigo_area_telefone_residencial',\n",
              "       'tipo_residencia', 'meses_na_residencia', 'possui_telefone_celular',\n",
              "       'possui_email', 'renda_mensal_regular', 'renda_extra',\n",
              "       'possui_cartao_visa', 'possui_cartao_mastercard',\n",
              "       'possui_cartao_diners', 'possui_cartao_amex', 'possui_outros_cartoes',\n",
              "       'qtde_contas_bancarias', 'qtde_contas_bancarias_especiais',\n",
              "       'valor_patrimonio_pessoal', 'possui_carro',\n",
              "       'vinculo_formal_com_empresa', 'estado_onde_trabalha',\n",
              "       'possui_telefone_trabalho', 'codigo_area_telefone_trabalho',\n",
              "       'meses_no_trabalho', 'profissao', 'ocupacao', 'profissao_companheiro',\n",
              "       'grau_instrucao_companheiro', 'local_onde_reside',\n",
              "       'local_onde_trabalha', 'inadimplente'],\n",
              "      dtype='object')"
            ]
          },
          "metadata": {
            "tags": []
          },
          "execution_count": 5
        }
      ]
    },
    {
      "cell_type": "code",
      "metadata": {
        "id": "Q0imuRLU41e_"
      },
      "source": [
        "#as colunas que tinham mais de 50% dos dados faltantes serão excluidas 'profissao_companheiro','grau_instrucao_companheiro',\n",
        "all_data.drop(columns=['grau_instrucao','id_solicitante','possui_telefone_celular','qtde_contas_bancarias_especiais'],inplace=True)"
      ],
      "execution_count": 6,
      "outputs": []
    },
    {
      "cell_type": "code",
      "metadata": {
        "id": "hnqSW41MoenA"
      },
      "source": [
        "#Get Numerical/categorical columns\n",
        "mask = all_data.dtypes == np.object\n",
        "categorical_cols = list(all_data.columns[mask])\n",
        "numerical_cols = list(all_data.select_dtypes(include=['int64','float64']).columns)"
      ],
      "execution_count": 7,
      "outputs": []
    },
    {
      "cell_type": "code",
      "metadata": {
        "id": "Dh0YxE2DLdpv",
        "colab": {
          "base_uri": "https://localhost:8080/"
        },
        "outputId": "bb86d4fa-7b6e-4b1f-8a0e-f29f017ee3da"
      },
      "source": [
        "numerical_cols"
      ],
      "execution_count": 8,
      "outputs": [
        {
          "output_type": "execute_result",
          "data": {
            "text/plain": [
              "['produto_solicitado',\n",
              " 'dia_vencimento',\n",
              " 'tipo_endereco',\n",
              " 'idade',\n",
              " 'estado_civil',\n",
              " 'qtde_dependentes',\n",
              " 'nacionalidade',\n",
              " 'tipo_residencia',\n",
              " 'meses_na_residencia',\n",
              " 'possui_email',\n",
              " 'renda_mensal_regular',\n",
              " 'renda_extra',\n",
              " 'possui_cartao_visa',\n",
              " 'possui_cartao_mastercard',\n",
              " 'possui_cartao_diners',\n",
              " 'possui_cartao_amex',\n",
              " 'possui_outros_cartoes',\n",
              " 'qtde_contas_bancarias',\n",
              " 'valor_patrimonio_pessoal',\n",
              " 'possui_carro',\n",
              " 'meses_no_trabalho',\n",
              " 'profissao',\n",
              " 'ocupacao',\n",
              " 'profissao_companheiro',\n",
              " 'grau_instrucao_companheiro',\n",
              " 'local_onde_reside',\n",
              " 'local_onde_trabalha',\n",
              " 'inadimplente']"
            ]
          },
          "metadata": {
            "tags": []
          },
          "execution_count": 8
        }
      ]
    },
    {
      "cell_type": "code",
      "metadata": {
        "id": "DojunpWgpKR6",
        "colab": {
          "base_uri": "https://localhost:8080/"
        },
        "outputId": "e51a9e61-0785-405c-a82d-c116cc3b7efb"
      },
      "source": [
        "columns_to_encode = ['dia_vencimento','produto_solicitado','tipo_endereco','estado_civil','nacionalidade','tipo_residencia','profissao',\n",
        " 'ocupacao','local_onde_reside','local_onde_trabalha']\n",
        "for el in columns_to_encode:\n",
        "    numerical_cols.remove(el)\n",
        "categorical_cols.extend(columns_to_encode)\n",
        "numerical_cols"
      ],
      "execution_count": 9,
      "outputs": [
        {
          "output_type": "execute_result",
          "data": {
            "text/plain": [
              "['idade',\n",
              " 'qtde_dependentes',\n",
              " 'meses_na_residencia',\n",
              " 'possui_email',\n",
              " 'renda_mensal_regular',\n",
              " 'renda_extra',\n",
              " 'possui_cartao_visa',\n",
              " 'possui_cartao_mastercard',\n",
              " 'possui_cartao_diners',\n",
              " 'possui_cartao_amex',\n",
              " 'possui_outros_cartoes',\n",
              " 'qtde_contas_bancarias',\n",
              " 'valor_patrimonio_pessoal',\n",
              " 'possui_carro',\n",
              " 'meses_no_trabalho',\n",
              " 'profissao_companheiro',\n",
              " 'grau_instrucao_companheiro',\n",
              " 'inadimplente']"
            ]
          },
          "metadata": {
            "tags": []
          },
          "execution_count": 9
        }
      ]
    },
    {
      "cell_type": "code",
      "metadata": {
        "id": "oyCIHvsBo6jp",
        "colab": {
          "base_uri": "https://localhost:8080/"
        },
        "outputId": "fb282e28-d00f-4334-96c7-539bc78efa58"
      },
      "source": [
        "categorical_cols"
      ],
      "execution_count": 10,
      "outputs": [
        {
          "output_type": "execute_result",
          "data": {
            "text/plain": [
              "['forma_envio_solicitacao',\n",
              " 'sexo',\n",
              " 'estado_onde_nasceu',\n",
              " 'estado_onde_reside',\n",
              " 'possui_telefone_residencial',\n",
              " 'codigo_area_telefone_residencial',\n",
              " 'vinculo_formal_com_empresa',\n",
              " 'estado_onde_trabalha',\n",
              " 'possui_telefone_trabalho',\n",
              " 'codigo_area_telefone_trabalho',\n",
              " 'dia_vencimento',\n",
              " 'produto_solicitado',\n",
              " 'tipo_endereco',\n",
              " 'estado_civil',\n",
              " 'nacionalidade',\n",
              " 'tipo_residencia',\n",
              " 'profissao',\n",
              " 'ocupacao',\n",
              " 'local_onde_reside',\n",
              " 'local_onde_trabalha']"
            ]
          },
          "metadata": {
            "tags": []
          },
          "execution_count": 10
        }
      ]
    },
    {
      "cell_type": "markdown",
      "metadata": {
        "id": "7ufP2f8wPTbD"
      },
      "source": [
        "# Detect missing data"
      ]
    },
    {
      "cell_type": "code",
      "metadata": {
        "id": "Tit3u7AX8WLw"
      },
      "source": [
        "missingValues = all_data[categorical_cols].isna().sum()\n",
        "#mask = data.value > 0\n",
        "col = []\n",
        "qnt = []\n",
        "perc = []\n",
        "total = all_data[categorical_cols].shape[0]\n",
        "for items in missingValues.iteritems():\n",
        "    #print(items)\n",
        "    if items[1] > 0:\n",
        "        #print(items)\n",
        "        col.append(items[0])\n",
        "        qnt.append(items[1])\n",
        "        perc.append((items[1]/total)*100)"
      ],
      "execution_count": 11,
      "outputs": []
    },
    {
      "cell_type": "code",
      "metadata": {
        "id": "FMSZ1chOUAp2",
        "colab": {
          "base_uri": "https://localhost:8080/"
        },
        "outputId": "07057b99-a350-45b7-f9d3-d44a2b9566ee"
      },
      "source": [
        "all_data['local_onde_reside'].max()"
      ],
      "execution_count": 12,
      "outputs": [
        {
          "output_type": "execute_result",
          "data": {
            "text/plain": [
              "999.0"
            ]
          },
          "metadata": {
            "tags": []
          },
          "execution_count": 12
        }
      ]
    },
    {
      "cell_type": "code",
      "metadata": {
        "id": "7wMmAa0NTvMk",
        "colab": {
          "base_uri": "https://localhost:8080/",
          "height": 105
        },
        "outputId": "347e40d0-9b5c-4a26-d768-51949c18e5f7"
      },
      "source": [
        "\"\"\"all_data['profissao'] = all_data['profissao'].fillna(1000).astype(np.int)\n",
        "all_data['ocupacao'] = all_data['ocupacao'].fillna(1000).astype(np.int)\n",
        "all_data['tipo_residencia'] = all_data['tipo_residencia'].fillna(1000).astype(np.int)\n",
        "all_data['local_onde_reside'] = all_data['local_onde_reside'].fillna(1000).astype(np.int)\n",
        "all_data['local_onde_trabalha'] = all_data['local_onde_trabalha'].fillna(1000).astype(np.int)\"\"\""
      ],
      "execution_count": 13,
      "outputs": [
        {
          "output_type": "execute_result",
          "data": {
            "application/vnd.google.colaboratory.intrinsic+json": {
              "type": "string"
            },
            "text/plain": [
              "\"all_data['profissao'] = all_data['profissao'].fillna(1000).astype(np.int)\\nall_data['ocupacao'] = all_data['ocupacao'].fillna(1000).astype(np.int)\\nall_data['tipo_residencia'] = all_data['tipo_residencia'].fillna(1000).astype(np.int)\\nall_data['local_onde_reside'] = all_data['local_onde_reside'].fillna(1000).astype(np.int)\\nall_data['local_onde_trabalha'] = all_data['local_onde_trabalha'].fillna(1000).astype(np.int)\""
            ]
          },
          "metadata": {
            "tags": []
          },
          "execution_count": 13
        }
      ]
    },
    {
      "cell_type": "code",
      "metadata": {
        "id": "JEAAu9ju8lfN",
        "colab": {
          "base_uri": "https://localhost:8080/",
          "height": 143
        },
        "outputId": "64af02e9-6acc-4103-d618-6583041eae7b"
      },
      "source": [
        "new_df = pd.DataFrame({\"\":col,\"Missing Ratio\":perc,\"Missing Number\":qnt})\n",
        "new_df"
      ],
      "execution_count": 14,
      "outputs": [
        {
          "output_type": "execute_result",
          "data": {
            "text/html": [
              "<div>\n",
              "<style scoped>\n",
              "    .dataframe tbody tr th:only-of-type {\n",
              "        vertical-align: middle;\n",
              "    }\n",
              "\n",
              "    .dataframe tbody tr th {\n",
              "        vertical-align: top;\n",
              "    }\n",
              "\n",
              "    .dataframe thead th {\n",
              "        text-align: right;\n",
              "    }\n",
              "</style>\n",
              "<table border=\"1\" class=\"dataframe\">\n",
              "  <thead>\n",
              "    <tr style=\"text-align: right;\">\n",
              "      <th></th>\n",
              "      <th></th>\n",
              "      <th>Missing Ratio</th>\n",
              "      <th>Missing Number</th>\n",
              "    </tr>\n",
              "  </thead>\n",
              "  <tbody>\n",
              "    <tr>\n",
              "      <th>0</th>\n",
              "      <td>tipo_residencia</td>\n",
              "      <td>2.644</td>\n",
              "      <td>661</td>\n",
              "    </tr>\n",
              "    <tr>\n",
              "      <th>1</th>\n",
              "      <td>profissao</td>\n",
              "      <td>15.436</td>\n",
              "      <td>3859</td>\n",
              "    </tr>\n",
              "    <tr>\n",
              "      <th>2</th>\n",
              "      <td>ocupacao</td>\n",
              "      <td>14.672</td>\n",
              "      <td>3668</td>\n",
              "    </tr>\n",
              "  </tbody>\n",
              "</table>\n",
              "</div>"
            ],
            "text/plain": [
              "                    Missing Ratio  Missing Number\n",
              "0  tipo_residencia          2.644             661\n",
              "1        profissao         15.436            3859\n",
              "2         ocupacao         14.672            3668"
            ]
          },
          "metadata": {
            "tags": []
          },
          "execution_count": 14
        }
      ]
    },
    {
      "cell_type": "code",
      "metadata": {
        "id": "YeZoLALU1417"
      },
      "source": [
        "#Remove as colunas que tem mais de 50% de dados faltantes e transforma a variavel em ordinal\n",
        "categorical_to_ordinal_encoding = {\n",
        "                                    \"dia_vencimento\" : {1 : 0, 5 : 1, 10 : 2, 15 : 3, 20 : 4, 25:5}\n",
        "                                  }\n",
        "ordinal_cols = 'dia_vencimento'\n",
        "#all_data.drop(columns=['id_solicitante','profissao_companheiro','grau_instrucao_companheiro'],inplace=True)"
      ],
      "execution_count": 15,
      "outputs": []
    },
    {
      "cell_type": "code",
      "metadata": {
        "id": "dHtLg1rK20qT"
      },
      "source": [
        "categorical_cols.append('profissao_companheiro')\n",
        "categorical_cols.append('grau_instrucao_companheiro')\n",
        "numerical_cols.remove('grau_instrucao_companheiro')\n",
        "numerical_cols.remove('profissao_companheiro')\n"
      ],
      "execution_count": 16,
      "outputs": []
    },
    {
      "cell_type": "code",
      "metadata": {
        "id": "Fce1b8Ln4VJR",
        "colab": {
          "base_uri": "https://localhost:8080/"
        },
        "outputId": "833104cc-9f70-4cc3-a9fe-0ad37ce0e58f"
      },
      "source": [
        "'dia_vencimento' in categorical_cols"
      ],
      "execution_count": 17,
      "outputs": [
        {
          "output_type": "execute_result",
          "data": {
            "text/plain": [
              "True"
            ]
          },
          "metadata": {
            "tags": []
          },
          "execution_count": 17
        }
      ]
    },
    {
      "cell_type": "code",
      "metadata": {
        "id": "PWbpEvvuI4-c",
        "colab": {
          "base_uri": "https://localhost:8080/"
        },
        "outputId": "c4ebe7f4-38b4-4d32-cba8-ca8218eac516"
      },
      "source": [
        "input_cols = categorical_cols + numerical_cols\n",
        "len(input_cols) == len(all_data.columns) "
      ],
      "execution_count": 18,
      "outputs": [
        {
          "output_type": "execute_result",
          "data": {
            "text/plain": [
              "True"
            ]
          },
          "metadata": {
            "tags": []
          },
          "execution_count": 18
        }
      ]
    },
    {
      "cell_type": "code",
      "metadata": {
        "id": "1BaMnwY8Q1HQ"
      },
      "source": [
        "input_cols.remove('inadimplente')\n",
        "output_col = 'inadimplente'"
      ],
      "execution_count": 19,
      "outputs": []
    },
    {
      "cell_type": "markdown",
      "metadata": {
        "id": "EpgYMBr2ZAWO"
      },
      "source": [
        "# Check skewness"
      ]
    },
    {
      "cell_type": "code",
      "metadata": {
        "id": "daeKE2FtATCh",
        "colab": {
          "base_uri": "https://localhost:8080/",
          "height": 300
        },
        "outputId": "16cb346d-a4fa-4d12-c434-256c1cbce52e"
      },
      "source": [
        "data_to_normalize = ['idade','qtde_dependentes','meses_na_residencia','renda_mensal_regular','renda_extra',\n",
        "                     'qtde_contas_bancarias','valor_patrimonio_pessoal','meses_no_trabalho']\n",
        "skewed_feats = all_data[data_to_normalize].apply(lambda x: skew(x.dropna())).sort_values(ascending=False)\n",
        "skewness = pd.DataFrame({'Skewed Features' :skewed_feats})\n",
        "skewness"
      ],
      "execution_count": 20,
      "outputs": [
        {
          "output_type": "execute_result",
          "data": {
            "text/html": [
              "<div>\n",
              "<style scoped>\n",
              "    .dataframe tbody tr th:only-of-type {\n",
              "        vertical-align: middle;\n",
              "    }\n",
              "\n",
              "    .dataframe tbody tr th {\n",
              "        vertical-align: top;\n",
              "    }\n",
              "\n",
              "    .dataframe thead th {\n",
              "        text-align: right;\n",
              "    }\n",
              "</style>\n",
              "<table border=\"1\" class=\"dataframe\">\n",
              "  <thead>\n",
              "    <tr style=\"text-align: right;\">\n",
              "      <th></th>\n",
              "      <th>Skewed Features</th>\n",
              "    </tr>\n",
              "  </thead>\n",
              "  <tbody>\n",
              "    <tr>\n",
              "      <th>renda_extra</th>\n",
              "      <td>152.887520</td>\n",
              "    </tr>\n",
              "    <tr>\n",
              "      <th>valor_patrimonio_pessoal</th>\n",
              "      <td>137.490312</td>\n",
              "    </tr>\n",
              "    <tr>\n",
              "      <th>renda_mensal_regular</th>\n",
              "      <td>71.281567</td>\n",
              "    </tr>\n",
              "    <tr>\n",
              "      <th>meses_no_trabalho</th>\n",
              "      <td>64.003928</td>\n",
              "    </tr>\n",
              "    <tr>\n",
              "      <th>qtde_dependentes</th>\n",
              "      <td>5.338860</td>\n",
              "    </tr>\n",
              "    <tr>\n",
              "      <th>meses_na_residencia</th>\n",
              "      <td>2.209667</td>\n",
              "    </tr>\n",
              "    <tr>\n",
              "      <th>qtde_contas_bancarias</th>\n",
              "      <td>0.586854</td>\n",
              "    </tr>\n",
              "    <tr>\n",
              "      <th>idade</th>\n",
              "      <td>0.555165</td>\n",
              "    </tr>\n",
              "  </tbody>\n",
              "</table>\n",
              "</div>"
            ],
            "text/plain": [
              "                          Skewed Features\n",
              "renda_extra                    152.887520\n",
              "valor_patrimonio_pessoal       137.490312\n",
              "renda_mensal_regular            71.281567\n",
              "meses_no_trabalho               64.003928\n",
              "qtde_dependentes                 5.338860\n",
              "meses_na_residencia              2.209667\n",
              "qtde_contas_bancarias            0.586854\n",
              "idade                            0.555165"
            ]
          },
          "metadata": {
            "tags": []
          },
          "execution_count": 20
        }
      ]
    },
    {
      "cell_type": "markdown",
      "metadata": {
        "id": "84ODXhhcZGoQ"
      },
      "source": [
        "# Normalize"
      ]
    },
    {
      "cell_type": "code",
      "metadata": {
        "id": "ygKKZnFO5n5L",
        "colab": {
          "base_uri": "https://localhost:8080/"
        },
        "outputId": "b217b219-324c-499f-cb05-745dbd444c19"
      },
      "source": [
        "scaler = MinMaxScaler()\n",
        "skewness = skewness[abs(skewness) > 0.75]\n",
        "print(\"There are {} skewed numerical features\".format(skewness.shape[0]))\n",
        "skewed_features = skewness.index\n",
        "for feat in skewed_features:\n",
        "    if any(x<=0 for x in all_data[feat]):\n",
        "        for i in all_data.index:\n",
        "            all_data.loc[i,feat] += (1 + np.abs(all_data[feat].min()))\n",
        "all_data[skewed_features] = np.log(all_data[skewed_features])\n",
        "all_data[data_to_normalize] = scaler.fit_transform(all_data[data_to_normalize])\n"
      ],
      "execution_count": 21,
      "outputs": [
        {
          "output_type": "stream",
          "text": [
            "There are 8 skewed numerical features\n"
          ],
          "name": "stdout"
        }
      ]
    },
    {
      "cell_type": "code",
      "metadata": {
        "id": "7NDRwsd-CmMY",
        "colab": {
          "base_uri": "https://localhost:8080/",
          "height": 320
        },
        "outputId": "d40aecb8-f93e-46f4-e228-8db8c2aff89a"
      },
      "source": [
        "all_data.describe()"
      ],
      "execution_count": 22,
      "outputs": [
        {
          "output_type": "execute_result",
          "data": {
            "text/html": [
              "<div>\n",
              "<style scoped>\n",
              "    .dataframe tbody tr th:only-of-type {\n",
              "        vertical-align: middle;\n",
              "    }\n",
              "\n",
              "    .dataframe tbody tr th {\n",
              "        vertical-align: top;\n",
              "    }\n",
              "\n",
              "    .dataframe thead th {\n",
              "        text-align: right;\n",
              "    }\n",
              "</style>\n",
              "<table border=\"1\" class=\"dataframe\">\n",
              "  <thead>\n",
              "    <tr style=\"text-align: right;\">\n",
              "      <th></th>\n",
              "      <th>produto_solicitado</th>\n",
              "      <th>dia_vencimento</th>\n",
              "      <th>tipo_endereco</th>\n",
              "      <th>idade</th>\n",
              "      <th>estado_civil</th>\n",
              "      <th>qtde_dependentes</th>\n",
              "      <th>nacionalidade</th>\n",
              "      <th>tipo_residencia</th>\n",
              "      <th>meses_na_residencia</th>\n",
              "      <th>possui_email</th>\n",
              "      <th>renda_mensal_regular</th>\n",
              "      <th>renda_extra</th>\n",
              "      <th>possui_cartao_visa</th>\n",
              "      <th>possui_cartao_mastercard</th>\n",
              "      <th>possui_cartao_diners</th>\n",
              "      <th>possui_cartao_amex</th>\n",
              "      <th>possui_outros_cartoes</th>\n",
              "      <th>qtde_contas_bancarias</th>\n",
              "      <th>valor_patrimonio_pessoal</th>\n",
              "      <th>possui_carro</th>\n",
              "      <th>meses_no_trabalho</th>\n",
              "      <th>profissao</th>\n",
              "      <th>ocupacao</th>\n",
              "      <th>profissao_companheiro</th>\n",
              "      <th>grau_instrucao_companheiro</th>\n",
              "      <th>local_onde_reside</th>\n",
              "      <th>local_onde_trabalha</th>\n",
              "      <th>inadimplente</th>\n",
              "    </tr>\n",
              "  </thead>\n",
              "  <tbody>\n",
              "    <tr>\n",
              "      <th>count</th>\n",
              "      <td>25000.00000</td>\n",
              "      <td>25000.000000</td>\n",
              "      <td>25000.000000</td>\n",
              "      <td>25000.000000</td>\n",
              "      <td>25000.000000</td>\n",
              "      <td>25000.000000</td>\n",
              "      <td>25000.000000</td>\n",
              "      <td>24339.000000</td>\n",
              "      <td>23188.000000</td>\n",
              "      <td>25000.000000</td>\n",
              "      <td>25000.000000</td>\n",
              "      <td>25000.000000</td>\n",
              "      <td>25000.000000</td>\n",
              "      <td>25000.000000</td>\n",
              "      <td>25000.000000</td>\n",
              "      <td>25000.000000</td>\n",
              "      <td>25000.000000</td>\n",
              "      <td>25000.000000</td>\n",
              "      <td>25000.000000</td>\n",
              "      <td>25000.000000</td>\n",
              "      <td>25000.000000</td>\n",
              "      <td>21141.000000</td>\n",
              "      <td>21332.000000</td>\n",
              "      <td>10599.000000</td>\n",
              "      <td>8930.000000</td>\n",
              "      <td>25000.000000</td>\n",
              "      <td>25000.000000</td>\n",
              "      <td>20000.000000</td>\n",
              "    </tr>\n",
              "    <tr>\n",
              "      <th>mean</th>\n",
              "      <td>1.28712</td>\n",
              "      <td>13.149440</td>\n",
              "      <td>1.006240</td>\n",
              "      <td>0.638972</td>\n",
              "      <td>2.122720</td>\n",
              "      <td>0.085263</td>\n",
              "      <td>0.961400</td>\n",
              "      <td>1.263035</td>\n",
              "      <td>0.339672</td>\n",
              "      <td>0.799080</td>\n",
              "      <td>0.222012</td>\n",
              "      <td>0.026365</td>\n",
              "      <td>0.109840</td>\n",
              "      <td>0.094600</td>\n",
              "      <td>0.001400</td>\n",
              "      <td>0.001960</td>\n",
              "      <td>0.002120</td>\n",
              "      <td>0.228195</td>\n",
              "      <td>0.030211</td>\n",
              "      <td>0.340080</td>\n",
              "      <td>0.000629</td>\n",
              "      <td>8.025212</td>\n",
              "      <td>2.521564</td>\n",
              "      <td>3.667233</td>\n",
              "      <td>0.281075</td>\n",
              "      <td>581.709760</td>\n",
              "      <td>581.709760</td>\n",
              "      <td>0.500000</td>\n",
              "    </tr>\n",
              "    <tr>\n",
              "      <th>std</th>\n",
              "      <td>1.01800</td>\n",
              "      <td>6.743789</td>\n",
              "      <td>0.078748</td>\n",
              "      <td>0.132292</td>\n",
              "      <td>1.333586</td>\n",
              "      <td>0.131602</td>\n",
              "      <td>0.202167</td>\n",
              "      <td>0.885091</td>\n",
              "      <td>0.197285</td>\n",
              "      <td>0.400696</td>\n",
              "      <td>0.064255</td>\n",
              "      <td>0.111946</td>\n",
              "      <td>0.312696</td>\n",
              "      <td>0.292668</td>\n",
              "      <td>0.037391</td>\n",
              "      <td>0.044229</td>\n",
              "      <td>0.045996</td>\n",
              "      <td>0.303452</td>\n",
              "      <td>0.137954</td>\n",
              "      <td>0.473745</td>\n",
              "      <td>0.018893</td>\n",
              "      <td>3.228565</td>\n",
              "      <td>1.534090</td>\n",
              "      <td>5.168124</td>\n",
              "      <td>0.931913</td>\n",
              "      <td>226.591311</td>\n",
              "      <td>226.591311</td>\n",
              "      <td>0.500013</td>\n",
              "    </tr>\n",
              "    <tr>\n",
              "      <th>min</th>\n",
              "      <td>1.00000</td>\n",
              "      <td>1.000000</td>\n",
              "      <td>1.000000</td>\n",
              "      <td>0.000000</td>\n",
              "      <td>0.000000</td>\n",
              "      <td>0.000000</td>\n",
              "      <td>0.000000</td>\n",
              "      <td>0.000000</td>\n",
              "      <td>0.000000</td>\n",
              "      <td>0.000000</td>\n",
              "      <td>0.000000</td>\n",
              "      <td>0.000000</td>\n",
              "      <td>0.000000</td>\n",
              "      <td>0.000000</td>\n",
              "      <td>0.000000</td>\n",
              "      <td>0.000000</td>\n",
              "      <td>0.000000</td>\n",
              "      <td>0.000000</td>\n",
              "      <td>0.000000</td>\n",
              "      <td>0.000000</td>\n",
              "      <td>0.000000</td>\n",
              "      <td>0.000000</td>\n",
              "      <td>0.000000</td>\n",
              "      <td>0.000000</td>\n",
              "      <td>0.000000</td>\n",
              "      <td>105.000000</td>\n",
              "      <td>105.000000</td>\n",
              "      <td>0.000000</td>\n",
              "    </tr>\n",
              "    <tr>\n",
              "      <th>25%</th>\n",
              "      <td>1.00000</td>\n",
              "      <td>10.000000</td>\n",
              "      <td>1.000000</td>\n",
              "      <td>0.547585</td>\n",
              "      <td>1.000000</td>\n",
              "      <td>0.000000</td>\n",
              "      <td>1.000000</td>\n",
              "      <td>1.000000</td>\n",
              "      <td>0.127564</td>\n",
              "      <td>1.000000</td>\n",
              "      <td>0.173174</td>\n",
              "      <td>0.000000</td>\n",
              "      <td>0.000000</td>\n",
              "      <td>0.000000</td>\n",
              "      <td>0.000000</td>\n",
              "      <td>0.000000</td>\n",
              "      <td>0.000000</td>\n",
              "      <td>0.000000</td>\n",
              "      <td>0.000000</td>\n",
              "      <td>0.000000</td>\n",
              "      <td>0.000000</td>\n",
              "      <td>9.000000</td>\n",
              "      <td>1.000000</td>\n",
              "      <td>0.000000</td>\n",
              "      <td>0.000000</td>\n",
              "      <td>444.000000</td>\n",
              "      <td>444.000000</td>\n",
              "      <td>0.000000</td>\n",
              "    </tr>\n",
              "    <tr>\n",
              "      <th>50%</th>\n",
              "      <td>1.00000</td>\n",
              "      <td>10.000000</td>\n",
              "      <td>1.000000</td>\n",
              "      <td>0.641380</td>\n",
              "      <td>2.000000</td>\n",
              "      <td>0.000000</td>\n",
              "      <td>1.000000</td>\n",
              "      <td>1.000000</td>\n",
              "      <td>0.358117</td>\n",
              "      <td>1.000000</td>\n",
              "      <td>0.207610</td>\n",
              "      <td>0.000000</td>\n",
              "      <td>0.000000</td>\n",
              "      <td>0.000000</td>\n",
              "      <td>0.000000</td>\n",
              "      <td>0.000000</td>\n",
              "      <td>0.000000</td>\n",
              "      <td>0.000000</td>\n",
              "      <td>0.000000</td>\n",
              "      <td>0.000000</td>\n",
              "      <td>0.000000</td>\n",
              "      <td>9.000000</td>\n",
              "      <td>2.000000</td>\n",
              "      <td>0.000000</td>\n",
              "      <td>0.000000</td>\n",
              "      <td>596.000000</td>\n",
              "      <td>596.000000</td>\n",
              "      <td>0.500000</td>\n",
              "    </tr>\n",
              "    <tr>\n",
              "      <th>75%</th>\n",
              "      <td>1.00000</td>\n",
              "      <td>20.000000</td>\n",
              "      <td>1.000000</td>\n",
              "      <td>0.737925</td>\n",
              "      <td>2.000000</td>\n",
              "      <td>0.173765</td>\n",
              "      <td>1.000000</td>\n",
              "      <td>1.000000</td>\n",
              "      <td>0.510256</td>\n",
              "      <td>1.000000</td>\n",
              "      <td>0.256879</td>\n",
              "      <td>0.000000</td>\n",
              "      <td>0.000000</td>\n",
              "      <td>0.000000</td>\n",
              "      <td>0.000000</td>\n",
              "      <td>0.000000</td>\n",
              "      <td>0.000000</td>\n",
              "      <td>0.630930</td>\n",
              "      <td>0.000000</td>\n",
              "      <td>1.000000</td>\n",
              "      <td>0.000000</td>\n",
              "      <td>9.000000</td>\n",
              "      <td>4.000000</td>\n",
              "      <td>11.000000</td>\n",
              "      <td>0.000000</td>\n",
              "      <td>728.000000</td>\n",
              "      <td>728.000000</td>\n",
              "      <td>1.000000</td>\n",
              "    </tr>\n",
              "    <tr>\n",
              "      <th>max</th>\n",
              "      <td>7.00000</td>\n",
              "      <td>25.000000</td>\n",
              "      <td>2.000000</td>\n",
              "      <td>1.000000</td>\n",
              "      <td>7.000000</td>\n",
              "      <td>1.000000</td>\n",
              "      <td>2.000000</td>\n",
              "      <td>5.000000</td>\n",
              "      <td>1.000000</td>\n",
              "      <td>1.000000</td>\n",
              "      <td>1.000000</td>\n",
              "      <td>1.000000</td>\n",
              "      <td>1.000000</td>\n",
              "      <td>1.000000</td>\n",
              "      <td>1.000000</td>\n",
              "      <td>1.000000</td>\n",
              "      <td>1.000000</td>\n",
              "      <td>1.000000</td>\n",
              "      <td>1.000000</td>\n",
              "      <td>1.000000</td>\n",
              "      <td>1.000000</td>\n",
              "      <td>18.000000</td>\n",
              "      <td>5.000000</td>\n",
              "      <td>17.000000</td>\n",
              "      <td>5.000000</td>\n",
              "      <td>999.000000</td>\n",
              "      <td>999.000000</td>\n",
              "      <td>1.000000</td>\n",
              "    </tr>\n",
              "  </tbody>\n",
              "</table>\n",
              "</div>"
            ],
            "text/plain": [
              "       produto_solicitado  dia_vencimento  ...  local_onde_trabalha  inadimplente\n",
              "count         25000.00000    25000.000000  ...         25000.000000  20000.000000\n",
              "mean              1.28712       13.149440  ...           581.709760      0.500000\n",
              "std               1.01800        6.743789  ...           226.591311      0.500013\n",
              "min               1.00000        1.000000  ...           105.000000      0.000000\n",
              "25%               1.00000       10.000000  ...           444.000000      0.000000\n",
              "50%               1.00000       10.000000  ...           596.000000      0.500000\n",
              "75%               1.00000       20.000000  ...           728.000000      1.000000\n",
              "max               7.00000       25.000000  ...           999.000000      1.000000\n",
              "\n",
              "[8 rows x 28 columns]"
            ]
          },
          "metadata": {
            "tags": []
          },
          "execution_count": 22
        }
      ]
    },
    {
      "cell_type": "markdown",
      "metadata": {
        "id": "f4gJC5ieNn76"
      },
      "source": [
        "# FILL NAN"
      ]
    },
    {
      "cell_type": "code",
      "metadata": {
        "id": "xnZcizKANqfT",
        "colab": {
          "base_uri": "https://localhost:8080/"
        },
        "outputId": "97a96388-0a45-4be8-8e6d-69326dd48fce"
      },
      "source": [
        "all_data['sexo'].fillna('N')\n",
        "all_data['sexo'].isna().sum()"
      ],
      "execution_count": 23,
      "outputs": [
        {
          "output_type": "execute_result",
          "data": {
            "text/plain": [
              "0"
            ]
          },
          "metadata": {
            "tags": []
          },
          "execution_count": 23
        }
      ]
    },
    {
      "cell_type": "code",
      "metadata": {
        "id": "Fe7rdz6fRP7B"
      },
      "source": [
        "all_data.replace(\"XX\",np.nan,inplace=True)"
      ],
      "execution_count": 24,
      "outputs": []
    },
    {
      "cell_type": "markdown",
      "metadata": {
        "id": "zcL7Si5_eGek"
      },
      "source": [
        "# Define Metrics for model evaluation"
      ]
    },
    {
      "cell_type": "code",
      "metadata": {
        "id": "SGQO9RcdP8GX"
      },
      "source": [
        "def tn(y_true, y_pred): return confusion_matrix(y_true, y_pred)[0, 0]\n",
        "def fp(y_true, y_pred): return confusion_matrix(y_true, y_pred)[0, 1]\n",
        "def fn(y_true, y_pred): return confusion_matrix(y_true, y_pred)[1, 0]\n",
        "def tp(y_true, y_pred): return confusion_matrix(y_true, y_pred)[1, 1]\n",
        "scoring = {'accuracy' : make_scorer(accuracy_score), \n",
        "           'precision' : make_scorer(precision_score),\n",
        "           'recall' : make_scorer(recall_score), \n",
        "           'f1_score' : make_scorer(f1_score),\n",
        "          'roc_auc':  make_scorer(roc_auc_score),\n",
        "          'tp' : make_scorer(tp), 'tn' : make_scorer(tn),\n",
        "           'fp' : make_scorer(fp), 'fn' : make_scorer(fn)}"
      ],
      "execution_count": 25,
      "outputs": []
    },
    {
      "cell_type": "code",
      "metadata": {
        "id": "sxNZGw9dRTdl"
      },
      "source": [
        "resultado_metricas = {\"treino\":pd.DataFrame({\"Name\":['acuracia','precisão','recall','f1_score','roc_auc','tp','tn','fp','fn']})} #'tp','tn','fp','fn'\n",
        "scores_geral = {}\n",
        "def armazena_resultado(nome_modelo,scores):\n",
        "    media = {'acuracia':np.mean(scores['test_accuracy']),'precisão':np.mean(scores['test_precision'])\n",
        "             ,'recall':np.mean(scores['test_recall']),'f1_score':np.mean(scores['test_f1_score'])\n",
        "             ,'roc_auc':np.mean(scores['test_roc_auc']),\n",
        "            'tp':np.sum(scores['test_tp']),'tn':np.sum(scores['test_tn']),'fp':np.sum(scores['test_fp']),'fn':np.sum(scores['test_fn'])}\n",
        "    var = {'acuracia':np.var(scores['test_accuracy']),'precisão':np.var(scores['test_precision'])\n",
        "             ,'recall':np.var(scores['test_recall']),'f1_score':np.var(scores['test_f1_score'])\n",
        "             ,'roc_auc':np.var(scores['test_roc_auc']),\n",
        "                              'tp':-1,'tn':-1,'fp':-1,'fn':-1}\n",
        "    resultado_metricas[\"treino\"][nome_modelo] = [ v for v in media.values() ]\n",
        "    resultado_metricas[\"treino\"][nome_modelo+\" Var\"] = [ v for v in var.values() ]\n",
        "    return media,var"
      ],
      "execution_count": 26,
      "outputs": []
    },
    {
      "cell_type": "markdown",
      "metadata": {
        "id": "scocjx_gffSm"
      },
      "source": [
        "# Catboost/Leave-one-out and Fill Missing Data with KNN imputer"
      ]
    },
    {
      "cell_type": "code",
      "metadata": {
        "id": "6eTwITLePgRa"
      },
      "source": [
        "float_to_str_cols = ['profissao','ocupacao','local_onde_reside',\n",
        "                'local_onde_trabalha','profissao_companheiro',\n",
        "                'grau_instrucao_companheiro','tipo_residencia',\n",
        "                'dia_vencimento','produto_solicitado',\n",
        "                'tipo_endereco','estado_civil','nacionalidade']"
      ],
      "execution_count": 27,
      "outputs": []
    },
    {
      "cell_type": "code",
      "metadata": {
        "id": "crw-EHzocQfn"
      },
      "source": [
        "for col in float_to_str_cols:\n",
        "  if col not in categorical_cols:\n",
        "    numerical_cols.remove(col)\n",
        "    categorical_cols.append(col)"
      ],
      "execution_count": 28,
      "outputs": []
    },
    {
      "cell_type": "code",
      "metadata": {
        "id": "o4ODh7v2HIHS"
      },
      "source": [
        "\n",
        "class float_to_str(BaseEstimator,TransformerMixin):\n",
        "  def __init__(self,cols_to_transform):\n",
        "    self.cols = cols_to_transform\n",
        "    self.map = {}\n",
        "  def fit(self,X,y):\n",
        "    for column in self.cols:\n",
        "      self.map[column] = [X[column].max() + 1]\n",
        "    return self\n",
        "  def transform(self,X):\n",
        "    x_transformed = X.copy(deep=True)\n",
        "    for column in self.cols:\n",
        "      if (x_transformed[column].isnull().values.any()):\n",
        "        print(\"Replacing nan in {} for {}\".format(column,self.map[column][0]))\n",
        "        x_transformed[column].fillna(self.map[column][0],inplace=True)\n",
        "    x_transformed[self.cols] = x_transformed[self.cols].astype(\"int64\")\n",
        "    #x_transformed[self.cols] = x_transformed[self.cols].astype(str)\n",
        "    return x_transformed"
      ],
      "execution_count": 29,
      "outputs": []
    },
    {
      "cell_type": "code",
      "metadata": {
        "id": "WygQWsmbTJ_j",
        "colab": {
          "base_uri": "https://localhost:8080/"
        },
        "outputId": "00c02c96-1fb0-40aa-9170-25f0ccaad231"
      },
      "source": [
        "t = float_to_str(float_to_str_cols)\n",
        "t.fit(all_data[input_cols].iloc[:20000],all_data[output_col].iloc[:20000])\n",
        "t.map"
      ],
      "execution_count": 30,
      "outputs": [
        {
          "output_type": "execute_result",
          "data": {
            "text/plain": [
              "{'dia_vencimento': [26],\n",
              " 'estado_civil': [8],\n",
              " 'grau_instrucao_companheiro': [6.0],\n",
              " 'local_onde_reside': [1000.0],\n",
              " 'local_onde_trabalha': [1000.0],\n",
              " 'nacionalidade': [3],\n",
              " 'ocupacao': [6.0],\n",
              " 'produto_solicitado': [8],\n",
              " 'profissao': [18.0],\n",
              " 'profissao_companheiro': [18.0],\n",
              " 'tipo_endereco': [3],\n",
              " 'tipo_residencia': [6.0]}"
            ]
          },
          "metadata": {
            "tags": []
          },
          "execution_count": 30
        }
      ]
    },
    {
      "cell_type": "code",
      "metadata": {
        "id": "0pIQGBT0EO9N",
        "colab": {
          "base_uri": "https://localhost:8080/"
        },
        "outputId": "65db5fdd-8ad4-4c42-f356-cdd7fe8c956d"
      },
      "source": [
        "#np.count_nonzero(all_data[input_cols].isna())\n",
        "x_t = t.transform(all_data.iloc[:20000])\n",
        "x_teste = t.transform(all_data.iloc[20000:])\n",
        "np.count_nonzero(x_t.isna())"
      ],
      "execution_count": 31,
      "outputs": [
        {
          "output_type": "stream",
          "text": [
            "Replacing nan in profissao for 18.0\n",
            "Replacing nan in ocupacao for 6.0\n",
            "Replacing nan in profissao_companheiro for 18.0\n",
            "Replacing nan in grau_instrucao_companheiro for 6.0\n",
            "Replacing nan in tipo_residencia for 6.0\n",
            "Replacing nan in profissao for 18.0\n",
            "Replacing nan in ocupacao for 6.0\n",
            "Replacing nan in profissao_companheiro for 18.0\n",
            "Replacing nan in grau_instrucao_companheiro for 6.0\n",
            "Replacing nan in tipo_residencia for 6.0\n"
          ],
          "name": "stdout"
        },
        {
          "output_type": "execute_result",
          "data": {
            "text/plain": [
              "1450"
            ]
          },
          "metadata": {
            "tags": []
          },
          "execution_count": 31
        }
      ]
    },
    {
      "cell_type": "code",
      "metadata": {
        "id": "48v6sWQCmClE",
        "colab": {
          "base_uri": "https://localhost:8080/"
        },
        "outputId": "360b9af1-fc45-4a63-e3be-dc15bcd76acd"
      },
      "source": [
        "x_t[float_to_str_cols].dtypes"
      ],
      "execution_count": 32,
      "outputs": [
        {
          "output_type": "execute_result",
          "data": {
            "text/plain": [
              "profissao                     int64\n",
              "ocupacao                      int64\n",
              "local_onde_reside             int64\n",
              "local_onde_trabalha           int64\n",
              "profissao_companheiro         int64\n",
              "grau_instrucao_companheiro    int64\n",
              "tipo_residencia               int64\n",
              "dia_vencimento                int64\n",
              "produto_solicitado            int64\n",
              "tipo_endereco                 int64\n",
              "estado_civil                  int64\n",
              "nacionalidade                 int64\n",
              "dtype: object"
            ]
          },
          "metadata": {
            "tags": []
          },
          "execution_count": 32
        }
      ]
    },
    {
      "cell_type": "code",
      "metadata": {
        "id": "LiUMxootCu7y"
      },
      "source": [
        "class LOO_ENC(BaseEstimator,TransformerMixin):\n",
        "  def __init__(self,map=t.map,sigma=None,categorical_cols=categorical_cols,handle_missing=False):\n",
        "    self.sigma = sigma\n",
        "    self.handle_missing = handle_missing\n",
        "    self.reverse_map = {}\n",
        "    self.map = map\n",
        "    self.cols = categorical_cols\n",
        "    self.enc = None\n",
        "    \n",
        "  def fit(self,X,y):\n",
        "    c = LeaveOneOutEncoder(\n",
        "                          sigma=self.sigma,\n",
        "                          cols=self.cols\n",
        "                          )\n",
        "    self.enc = c.fit(X,y)\n",
        "    a = pd.DataFrame.from_dict(self.map)\n",
        "    a = a.astype(\"int64\")\n",
        "    b = pd.DataFrame.from_dict(X.iloc[0:2].to_dict())\n",
        "    for col in list(self.map.keys()):\n",
        "      if col in list(b.columns):\n",
        "        b[col].iloc[0] = a[col].iloc[0]\n",
        "    transformed = self.enc.transform(b)\n",
        "    for key in list(self.map.keys()):\n",
        "      self.reverse_map[key] = (a[key].iloc[0],transformed[key].iloc[0])\n",
        "    return self\n",
        "  def transform(self,X):\n",
        "    t = self.enc.transform(X)\n",
        "    t = t.astype(\"float64\")\n",
        "    #print(\"Handle missing {}\\n\".format(self.handle_missing)\n",
        "    if not (self.handle_missing):\n",
        "      for col in list(self.map.keys()):\n",
        "        if (self.reverse_map[col][1] in t[col].values):\n",
        "          #print(\"\\nReplacing {} in column {}\\n\".format(self.reverse_map[col][1],col))\n",
        "          t[col].replace(to_replace=self.reverse_map[col][1],value= np.nan,inplace=True)\n",
        "        #else:\n",
        "          #print(\"\\n {} not found in column {}\\n\".format(self.reverse_map[col][1],col))\n",
        "          #print(\"============================== unique values of {}=============\\n\".format(col))\n",
        "          #print(np.unique(t[col]))\n",
        "          #print(\"================================================================\\n\")\n",
        "    #print(t.columns[t.isna().any()].tolist())\n",
        "    return t\n"
      ],
      "execution_count": 33,
      "outputs": []
    },
    {
      "cell_type": "code",
      "metadata": {
        "id": "jBGW75WaSxuM"
      },
      "source": [
        "class CATB_ENC(BaseEstimator,TransformerMixin):\n",
        "  def __init__(self,map=t.map,a=1,sigma=None,categorical_cols=categorical_cols,handle_missing=False):\n",
        "    self.a = a\n",
        "    self.sigma = sigma\n",
        "    self.handle_missing = handle_missing\n",
        "    self.reverse_map = {}\n",
        "    self.map = map\n",
        "    self.cols = categorical_cols\n",
        "    self.enc = None\n",
        "    \n",
        "  def fit(self,X,y):\n",
        "    c = CatBoostEncoder(\n",
        "                        sigma=self.sigma,\n",
        "                        cols=self.cols\n",
        "                        )\n",
        "    self.enc = c.fit(X,y)\n",
        "    a = pd.DataFrame.from_dict(self.map)\n",
        "    a = a.astype(\"int64\")\n",
        "    b = pd.DataFrame.from_dict(X.iloc[0:2].to_dict())\n",
        "    for col in list(self.map.keys()):\n",
        "      if col in list(b.columns):\n",
        "        b[col].iloc[0] = a[col].iloc[0]\n",
        "    transformed = self.enc.transform(b)\n",
        "    for key in list(self.map.keys()):\n",
        "      self.reverse_map[key] = (a[key].iloc[0],transformed[key].iloc[0])\n",
        "    \n",
        "    return self\n",
        "  def transform(self,X):\n",
        "    t = self.enc.transform(X)\n",
        "    t = t.astype(\"float64\")\n",
        "    #print(\"Handle missing {}\\n\".format(self.handle_missing))\n",
        "    if not (self.handle_missing):\n",
        "      for col in list(self.map.keys()):\n",
        "        if (self.reverse_map[col][1] in t[col].values):\n",
        "          #print(\"\\nReplacing {} in column {}\\n\".format(self.reverse_map[col][1],col))\n",
        "          t[col].replace(to_replace=self.reverse_map[col][1],value= np.nan,inplace=True)\n",
        "        #else:\n",
        "          #print(\"\\n {} not found in column {}\\n\".format(self.reverse_map[col][1],col))\n",
        "          #print(\"============================== unique values of {}=============\\n\".format(col))\n",
        "          #print(np.unique(t[col]))\n",
        "          #print(\"================================================================\\n\")\n",
        "    #print(t.columns[t.isna().any()].tolist())\n",
        "    return t\n"
      ],
      "execution_count": 34,
      "outputs": []
    },
    {
      "cell_type": "code",
      "metadata": {
        "id": "MDwJEWmXb8qa",
        "colab": {
          "base_uri": "https://localhost:8080/"
        },
        "outputId": "16e60645-422d-4810-9ded-cdaf8ac1dbaf"
      },
      "source": [
        "flag = 0\n",
        "for x in float_to_str_cols:\n",
        "  if x in categorical_cols:\n",
        "    print(x)\n",
        "    flag += 1\n",
        "len(float_to_str_cols)"
      ],
      "execution_count": 35,
      "outputs": [
        {
          "output_type": "stream",
          "text": [
            "profissao\n",
            "ocupacao\n",
            "local_onde_reside\n",
            "local_onde_trabalha\n",
            "profissao_companheiro\n",
            "grau_instrucao_companheiro\n",
            "tipo_residencia\n",
            "dia_vencimento\n",
            "produto_solicitado\n",
            "tipo_endereco\n",
            "estado_civil\n",
            "nacionalidade\n"
          ],
          "name": "stdout"
        },
        {
          "output_type": "execute_result",
          "data": {
            "text/plain": [
              "12"
            ]
          },
          "metadata": {
            "tags": []
          },
          "execution_count": 35
        }
      ]
    },
    {
      "cell_type": "code",
      "metadata": {
        "id": "UvcJLxk-rVYY",
        "colab": {
          "base_uri": "https://localhost:8080/"
        },
        "outputId": "8fe24151-be05-4b02-e32a-4140396330b7"
      },
      "source": [
        "output_col in input_cols"
      ],
      "execution_count": 36,
      "outputs": [
        {
          "output_type": "execute_result",
          "data": {
            "text/plain": [
              "False"
            ]
          },
          "metadata": {
            "tags": []
          },
          "execution_count": 36
        }
      ]
    },
    {
      "cell_type": "markdown",
      "metadata": {
        "id": "vMx3A4wQ6v_c"
      },
      "source": [
        "## FIND BEST ENCODER"
      ]
    },
    {
      "cell_type": "code",
      "metadata": {
        "id": "mgMpdaKtbJei",
        "colab": {
          "base_uri": "https://localhost:8080/",
          "height": 192
        },
        "outputId": "fd2fbc41-1ec3-4566-9a32-05319245f5e6"
      },
      "source": [
        "\"\"\"encoder = CATB_ENC()\n",
        "imputer = KNNImputer()\n",
        "model = RandomForestClassifier()\n",
        "balancer = SMOTE()\n",
        "pipe = pipeline.Pipeline(steps=[\n",
        "    ('encoder',encoder),\n",
        "    ('imputer',imputer),\n",
        "    ('balancer',balancer),\n",
        "    ('model',model)\n",
        "])\n",
        "\n",
        "catboost_search = {\n",
        "    'encoder__a': Real(0,300,'uniform'),\n",
        "    'encoder__sigma':Real(0,1,'uniform'),\n",
        "    'encoder__handle_missing':Categorical([True,False]),\n",
        "    'balancer':Categorical([\n",
        "                                SVMSMOTE(random_state=42),\n",
        "                                BorderlineSMOTE(kind='borderline-1',random_state=42),\n",
        "                                BorderlineSMOTE(kind='borderline-2',random_state=42),\n",
        "                                SMOTEENN(random_state=42),\n",
        "                                SMOTETomek(random_state=42),\n",
        "                                ADASYN(random_state=42),\n",
        "                                None\n",
        "                                ]),\n",
        "    'imputer__n_neighbors':Integer(3,7)\n",
        "}\n",
        "\n",
        "opt = BayesSearchCV(\n",
        "    estimator=pipe,\n",
        "    # (parameter space, # of evaluations)\n",
        "    search_spaces=catboost_search,\n",
        "    n_iter = 150,\n",
        "    scoring=make_scorer(f1_score),\n",
        "    cv=5\n",
        ")\n",
        "\n",
        "opt.fit(x_t[input_cols].iloc[:40000],x_t[output_col].iloc[:40000])\n",
        "print(\"val. score: %s\" % opt.best_score_)\n",
        "#print(\"test score: %s\" % opt.score(X_test, y_test))\n",
        "print(\"best params: %s\" % str(opt.best_params_))\"\"\""
      ],
      "execution_count": 37,
      "outputs": [
        {
          "output_type": "execute_result",
          "data": {
            "application/vnd.google.colaboratory.intrinsic+json": {
              "type": "string"
            },
            "text/plain": [
              "'encoder = CATB_ENC()\\nimputer = KNNImputer()\\nmodel = RandomForestClassifier()\\nbalancer = SMOTE()\\npipe = pipeline.Pipeline(steps=[\\n    (\\'encoder\\',encoder),\\n    (\\'imputer\\',imputer),\\n    (\\'balancer\\',balancer),\\n    (\\'model\\',model)\\n])\\n\\ncatboost_search = {\\n    \\'encoder__a\\': Real(0,300,\\'uniform\\'),\\n    \\'encoder__sigma\\':Real(0,1,\\'uniform\\'),\\n    \\'encoder__handle_missing\\':Categorical([True,False]),\\n    \\'balancer\\':Categorical([\\n                                SVMSMOTE(random_state=42),\\n                                BorderlineSMOTE(kind=\\'borderline-1\\',random_state=42),\\n                                BorderlineSMOTE(kind=\\'borderline-2\\',random_state=42),\\n                                SMOTEENN(random_state=42),\\n                                SMOTETomek(random_state=42),\\n                                ADASYN(random_state=42),\\n                                None\\n                                ]),\\n    \\'imputer__n_neighbors\\':Integer(3,7)\\n}\\n\\nopt = BayesSearchCV(\\n    estimator=pipe,\\n    # (parameter space, # of evaluations)\\n    search_spaces=catboost_search,\\n    n_iter = 150,\\n    scoring=make_scorer(f1_score),\\n    cv=5\\n)\\n\\nopt.fit(x_t[input_cols].iloc[:40000],x_t[output_col].iloc[:40000])\\nprint(\"val. score: %s\" % opt.best_score_)\\n#print(\"test score: %s\" % opt.score(X_test, y_test))\\nprint(\"best params: %s\" % str(opt.best_params_))'"
            ]
          },
          "metadata": {
            "tags": []
          },
          "execution_count": 37
        }
      ]
    },
    {
      "cell_type": "code",
      "metadata": {
        "id": "WNQr7-FSH8nM"
      },
      "source": [
        ""
      ],
      "execution_count": 37,
      "outputs": []
    },
    {
      "cell_type": "code",
      "metadata": {
        "id": "VeDR-BdAIlAa",
        "colab": {
          "base_uri": "https://localhost:8080/",
          "height": 193
        },
        "outputId": "5a48d001-ff69-458a-bbf0-7a6cd707d346"
      },
      "source": [
        "\"\"\"encoder = LOO_ENC()\n",
        "imputer = KNNImputer()\n",
        "balancer =SMOTE()\n",
        "model = RandomForestClassifier()\n",
        "\n",
        "pipe = pipeline.Pipeline(steps=[\n",
        "    ('encoder',encoder),\n",
        "    ('imputer',imputer),\n",
        "    ('balancer',balancer),\n",
        "    ('model',model)\n",
        "])\n",
        "\n",
        "loo_search = {\n",
        "    'encoder__sigma':Real(0,1,'uniform'),\n",
        "    'encoder__handle_missing':Categorical([True,False]),\n",
        "    'balancer':Categorical([\n",
        "                                SVMSMOTE(random_state=42),\n",
        "                                BorderlineSMOTE(kind='borderline-1',random_state=42),\n",
        "                                BorderlineSMOTE(kind='borderline-2',random_state=42),\n",
        "                                SMOTEENN(random_state=42),\n",
        "                                SMOTETomek(random_state=42),\n",
        "                                ADASYN(random_state=42),\n",
        "                                None\n",
        "                                ]),\n",
        "    'imputer__n_neighbors':Integer(3,7)\n",
        "}\n",
        "\n",
        "opt = BayesSearchCV(\n",
        "    pipe,\n",
        "    [(loo_search, 50)],\n",
        "    scoring=make_scorer(f1_score),\n",
        "    cv=5\n",
        ")\n",
        "\n",
        "opt.fit(x_t[input_cols].iloc[:40000],x_t[output_col].iloc[:40000])\n",
        "print(\"val. score: %s\" % opt.best_score_)\n",
        "#print(\"test score: %s\" % opt.score(X_test, y_test))\n",
        "print(\"best params: %s\" % str(opt.best_params_))\"\"\""
      ],
      "execution_count": 38,
      "outputs": [
        {
          "output_type": "execute_result",
          "data": {
            "application/vnd.google.colaboratory.intrinsic+json": {
              "type": "string"
            },
            "text/plain": [
              "'encoder = LOO_ENC()\\nimputer = KNNImputer()\\nbalancer =SMOTE()\\nmodel = RandomForestClassifier()\\n\\npipe = pipeline.Pipeline(steps=[\\n    (\\'encoder\\',encoder),\\n    (\\'imputer\\',imputer),\\n    (\\'balancer\\',balancer),\\n    (\\'model\\',model)\\n])\\n\\nloo_search = {\\n    \\'encoder__sigma\\':Real(0,1,\\'uniform\\'),\\n    \\'encoder__handle_missing\\':Categorical([True,False]),\\n    \\'balancer\\':Categorical([\\n                                SVMSMOTE(random_state=42),\\n                                BorderlineSMOTE(kind=\\'borderline-1\\',random_state=42),\\n                                BorderlineSMOTE(kind=\\'borderline-2\\',random_state=42),\\n                                SMOTEENN(random_state=42),\\n                                SMOTETomek(random_state=42),\\n                                ADASYN(random_state=42),\\n                                None\\n                                ]),\\n    \\'imputer__n_neighbors\\':Integer(3,7)\\n}\\n\\nopt = BayesSearchCV(\\n    pipe,\\n    [(loo_search, 50)],\\n    scoring=make_scorer(f1_score),\\n    cv=5\\n)\\n\\nopt.fit(x_t[input_cols].iloc[:40000],x_t[output_col].iloc[:40000])\\nprint(\"val. score: %s\" % opt.best_score_)\\n#print(\"test score: %s\" % opt.score(X_test, y_test))\\nprint(\"best params: %s\" % str(opt.best_params_))'"
            ]
          },
          "metadata": {
            "tags": []
          },
          "execution_count": 38
        }
      ]
    },
    {
      "cell_type": "code",
      "metadata": {
        "id": "81zAAx2VpQDz"
      },
      "source": [
        ""
      ],
      "execution_count": 38,
      "outputs": []
    },
    {
      "cell_type": "markdown",
      "metadata": {
        "id": "OCULr7q7Q81x"
      },
      "source": [
        "# Dataset balancing "
      ]
    },
    {
      "cell_type": "code",
      "metadata": {
        "id": "V36AGDViLdtu",
        "colab": {
          "base_uri": "https://localhost:8080/",
          "height": 192
        },
        "outputId": "4c52638d-e9b4-49e6-8dac-f84490b46615"
      },
      "source": [
        "\"\"\"encoder = CATB_ENC(a=266.5329266984254,sigma=0.9929629546750682,handle_missing=True)\n",
        "imputer = KNNImputer(n_neighbors=7)\n",
        "balancer = SMOTE()\n",
        "model = RandomForestClassifier()\n",
        "pipe = pipeline.Pipeline(steps=[\n",
        "    ('encoder',encoder),\n",
        "    ('imputer',imputer),\n",
        "    ('balancer',balancer),\n",
        "    ('model',model)\n",
        "])\n",
        "\n",
        "\n",
        "balancer_search = {'balancer': [\n",
        "                                SVMSMOTE(random_state=42),\n",
        "                                BorderlineSMOTE(kind='borderline-1',random_state=42),\n",
        "                                BorderlineSMOTE(kind='borderline-2',random_state=42),\n",
        "                                SMOTEENN(random_state=42),\n",
        "                                SMOTETomek(random_state=42),\n",
        "                                ADASYN(random_state=42),\n",
        "                                None\n",
        "                                ]}\n",
        "\n",
        "cv = StratifiedKFold(n_splits=5, shuffle=True, random_state=19)\n",
        "clf = GridSearchCV(pipe,balancer_search,scoring=make_scorer(f1_score),n_jobs=-1, cv=cv,return_train_score=False)\n",
        "clf.fit(x_t[input_cols].iloc[:40000],x_t[output_col].iloc[:40000])\n",
        "print(clf.score(x_t[input_cols].iloc[:40000],x_t[output_col].iloc[:40000]))\n",
        "print(clf.best_params_)\"\"\""
      ],
      "execution_count": 39,
      "outputs": [
        {
          "output_type": "execute_result",
          "data": {
            "application/vnd.google.colaboratory.intrinsic+json": {
              "type": "string"
            },
            "text/plain": [
              "\"encoder = CATB_ENC(a=266.5329266984254,sigma=0.9929629546750682,handle_missing=True)\\nimputer = KNNImputer(n_neighbors=7)\\nbalancer = SMOTE()\\nmodel = RandomForestClassifier()\\npipe = pipeline.Pipeline(steps=[\\n    ('encoder',encoder),\\n    ('imputer',imputer),\\n    ('balancer',balancer),\\n    ('model',model)\\n])\\n\\n\\nbalancer_search = {'balancer': [\\n                                SVMSMOTE(random_state=42),\\n                                BorderlineSMOTE(kind='borderline-1',random_state=42),\\n                                BorderlineSMOTE(kind='borderline-2',random_state=42),\\n                                SMOTEENN(random_state=42),\\n                                SMOTETomek(random_state=42),\\n                                ADASYN(random_state=42),\\n                                None\\n                                ]}\\n\\ncv = StratifiedKFold(n_splits=5, shuffle=True, random_state=19)\\nclf = GridSearchCV(pipe,balancer_search,scoring=make_scorer(f1_score),n_jobs=-1, cv=cv,return_train_score=False)\\nclf.fit(x_t[input_cols].iloc[:40000],x_t[output_col].iloc[:40000])\\nprint(clf.score(x_t[input_cols].iloc[:40000],x_t[output_col].iloc[:40000]))\\nprint(clf.best_params_)\""
            ]
          },
          "metadata": {
            "tags": []
          },
          "execution_count": 39
        }
      ]
    },
    {
      "cell_type": "code",
      "metadata": {
        "id": "whusfzc-YNuD"
      },
      "source": [
        "def impute(X_treino,X_teste,Y_treino,Y_teste):\n",
        "  imputer = KNNImputer(n_neighbors=7)\n",
        "  X_treino[input_cols] = imputer.fit_transform(X_treino)\n",
        "  X_teste[input_cols] = imputer.transform(X_teste)\n",
        "  X_treino[output_col] = Y_treino\n",
        "  #X_treino.to_csv('Training_data_imputed_LOO.csv')\n",
        "  X_teste[output_col] = Y_teste\n",
        "  #X_teste.to_csv('Test_data_imputed_LOO.csv')\n",
        "  return X_treino,X_teste"
      ],
      "execution_count": 40,
      "outputs": []
    },
    {
      "cell_type": "code",
      "metadata": {
        "id": "IJUt9cLbs1UQ"
      },
      "source": [
        "encoder = CATB_ENC(a=266.5329266984254,sigma=0.9929629546750682,handle_missing=True)\n",
        "X_treino = encoder.fit_transform(x_t[input_cols],\n",
        "                                  x_t[output_col])\n",
        "X_teste = encoder.transform(x_teste[input_cols])\n",
        "Y_treino = x_t[output_col].iloc[:40000]\n",
        "Y_teste = x_teste[output_col].iloc[40000:]\n",
        "X_treino, X_teste = impute(X_treino,X_teste,Y_treino,Y_teste)\n",
        "smt = SMOTEENN(random_state=42)\n",
        "X_resampled, y_resampled = smt.fit_resample(X_treino[input_cols],X_treino[output_col])"
      ],
      "execution_count": 41,
      "outputs": []
    },
    {
      "cell_type": "code",
      "metadata": {
        "id": "X99IHeX1x-HM"
      },
      "source": [
        "df_resampled = pd.DataFrame.from_records(X_resampled,columns=input_cols)\n",
        "df_resampled[output_col] = y_resampled\n"
      ],
      "execution_count": 42,
      "outputs": []
    },
    {
      "cell_type": "code",
      "metadata": {
        "id": "pvFuNQ6lHJXc"
      },
      "source": [
        "df_resampled.to_csv(\"Training_data_imputed_CATB_SMOTEENN_resampled.csv\")"
      ],
      "execution_count": 43,
      "outputs": []
    },
    {
      "cell_type": "code",
      "metadata": {
        "id": "hvCAA_NPNiOS"
      },
      "source": [
        "X_teste.to_csv(\"Test_Data_CATB_encoded.csv\")"
      ],
      "execution_count": 44,
      "outputs": []
    },
    {
      "cell_type": "code",
      "metadata": {
        "id": "9oRTfBZCQE6y"
      },
      "source": [
        "#df_resampled = pd.read_csv(path+\"Training_data_imputed_CATB_SMOTEENN_resampled.csv\",index_col='Unnamed: 0')"
      ],
      "execution_count": 45,
      "outputs": []
    },
    {
      "cell_type": "code",
      "metadata": {
        "id": "lTGfmaKDX9h0"
      },
      "source": [
        "#X_teste =  pd.read_csv(path+\"Test_Data_CATB_encoded.csv\",index_col='Unnamed: 0')"
      ],
      "execution_count": 46,
      "outputs": []
    },
    {
      "cell_type": "code",
      "metadata": {
        "id": "cAoGUX6-RR0S"
      },
      "source": [
        "input_cols = list(df_resampled.columns)\n",
        "input_cols.remove('inadimplente')\n",
        "output_col = 'inadimplente'"
      ],
      "execution_count": 47,
      "outputs": []
    },
    {
      "cell_type": "markdown",
      "metadata": {
        "id": "3h9kDlznONih"
      },
      "source": [
        "# Feature Selection\n"
      ]
    },
    {
      "cell_type": "code",
      "metadata": {
        "id": "g0T5HmjlOXLc",
        "colab": {
          "base_uri": "https://localhost:8080/",
          "height": 802
        },
        "outputId": "0b0959d3-200f-49f6-9b27-34e042a0b3fe"
      },
      "source": [
        "corrmat = df_resampled.corr()\n",
        "f, ax = plt.subplots(figsize=(12, 12))\n",
        "sns.heatmap(corrmat,cmap=sns.color_palette(\"RdBu_r\", 1000), vmin=-1,vmax=1, square=True)\n",
        "plt.savefig('CorrelationMatrix.png')"
      ],
      "execution_count": 48,
      "outputs": [
        {
          "output_type": "display_data",
          "data": {
            "image/png": "[encoded data removed]",
            "text/plain": [
              "<Figure size 864x864 with 2 Axes>"
            ]
          },
          "metadata": {
            "tags": [],
            "needs_background": "light"
          }
        }
      ]
    },
    {
      "cell_type": "code",
      "metadata": {
        "id": "_OnXfHgMQ8-X"
      },
      "source": [
        "pca = PCA(n_components=0.9, svd_solver = 'full')\n",
        "pca.fit(scale(df_resampled[input_cols]))\n",
        "X_PCA_train = pca.transform(scale(df_resampled[input_cols]))"
      ],
      "execution_count": 49,
      "outputs": []
    },
    {
      "cell_type": "code",
      "metadata": {
        "id": "d-m38EvfRtui",
        "colab": {
          "base_uri": "https://localhost:8080/",
          "height": 429
        },
        "outputId": "7d921432-986a-4ea2-d743-8292877c7b45"
      },
      "source": [
        "percent_variance = np.round(pca.explained_variance_ratio_* 100, decimals =2)\n",
        "result = pca.explained_variance_ratio_\n",
        "plt.figure(figsize=(12,6))\n",
        "plt.bar(x= sorted(np.arange(len(result)),reverse=True), height=sorted(percent_variance,reverse=True),tick_label=np.round(sorted(pca.singular_values_,reverse=True),decimals=2) )\n",
        "plt.ylabel('Percentate of Variance Explained')\n",
        "plt.xlabel('Principal Component eigenvalue')\n",
        "plt.xticks(rotation=90)\n",
        "plt.title('PCA')\n",
        "ax = plt.gca()\n",
        "# set the xlimits to be the reverse of the current xlimits\n",
        "ax.set_xlim(ax.get_xlim()[::-1])\n",
        "# call `draw` to re-render the graph\n",
        "plt.draw()\n",
        "\n",
        "axes2 = plt.twinx()\n",
        "axes2.plot(np.arange(len(result)),sorted(np.cumsum(result),reverse=True ))\n",
        "axes2.set_ylabel('cumulative explained variance')\n",
        "plt.savefig('PCA.png')\n",
        "plt.show()"
      ],
      "execution_count": 50,
      "outputs": [
        {
          "output_type": "display_data",
          "data": {
            "image/png": "[encoded data removed]",
            "text/plain": [
              "<Figure size 864x432 with 2 Axes>"
            ]
          },
          "metadata": {
            "tags": [],
            "needs_background": "light"
          }
        }
      ]
    },
    {
      "cell_type": "code",
      "metadata": {
        "id": "BNQb0PUDWz1Q"
      },
      "source": [
        "encoder = CATB_ENC(a=10.221639413432117,sigma=0.0019412656262652876,handle_missing=True)\n",
        "imputer = KNNImputer(n_neighbors=7)\n",
        "balancer = SMOTETomek()\n"
      ],
      "execution_count": 38,
      "outputs": []
    },
    {
      "cell_type": "code",
      "metadata": {
        "id": "JfVXfVBdR-Ig"
      },
      "source": [
        "union = FeatureUnion([(\"pca\", PCA(n_components=0.9)),\n",
        "                      (\"lda\", LinearDiscriminantAnalysis()),\n",
        "                      (\"K_best\",SelectKBest(chi2,k=20))\n",
        "                      ])"
      ],
      "execution_count": 170,
      "outputs": []
    },
    {
      "cell_type": "code",
      "metadata": {
        "id": "trmnJi7AWbe0",
        "colab": {
          "base_uri": "https://localhost:8080/",
          "height": 122
        },
        "outputId": "f2fcf3cf-7989-4874-f464-e3f28ffa42f7"
      },
      "source": [
        "\"\"\"model = RandomForestClassifier()\n",
        "pipe = pipeline.Pipeline(steps=[\n",
        "    ('encoder',encoder),\n",
        "    ('imputer',imputer),\n",
        "    ('balancer',balancer),\n",
        "    ('union',union),\n",
        "    ('model',model)\n",
        "])\n",
        "\n",
        "union_search = {\n",
        "    'union__K_best__k':Integer(10,37)\n",
        "}\n",
        "\n",
        "opt = BayesSearchCV(\n",
        "    pipe,\n",
        "    [(union_search, 20)],\n",
        "    scoring=make_scorer(f1_score),\n",
        "    cv=5\n",
        ")\n",
        "\n",
        "opt.fit(x_t[input_cols],x_t[output_col])\n",
        "print(\"val. score: %s\" % opt.best_score_)\n",
        "#print(\"test score: %s\" % opt.score(X_test, y_test))\n",
        "print(\"best params: %s\" % str(opt.best_params_))\"\"\""
      ],
      "execution_count": 171,
      "outputs": [
        {
          "output_type": "execute_result",
          "data": {
            "application/vnd.google.colaboratory.intrinsic+json": {
              "type": "string"
            },
            "text/plain": [
              "'model = RandomForestClassifier()\\npipe = pipeline.Pipeline(steps=[\\n    (\\'encoder\\',encoder),\\n    (\\'imputer\\',imputer),\\n    (\\'balancer\\',balancer),\\n    (\\'union\\',union),\\n    (\\'model\\',model)\\n])\\n\\nunion_search = {\\n    \\'union__K_best__k\\':Integer(10,37)\\n}\\n\\nopt = BayesSearchCV(\\n    pipe,\\n    [(union_search, 20)],\\n    scoring=make_scorer(f1_score),\\n    cv=5\\n)\\n\\nopt.fit(x_t[input_cols],x_t[output_col])\\nprint(\"val. score: %s\" % opt.best_score_)\\n#print(\"test score: %s\" % opt.score(X_test, y_test))\\nprint(\"best params: %s\" % str(opt.best_params_))'"
            ]
          },
          "metadata": {
            "tags": []
          },
          "execution_count": 171
        }
      ]
    },
    {
      "cell_type": "code",
      "metadata": {
        "id": "JrnJeKNDWWat"
      },
      "source": [
        "cv = StratifiedKFold(n_splits=5, shuffle=True, random_state=19)\n",
        "union = FeatureUnion([(\"pca\", PCA(n_components=0.9)),\n",
        "                      (\"lda\", LinearDiscriminantAnalysis()),\n",
        "                      (\"K_best\",SelectKBest(chi2,k=37))\n",
        "                      ])"
      ],
      "execution_count": 37,
      "outputs": []
    },
    {
      "cell_type": "markdown",
      "metadata": {
        "id": "GgTrI9wPU2F-"
      },
      "source": [
        "# Model Selection"
      ]
    },
    {
      "cell_type": "markdown",
      "metadata": {
        "id": "M8LH-zz7Z1uf"
      },
      "source": [
        "## Logistic Regression"
      ]
    },
    {
      "cell_type": "code",
      "metadata": {
        "id": "ZnbPAI1lWu4g",
        "colab": {
          "base_uri": "https://localhost:8080/",
          "height": 122
        },
        "outputId": "584d8d76-e729-48ee-8ca1-5cfb0e0ca05a"
      },
      "source": [
        "\"\"\"model = LogisticRegression(max_iter=1600)\n",
        "pipe = pipeline.Pipeline(steps=[\n",
        "     ('encoder',encoder),\n",
        "    ('imputer',imputer),\n",
        "    ('balancer',balancer),\n",
        "    ('union',union),\n",
        "    ('model',model)\n",
        "])\n",
        "LR_search = {\n",
        "   'model__C':Real(0.001,1000,prior='log-uniform')\n",
        "}\n",
        "\n",
        "opt = BayesSearchCV(\n",
        "    pipe,\n",
        "    [(LR_search, 50)],\n",
        "    scoring=make_scorer(f1_score),\n",
        "    cv=5\n",
        ")\n",
        "opt.fit(x_t[input_cols],x_t[output_col])\n",
        "print(\"val. score: %s\" % opt.best_score_)\n",
        "#print(\"test score: %s\" % opt.score(X_test, y_test))\n",
        "print(\"best params: %s\" % str(opt.best_params_))\"\"\""
      ],
      "execution_count": 173,
      "outputs": [
        {
          "output_type": "execute_result",
          "data": {
            "application/vnd.google.colaboratory.intrinsic+json": {
              "type": "string"
            },
            "text/plain": [
              "'model = LogisticRegression(max_iter=1600)\\npipe = pipeline.Pipeline(steps=[\\n     (\\'encoder\\',encoder),\\n    (\\'imputer\\',imputer),\\n    (\\'balancer\\',balancer),\\n    (\\'union\\',union),\\n    (\\'model\\',model)\\n])\\nLR_search = {\\n   \\'model__C\\':Real(0.001,1000,prior=\\'log-uniform\\')\\n}\\n\\nopt = BayesSearchCV(\\n    pipe,\\n    [(LR_search, 50)],\\n    scoring=make_scorer(f1_score),\\n    cv=5\\n)\\nopt.fit(x_t[input_cols],x_t[output_col])\\nprint(\"val. score: %s\" % opt.best_score_)\\n#print(\"test score: %s\" % opt.score(X_test, y_test))\\nprint(\"best params: %s\" % str(opt.best_params_))'"
            ]
          },
          "metadata": {
            "tags": []
          },
          "execution_count": 173
        }
      ]
    },
    {
      "cell_type": "code",
      "metadata": {
        "colab": {
          "base_uri": "https://localhost:8080/"
        },
        "id": "PEuHA_lfLaqx",
        "outputId": "4b2ff98a-3f94-4947-8a07-9eb7ef29cecd"
      },
      "source": [
        "x_t.dtypes"
      ],
      "execution_count": 174,
      "outputs": [
        {
          "output_type": "execute_result",
          "data": {
            "text/plain": [
              "produto_solicitado                    int64\n",
              "dia_vencimento                        int64\n",
              "forma_envio_solicitacao              object\n",
              "tipo_endereco                         int64\n",
              "sexo                                 object\n",
              "idade                               float64\n",
              "estado_civil                          int64\n",
              "qtde_dependentes                    float64\n",
              "nacionalidade                         int64\n",
              "estado_onde_nasceu                   object\n",
              "estado_onde_reside                   object\n",
              "possui_telefone_residencial          object\n",
              "codigo_area_telefone_residencial     object\n",
              "tipo_residencia                       int64\n",
              "meses_na_residencia                 float64\n",
              "possui_email                          int64\n",
              "renda_mensal_regular                float64\n",
              "renda_extra                         float64\n",
              "possui_cartao_visa                    int64\n",
              "possui_cartao_mastercard              int64\n",
              "possui_cartao_diners                  int64\n",
              "possui_cartao_amex                    int64\n",
              "possui_outros_cartoes                 int64\n",
              "qtde_contas_bancarias               float64\n",
              "valor_patrimonio_pessoal            float64\n",
              "possui_carro                          int64\n",
              "vinculo_formal_com_empresa           object\n",
              "estado_onde_trabalha                 object\n",
              "possui_telefone_trabalho             object\n",
              "codigo_area_telefone_trabalho        object\n",
              "meses_no_trabalho                   float64\n",
              "profissao                             int64\n",
              "ocupacao                              int64\n",
              "profissao_companheiro                 int64\n",
              "grau_instrucao_companheiro            int64\n",
              "local_onde_reside                     int64\n",
              "local_onde_trabalha                   int64\n",
              "inadimplente                        float64\n",
              "dtype: object"
            ]
          },
          "metadata": {
            "tags": []
          },
          "execution_count": 174
        }
      ]
    },
    {
      "cell_type": "code",
      "metadata": {
        "id": "xbsvYUlAZS0H",
        "colab": {
          "base_uri": "https://localhost:8080/"
        },
        "outputId": "48996005-dff1-4889-ce60-9e208ffbc800"
      },
      "source": [
        "nome_modelo = \"LR\"\n",
        "model = LogisticRegression(C=993.0664736563477,max_iter=1600)\n",
        "pipe = pipeline.Pipeline(steps=[\n",
        "    ('encoder',encoder),\n",
        "    ('imputer',imputer),\n",
        "    ('balancer',balancer),\n",
        "    ('union',union),\n",
        "    ('model',model)\n",
        "])\n",
        "scores = cross_validate(pipe, x_t[input_cols], x_t[output_col],cv=cv, scoring=scoring,return_train_score=False)\n",
        "scores_geral[nome_modelo] = scores\n",
        "#print(np.sum(scores['test_tp']),np.sum(scores['test_tn']),np.sum(scores['test_fp']),np.sum(scores['test_fn']))\n",
        "#scores\n",
        "media,var = armazena_resultado(nome_modelo,scores)\n",
        "media"
      ],
      "execution_count": 175,
      "outputs": [
        {
          "output_type": "execute_result",
          "data": {
            "text/plain": [
              "{'acuracia': 0.5801000000000001,\n",
              " 'f1_score': 0.5891358134555041,\n",
              " 'fn': 3979,\n",
              " 'fp': 4419,\n",
              " 'precisão': 0.5767695787091643,\n",
              " 'recall': 0.6021,\n",
              " 'roc_auc': 0.5801000000000001,\n",
              " 'tn': 5581,\n",
              " 'tp': 6021}"
            ]
          },
          "metadata": {
            "tags": []
          },
          "execution_count": 175
        }
      ]
    },
    {
      "cell_type": "markdown",
      "metadata": {
        "id": "BFCWBz0kZ-Ej"
      },
      "source": [
        "## Naive Bayes"
      ]
    },
    {
      "cell_type": "code",
      "metadata": {
        "id": "p4YVno8TZ-Fm",
        "colab": {
          "base_uri": "https://localhost:8080/"
        },
        "outputId": "829c0356-cfc0-49ee-cc34-c6084b306a77"
      },
      "source": [
        "nome_modelo = \"Naive Bayes\"\n",
        "model = GaussianNB()\n",
        "pipe = pipeline.Pipeline(steps=[\n",
        "    ('encoder',encoder),\n",
        "    ('imputer',imputer),\n",
        "    ('balancer',balancer),\n",
        "    ('union',union),\n",
        "    ('model',model)\n",
        "])\n",
        "scores = cross_validate(pipe, x_t[input_cols], x_t[output_col],cv=cv, scoring=scoring,return_train_score=False)\n",
        "scores_geral[nome_modelo] = scores\n",
        "#print(np.sum(scores['test_tp']),np.sum(scores['test_tn']),np.sum(scores['test_fp']),np.sum(scores['test_fn']))\n",
        "#scores\n",
        "media,var = armazena_resultado(nome_modelo,scores)\n",
        "media"
      ],
      "execution_count": 176,
      "outputs": [
        {
          "output_type": "execute_result",
          "data": {
            "text/plain": [
              "{'acuracia': 0.5716,\n",
              " 'f1_score': 0.6295065317476434,\n",
              " 'fn': 2707,\n",
              " 'fp': 5861,\n",
              " 'precisão': 0.5546148482039887,\n",
              " 'recall': 0.7293000000000001,\n",
              " 'roc_auc': 0.5716,\n",
              " 'tn': 4139,\n",
              " 'tp': 7293}"
            ]
          },
          "metadata": {
            "tags": []
          },
          "execution_count": 176
        }
      ]
    },
    {
      "cell_type": "code",
      "metadata": {
        "id": "IarOzTJlamJS",
        "colab": {
          "base_uri": "https://localhost:8080/"
        },
        "outputId": "0af0d47e-ed5f-47bd-da32-aa4aba5735de"
      },
      "source": [
        "int(np.round(np.array([0.5,0.6]))[0])"
      ],
      "execution_count": 177,
      "outputs": [
        {
          "output_type": "execute_result",
          "data": {
            "text/plain": [
              "0"
            ]
          },
          "metadata": {
            "tags": []
          },
          "execution_count": 177
        }
      ]
    },
    {
      "cell_type": "markdown",
      "metadata": {
        "id": "Ivj5_ik3anQW"
      },
      "source": [
        "## Random Forest"
      ]
    },
    {
      "cell_type": "code",
      "metadata": {
        "id": "5LsmiFGkYSTM",
        "colab": {
          "base_uri": "https://localhost:8080/",
          "height": 139
        },
        "outputId": "8ebff5f6-48c5-4c28-a3e0-47a9478222e4"
      },
      "source": [
        "\"\"\"model = RandomForestClassifier()\n",
        "pipe = pipeline.Pipeline(steps=[\n",
        "    ('encoder',encoder),\n",
        "    ('imputer',imputer),\n",
        "    ('balancer',balancer),\n",
        "    ('union',union),\n",
        "    ('model',model)\n",
        "])\n",
        "\n",
        "RF_search = {\n",
        "   'model__n_estimators':Integer(100,500),\n",
        "    'model__max_depth':Integer(30,50)\n",
        "}\n",
        "\n",
        "opt = BayesSearchCV(\n",
        "    pipe,\n",
        "    [(RF_search, 50)],\n",
        "    scoring=make_scorer(f1_score),\n",
        "    cv=5\n",
        ")\n",
        "opt.fit(x_t[input_cols],x_t[output_col])\n",
        "print(\"val. score: %s\" % opt.best_score_)\n",
        "#print(\"test score: %s\" % opt.score(X_test, y_test))\n",
        "print(\"best params: %s\" % str(opt.best_params_))\"\"\""
      ],
      "execution_count": 178,
      "outputs": [
        {
          "output_type": "execute_result",
          "data": {
            "application/vnd.google.colaboratory.intrinsic+json": {
              "type": "string"
            },
            "text/plain": [
              "'model = RandomForestClassifier()\\npipe = pipeline.Pipeline(steps=[\\n    (\\'encoder\\',encoder),\\n    (\\'imputer\\',imputer),\\n    (\\'balancer\\',balancer),\\n    (\\'union\\',union),\\n    (\\'model\\',model)\\n])\\n\\nRF_search = {\\n   \\'model__n_estimators\\':Integer(100,500),\\n    \\'model__max_depth\\':Integer(30,50)\\n}\\n\\nopt = BayesSearchCV(\\n    pipe,\\n    [(RF_search, 50)],\\n    scoring=make_scorer(f1_score),\\n    cv=5\\n)\\nopt.fit(x_t[input_cols],x_t[output_col])\\nprint(\"val. score: %s\" % opt.best_score_)\\n#print(\"test score: %s\" % opt.score(X_test, y_test))\\nprint(\"best params: %s\" % str(opt.best_params_))'"
            ]
          },
          "metadata": {
            "tags": []
          },
          "execution_count": 178
        }
      ]
    },
    {
      "cell_type": "code",
      "metadata": {
        "id": "LB_AqkFlanRB",
        "colab": {
          "base_uri": "https://localhost:8080/"
        },
        "outputId": "c0afee41-9c81-4317-e7a7-9bc4c26011dd"
      },
      "source": [
        "nome_modelo = \"Random Forest\"\n",
        "model = RandomForestClassifier(n_estimators=499,max_depth=30)\n",
        "pipe = pipeline.Pipeline(steps=[\n",
        "    ('encoder',encoder),\n",
        "    ('imputer',imputer),\n",
        "    ('balancer',balancer),\n",
        "    ('union',union),\n",
        "    ('model',model)\n",
        "])\n",
        "scores = cross_validate(pipe,x_t[input_cols], x_t[output_col],cv=cv, scoring=scoring,return_train_score=False)\n",
        "scores_geral[nome_modelo] = scores\n",
        "media,var = armazena_resultado(nome_modelo,scores)\n",
        "media"
      ],
      "execution_count": 179,
      "outputs": [
        {
          "output_type": "execute_result",
          "data": {
            "text/plain": [
              "{'acuracia': 0.5917000000000001,\n",
              " 'f1_score': 0.6063393435031983,\n",
              " 'fn': 3709,\n",
              " 'fp': 4457,\n",
              " 'precisão': 0.5852647585986959,\n",
              " 'recall': 0.6291,\n",
              " 'roc_auc': 0.5917000000000001,\n",
              " 'tn': 5543,\n",
              " 'tp': 6291}"
            ]
          },
          "metadata": {
            "tags": []
          },
          "execution_count": 179
        }
      ]
    },
    {
      "cell_type": "markdown",
      "metadata": {
        "id": "FiW4SPcHL9P-"
      },
      "source": [
        "## Catboost"
      ]
    },
    {
      "cell_type": "code",
      "metadata": {
        "id": "lOZ9wuQbApVn",
        "colab": {
          "base_uri": "https://localhost:8080/",
          "height": 139
        },
        "outputId": "2f94d34f-b587-4420-f129-51b138a994b9"
      },
      "source": [
        "\"\"\"model = CatBoostClassifier(verbose=False)\n",
        "pipe = pipeline.Pipeline(steps=[\n",
        "    ('encoder',encoder),\n",
        "    ('imputer',imputer),\n",
        "    ('balancer',balancer),\n",
        "    ('union',union),\n",
        "    ('model',model)\n",
        "])\n",
        "\n",
        "CATB_search = {\n",
        "   'model__learning_rate':Real(0.0001,0.1,prior='log-uniform'),\n",
        "    'model__max_depth':Integer(4,16),\n",
        "    'model__l2_leaf_reg':Real(1,9)\n",
        "}\n",
        "\n",
        "opt = BayesSearchCV(\n",
        "    pipe,\n",
        "    [(CATB_search, 20)],\n",
        "    scoring=make_scorer(f1_score),\n",
        "    cv=5\n",
        ")\n",
        "opt.fit(x_t[input_cols],x_t[output_col])\n",
        "print(\"val. score: %s\" % opt.best_score_)\n",
        "#print(\"test score: %s\" % opt.score(X_test, y_test))\n",
        "print(\"best params: %s\" % str(opt.best_params_))\"\"\""
      ],
      "execution_count": 180,
      "outputs": [
        {
          "output_type": "execute_result",
          "data": {
            "application/vnd.google.colaboratory.intrinsic+json": {
              "type": "string"
            },
            "text/plain": [
              "'model = CatBoostClassifier(verbose=False)\\npipe = pipeline.Pipeline(steps=[\\n    (\\'encoder\\',encoder),\\n    (\\'imputer\\',imputer),\\n    (\\'balancer\\',balancer),\\n    (\\'union\\',union),\\n    (\\'model\\',model)\\n])\\n\\nCATB_search = {\\n   \\'model__learning_rate\\':Real(0.0001,0.1,prior=\\'log-uniform\\'),\\n    \\'model__max_depth\\':Integer(4,16),\\n    \\'model__l2_leaf_reg\\':Real(1,9)\\n}\\n\\nopt = BayesSearchCV(\\n    pipe,\\n    [(CATB_search, 20)],\\n    scoring=make_scorer(f1_score),\\n    cv=5\\n)\\nopt.fit(x_t[input_cols],x_t[output_col])\\nprint(\"val. score: %s\" % opt.best_score_)\\n#print(\"test score: %s\" % opt.score(X_test, y_test))\\nprint(\"best params: %s\" % str(opt.best_params_))'"
            ]
          },
          "metadata": {
            "tags": []
          },
          "execution_count": 180
        }
      ]
    },
    {
      "cell_type": "code",
      "metadata": {
        "id": "ujzt0Oq_ApWQ"
      },
      "source": [
        "nome_modelo = \"Catboost\"\n",
        "model = CatBoostClassifier(l2_leaf_reg=5.409491968380465,\n",
        "                           learning_rate=0.0003793393560662113,\n",
        "                           max_depth=11,verbose=False)\n",
        "pipe = pipeline.Pipeline(steps=[\n",
        "    ('encoder',encoder),\n",
        "    ('imputer',imputer),\n",
        "    ('balancer',balancer),\n",
        "    ('union',union),\n",
        "    ('model',model)\n",
        "])\n",
        "\n",
        "scores = cross_validate(pipe, x_t[input_cols], x_t[output_col],\n",
        "                        cv=cv, \n",
        "                        scoring=scoring,return_train_score=False)\n",
        "scores_geral[nome_modelo] = scores\n",
        "media,var = armazena_resultado(nome_modelo,scores)\n",
        "media"
      ],
      "execution_count": null,
      "outputs": []
    },
    {
      "cell_type": "code",
      "metadata": {
        "id": "ftIdPAo5ApWg",
        "colab": {
          "base_uri": "https://localhost:8080/",
          "height": 1000
        },
        "outputId": "c083b94e-4476-4dc3-8c86-5445b7ef8c90"
      },
      "source": [
        "clf = CatBoostClassifier()\n",
        "clf.fit(df_resampled[input_cols],df_resampled[output_col])\n",
        "feature_importances = pd.DataFrame(clf.get_feature_importance(),\n",
        "                                   index =input_cols,\n",
        "                                    columns=['importance']).sort_values('importance', ascending=False)\n",
        "\n",
        "feature_importances"
      ],
      "execution_count": 184,
      "outputs": [
        {
          "output_type": "stream",
          "text": [
            "Learning rate set to 0.018385\n",
            "0:\tlearn: 0.6813989\ttotal: 4.63ms\tremaining: 4.63s\n",
            "1:\tlearn: 0.6691089\ttotal: 9.13ms\tremaining: 4.55s\n",
            "2:\tlearn: 0.6560218\ttotal: 14.1ms\tremaining: 4.7s\n",
            "3:\tlearn: 0.6461039\ttotal: 18.7ms\tremaining: 4.66s\n",
            "4:\tlearn: 0.6344468\ttotal: 23.2ms\tremaining: 4.61s\n",
            "5:\tlearn: 0.6249199\ttotal: 27.8ms\tremaining: 4.6s\n",
            "6:\tlearn: 0.6145879\ttotal: 32.2ms\tremaining: 4.57s\n",
            "7:\tlearn: 0.6056980\ttotal: 36.8ms\tremaining: 4.56s\n",
            "8:\tlearn: 0.5955678\ttotal: 41.4ms\tremaining: 4.56s\n",
            "9:\tlearn: 0.5860952\ttotal: 46ms\tremaining: 4.55s\n",
            "10:\tlearn: 0.5781594\ttotal: 50.4ms\tremaining: 4.53s\n",
            "11:\tlearn: 0.5703863\ttotal: 54.8ms\tremaining: 4.51s\n",
            "12:\tlearn: 0.5631300\ttotal: 59.1ms\tremaining: 4.49s\n",
            "13:\tlearn: 0.5544973\ttotal: 63.5ms\tremaining: 4.47s\n",
            "14:\tlearn: 0.5463208\ttotal: 67.7ms\tremaining: 4.45s\n",
            "15:\tlearn: 0.5389624\ttotal: 72.1ms\tremaining: 4.43s\n",
            "16:\tlearn: 0.5316751\ttotal: 76.4ms\tremaining: 4.42s\n",
            "17:\tlearn: 0.5257719\ttotal: 80.8ms\tremaining: 4.41s\n",
            "18:\tlearn: 0.5194485\ttotal: 85.3ms\tremaining: 4.4s\n",
            "19:\tlearn: 0.5148414\ttotal: 90ms\tremaining: 4.41s\n",
            "20:\tlearn: 0.5093400\ttotal: 94.6ms\tremaining: 4.41s\n",
            "21:\tlearn: 0.5030724\ttotal: 99ms\tremaining: 4.4s\n",
            "22:\tlearn: 0.4971950\ttotal: 104ms\tremaining: 4.4s\n",
            "23:\tlearn: 0.4934655\ttotal: 108ms\tremaining: 4.4s\n",
            "24:\tlearn: 0.4888047\ttotal: 113ms\tremaining: 4.39s\n",
            "25:\tlearn: 0.4848213\ttotal: 117ms\tremaining: 4.39s\n",
            "26:\tlearn: 0.4808991\ttotal: 122ms\tremaining: 4.38s\n",
            "27:\tlearn: 0.4774186\ttotal: 126ms\tremaining: 4.38s\n",
            "28:\tlearn: 0.4730338\ttotal: 131ms\tremaining: 4.38s\n",
            "29:\tlearn: 0.4695621\ttotal: 135ms\tremaining: 4.38s\n",
            "30:\tlearn: 0.4653780\ttotal: 142ms\tremaining: 4.42s\n",
            "31:\tlearn: 0.4611820\ttotal: 146ms\tremaining: 4.43s\n",
            "32:\tlearn: 0.4571170\ttotal: 151ms\tremaining: 4.42s\n",
            "33:\tlearn: 0.4539261\ttotal: 156ms\tremaining: 4.42s\n",
            "34:\tlearn: 0.4503394\ttotal: 160ms\tremaining: 4.42s\n",
            "35:\tlearn: 0.4475024\ttotal: 165ms\tremaining: 4.42s\n",
            "36:\tlearn: 0.4448503\ttotal: 170ms\tremaining: 4.42s\n",
            "37:\tlearn: 0.4412874\ttotal: 174ms\tremaining: 4.42s\n",
            "38:\tlearn: 0.4382100\ttotal: 179ms\tremaining: 4.41s\n",
            "39:\tlearn: 0.4352430\ttotal: 184ms\tremaining: 4.41s\n",
            "40:\tlearn: 0.4329640\ttotal: 188ms\tremaining: 4.4s\n",
            "41:\tlearn: 0.4307632\ttotal: 194ms\tremaining: 4.43s\n",
            "42:\tlearn: 0.4285669\ttotal: 201ms\tremaining: 4.47s\n",
            "43:\tlearn: 0.4263316\ttotal: 205ms\tremaining: 4.46s\n",
            "44:\tlearn: 0.4240538\ttotal: 210ms\tremaining: 4.45s\n",
            "45:\tlearn: 0.4213029\ttotal: 214ms\tremaining: 4.44s\n",
            "46:\tlearn: 0.4187775\ttotal: 219ms\tremaining: 4.43s\n",
            "47:\tlearn: 0.4165111\ttotal: 223ms\tremaining: 4.42s\n",
            "48:\tlearn: 0.4146518\ttotal: 229ms\tremaining: 4.44s\n",
            "49:\tlearn: 0.4130208\ttotal: 234ms\tremaining: 4.44s\n",
            "50:\tlearn: 0.4114345\ttotal: 238ms\tremaining: 4.43s\n",
            "51:\tlearn: 0.4096773\ttotal: 243ms\tremaining: 4.42s\n",
            "52:\tlearn: 0.4079579\ttotal: 247ms\tremaining: 4.41s\n",
            "53:\tlearn: 0.4062458\ttotal: 252ms\tremaining: 4.41s\n",
            "54:\tlearn: 0.4045585\ttotal: 256ms\tremaining: 4.39s\n",
            "55:\tlearn: 0.4031507\ttotal: 260ms\tremaining: 4.39s\n",
            "56:\tlearn: 0.4016854\ttotal: 265ms\tremaining: 4.38s\n",
            "57:\tlearn: 0.4000446\ttotal: 270ms\tremaining: 4.38s\n",
            "58:\tlearn: 0.3986146\ttotal: 274ms\tremaining: 4.37s\n",
            "59:\tlearn: 0.3973911\ttotal: 279ms\tremaining: 4.37s\n",
            "60:\tlearn: 0.3957204\ttotal: 283ms\tremaining: 4.36s\n",
            "61:\tlearn: 0.3948562\ttotal: 287ms\tremaining: 4.35s\n",
            "62:\tlearn: 0.3937846\ttotal: 292ms\tremaining: 4.34s\n",
            "63:\tlearn: 0.3927614\ttotal: 296ms\tremaining: 4.33s\n",
            "64:\tlearn: 0.3917706\ttotal: 301ms\tremaining: 4.32s\n",
            "65:\tlearn: 0.3908159\ttotal: 305ms\tremaining: 4.31s\n",
            "66:\tlearn: 0.3897338\ttotal: 309ms\tremaining: 4.3s\n",
            "67:\tlearn: 0.3884605\ttotal: 313ms\tremaining: 4.3s\n",
            "68:\tlearn: 0.3872895\ttotal: 318ms\tremaining: 4.29s\n",
            "69:\tlearn: 0.3864717\ttotal: 322ms\tremaining: 4.28s\n",
            "70:\tlearn: 0.3854104\ttotal: 327ms\tremaining: 4.27s\n",
            "71:\tlearn: 0.3846378\ttotal: 331ms\tremaining: 4.27s\n",
            "72:\tlearn: 0.3835906\ttotal: 336ms\tremaining: 4.26s\n",
            "73:\tlearn: 0.3827279\ttotal: 340ms\tremaining: 4.26s\n",
            "74:\tlearn: 0.3817838\ttotal: 345ms\tremaining: 4.25s\n",
            "75:\tlearn: 0.3808938\ttotal: 349ms\tremaining: 4.24s\n",
            "76:\tlearn: 0.3798096\ttotal: 353ms\tremaining: 4.24s\n",
            "77:\tlearn: 0.3787145\ttotal: 358ms\tremaining: 4.23s\n",
            "78:\tlearn: 0.3780929\ttotal: 362ms\tremaining: 4.22s\n",
            "79:\tlearn: 0.3770107\ttotal: 367ms\tremaining: 4.22s\n",
            "80:\tlearn: 0.3764187\ttotal: 371ms\tremaining: 4.21s\n",
            "81:\tlearn: 0.3756669\ttotal: 376ms\tremaining: 4.21s\n",
            "82:\tlearn: 0.3746384\ttotal: 380ms\tremaining: 4.2s\n",
            "83:\tlearn: 0.3737896\ttotal: 384ms\tremaining: 4.19s\n",
            "84:\tlearn: 0.3730926\ttotal: 389ms\tremaining: 4.18s\n",
            "85:\tlearn: 0.3719702\ttotal: 396ms\tremaining: 4.21s\n",
            "86:\tlearn: 0.3711474\ttotal: 400ms\tremaining: 4.2s\n",
            "87:\tlearn: 0.3705371\ttotal: 405ms\tremaining: 4.19s\n",
            "88:\tlearn: 0.3697362\ttotal: 409ms\tremaining: 4.19s\n",
            "89:\tlearn: 0.3689095\ttotal: 413ms\tremaining: 4.18s\n",
            "90:\tlearn: 0.3680839\ttotal: 418ms\tremaining: 4.17s\n",
            "91:\tlearn: 0.3674969\ttotal: 422ms\tremaining: 4.17s\n",
            "92:\tlearn: 0.3665456\ttotal: 426ms\tremaining: 4.16s\n",
            "93:\tlearn: 0.3660397\ttotal: 431ms\tremaining: 4.15s\n",
            "94:\tlearn: 0.3652517\ttotal: 435ms\tremaining: 4.15s\n",
            "95:\tlearn: 0.3647136\ttotal: 440ms\tremaining: 4.14s\n",
            "96:\tlearn: 0.3639841\ttotal: 444ms\tremaining: 4.13s\n",
            "97:\tlearn: 0.3632730\ttotal: 449ms\tremaining: 4.13s\n",
            "98:\tlearn: 0.3625896\ttotal: 453ms\tremaining: 4.13s\n",
            "99:\tlearn: 0.3618444\ttotal: 458ms\tremaining: 4.12s\n",
            "100:\tlearn: 0.3613961\ttotal: 462ms\tremaining: 4.11s\n",
            "101:\tlearn: 0.3608812\ttotal: 466ms\tremaining: 4.11s\n",
            "102:\tlearn: 0.3602740\ttotal: 471ms\tremaining: 4.1s\n",
            "103:\tlearn: 0.3598272\ttotal: 475ms\tremaining: 4.09s\n",
            "104:\tlearn: 0.3590672\ttotal: 482ms\tremaining: 4.11s\n",
            "105:\tlearn: 0.3585709\ttotal: 487ms\tremaining: 4.11s\n",
            "106:\tlearn: 0.3579913\ttotal: 493ms\tremaining: 4.12s\n",
            "107:\tlearn: 0.3574949\ttotal: 499ms\tremaining: 4.12s\n",
            "108:\tlearn: 0.3569251\ttotal: 503ms\tremaining: 4.11s\n",
            "109:\tlearn: 0.3561752\ttotal: 508ms\tremaining: 4.11s\n",
            "110:\tlearn: 0.3556141\ttotal: 513ms\tremaining: 4.11s\n",
            "111:\tlearn: 0.3550837\ttotal: 517ms\tremaining: 4.1s\n",
            "112:\tlearn: 0.3544038\ttotal: 522ms\tremaining: 4.1s\n",
            "113:\tlearn: 0.3536679\ttotal: 526ms\tremaining: 4.09s\n",
            "114:\tlearn: 0.3531507\ttotal: 531ms\tremaining: 4.08s\n",
            "115:\tlearn: 0.3524422\ttotal: 535ms\tremaining: 4.08s\n",
            "116:\tlearn: 0.3518594\ttotal: 540ms\tremaining: 4.07s\n",
            "117:\tlearn: 0.3514442\ttotal: 544ms\tremaining: 4.07s\n",
            "118:\tlearn: 0.3507137\ttotal: 549ms\tremaining: 4.06s\n",
            "119:\tlearn: 0.3498945\ttotal: 554ms\tremaining: 4.06s\n",
            "120:\tlearn: 0.3493454\ttotal: 558ms\tremaining: 4.05s\n",
            "121:\tlearn: 0.3488702\ttotal: 562ms\tremaining: 4.05s\n",
            "122:\tlearn: 0.3483269\ttotal: 567ms\tremaining: 4.04s\n",
            "123:\tlearn: 0.3479156\ttotal: 572ms\tremaining: 4.04s\n",
            "124:\tlearn: 0.3475690\ttotal: 576ms\tremaining: 4.03s\n",
            "125:\tlearn: 0.3471051\ttotal: 581ms\tremaining: 4.03s\n",
            "126:\tlearn: 0.3465748\ttotal: 589ms\tremaining: 4.04s\n",
            "127:\tlearn: 0.3461389\ttotal: 593ms\tremaining: 4.04s\n",
            "128:\tlearn: 0.3457117\ttotal: 598ms\tremaining: 4.04s\n",
            "129:\tlearn: 0.3451887\ttotal: 602ms\tremaining: 4.03s\n",
            "130:\tlearn: 0.3448362\ttotal: 607ms\tremaining: 4.03s\n",
            "131:\tlearn: 0.3442466\ttotal: 611ms\tremaining: 4.02s\n",
            "132:\tlearn: 0.3436402\ttotal: 617ms\tremaining: 4.02s\n",
            "133:\tlearn: 0.3432396\ttotal: 621ms\tremaining: 4.01s\n",
            "134:\tlearn: 0.3428881\ttotal: 626ms\tremaining: 4.01s\n",
            "135:\tlearn: 0.3424151\ttotal: 631ms\tremaining: 4s\n",
            "136:\tlearn: 0.3418122\ttotal: 635ms\tremaining: 4s\n",
            "137:\tlearn: 0.3413764\ttotal: 640ms\tremaining: 4s\n",
            "138:\tlearn: 0.3408987\ttotal: 645ms\tremaining: 3.99s\n",
            "139:\tlearn: 0.3403237\ttotal: 649ms\tremaining: 3.99s\n",
            "140:\tlearn: 0.3398632\ttotal: 654ms\tremaining: 3.98s\n",
            "141:\tlearn: 0.3396257\ttotal: 659ms\tremaining: 3.98s\n",
            "142:\tlearn: 0.3392922\ttotal: 663ms\tremaining: 3.97s\n",
            "143:\tlearn: 0.3387938\ttotal: 668ms\tremaining: 3.97s\n",
            "144:\tlearn: 0.3382601\ttotal: 673ms\tremaining: 3.97s\n",
            "145:\tlearn: 0.3378416\ttotal: 677ms\tremaining: 3.96s\n",
            "146:\tlearn: 0.3374158\ttotal: 682ms\tremaining: 3.96s\n",
            "147:\tlearn: 0.3370915\ttotal: 686ms\tremaining: 3.95s\n",
            "148:\tlearn: 0.3366488\ttotal: 691ms\tremaining: 3.94s\n",
            "149:\tlearn: 0.3359935\ttotal: 695ms\tremaining: 3.94s\n",
            "150:\tlearn: 0.3356589\ttotal: 699ms\tremaining: 3.93s\n",
            "151:\tlearn: 0.3354037\ttotal: 704ms\tremaining: 3.92s\n",
            "152:\tlearn: 0.3351383\ttotal: 708ms\tremaining: 3.92s\n",
            "153:\tlearn: 0.3348205\ttotal: 713ms\tremaining: 3.91s\n",
            "154:\tlearn: 0.3344867\ttotal: 717ms\tremaining: 3.91s\n",
            "155:\tlearn: 0.3340816\ttotal: 721ms\tremaining: 3.9s\n",
            "156:\tlearn: 0.3338430\ttotal: 726ms\tremaining: 3.9s\n",
            "157:\tlearn: 0.3334183\ttotal: 730ms\tremaining: 3.89s\n",
            "158:\tlearn: 0.3330642\ttotal: 734ms\tremaining: 3.88s\n",
            "159:\tlearn: 0.3324556\ttotal: 739ms\tremaining: 3.88s\n",
            "160:\tlearn: 0.3321963\ttotal: 744ms\tremaining: 3.87s\n",
            "161:\tlearn: 0.3317395\ttotal: 748ms\tremaining: 3.87s\n",
            "162:\tlearn: 0.3313732\ttotal: 752ms\tremaining: 3.86s\n",
            "163:\tlearn: 0.3309188\ttotal: 757ms\tremaining: 3.86s\n",
            "164:\tlearn: 0.3305780\ttotal: 761ms\tremaining: 3.85s\n",
            "165:\tlearn: 0.3302331\ttotal: 766ms\tremaining: 3.85s\n",
            "166:\tlearn: 0.3300548\ttotal: 776ms\tremaining: 3.87s\n",
            "167:\tlearn: 0.3297295\ttotal: 784ms\tremaining: 3.88s\n",
            "168:\tlearn: 0.3294441\ttotal: 791ms\tremaining: 3.89s\n",
            "169:\tlearn: 0.3289215\ttotal: 797ms\tremaining: 3.89s\n",
            "170:\tlearn: 0.3285351\ttotal: 802ms\tremaining: 3.88s\n",
            "171:\tlearn: 0.3282746\ttotal: 806ms\tremaining: 3.88s\n",
            "172:\tlearn: 0.3282245\ttotal: 809ms\tremaining: 3.87s\n",
            "173:\tlearn: 0.3278331\ttotal: 814ms\tremaining: 3.87s\n",
            "174:\tlearn: 0.3272702\ttotal: 819ms\tremaining: 3.86s\n",
            "175:\tlearn: 0.3270347\ttotal: 824ms\tremaining: 3.86s\n",
            "176:\tlearn: 0.3265616\ttotal: 829ms\tremaining: 3.85s\n",
            "177:\tlearn: 0.3264620\ttotal: 834ms\tremaining: 3.85s\n",
            "178:\tlearn: 0.3260569\ttotal: 838ms\tremaining: 3.85s\n",
            "179:\tlearn: 0.3256484\ttotal: 843ms\tremaining: 3.84s\n",
            "180:\tlearn: 0.3254160\ttotal: 847ms\tremaining: 3.83s\n",
            "181:\tlearn: 0.3250836\ttotal: 852ms\tremaining: 3.83s\n",
            "182:\tlearn: 0.3245582\ttotal: 856ms\tremaining: 3.82s\n",
            "183:\tlearn: 0.3242214\ttotal: 860ms\tremaining: 3.81s\n",
            "184:\tlearn: 0.3240696\ttotal: 864ms\tremaining: 3.81s\n",
            "185:\tlearn: 0.3239017\ttotal: 869ms\tremaining: 3.8s\n",
            "186:\tlearn: 0.3236785\ttotal: 873ms\tremaining: 3.8s\n",
            "187:\tlearn: 0.3232192\ttotal: 877ms\tremaining: 3.79s\n",
            "188:\tlearn: 0.3225854\ttotal: 882ms\tremaining: 3.78s\n",
            "189:\tlearn: 0.3224178\ttotal: 886ms\tremaining: 3.78s\n",
            "190:\tlearn: 0.3221207\ttotal: 891ms\tremaining: 3.77s\n",
            "191:\tlearn: 0.3218654\ttotal: 895ms\tremaining: 3.77s\n",
            "192:\tlearn: 0.3215117\ttotal: 899ms\tremaining: 3.76s\n",
            "193:\tlearn: 0.3212041\ttotal: 904ms\tremaining: 3.75s\n",
            "194:\tlearn: 0.3208557\ttotal: 922ms\tremaining: 3.81s\n",
            "195:\tlearn: 0.3206256\ttotal: 927ms\tremaining: 3.8s\n",
            "196:\tlearn: 0.3202364\ttotal: 932ms\tremaining: 3.8s\n",
            "197:\tlearn: 0.3198381\ttotal: 937ms\tremaining: 3.79s\n",
            "198:\tlearn: 0.3195914\ttotal: 941ms\tremaining: 3.79s\n",
            "199:\tlearn: 0.3191916\ttotal: 945ms\tremaining: 3.78s\n",
            "200:\tlearn: 0.3188354\ttotal: 950ms\tremaining: 3.78s\n",
            "201:\tlearn: 0.3184829\ttotal: 954ms\tremaining: 3.77s\n",
            "202:\tlearn: 0.3181681\ttotal: 959ms\tremaining: 3.76s\n",
            "203:\tlearn: 0.3179429\ttotal: 963ms\tremaining: 3.76s\n",
            "204:\tlearn: 0.3174762\ttotal: 968ms\tremaining: 3.75s\n",
            "205:\tlearn: 0.3172621\ttotal: 972ms\tremaining: 3.75s\n",
            "206:\tlearn: 0.3167518\ttotal: 977ms\tremaining: 3.74s\n",
            "207:\tlearn: 0.3165753\ttotal: 987ms\tremaining: 3.76s\n",
            "208:\tlearn: 0.3163536\ttotal: 992ms\tremaining: 3.75s\n",
            "209:\tlearn: 0.3160851\ttotal: 997ms\tremaining: 3.75s\n",
            "210:\tlearn: 0.3155751\ttotal: 1s\tremaining: 3.74s\n",
            "211:\tlearn: 0.3152610\ttotal: 1.01s\tremaining: 3.75s\n",
            "212:\tlearn: 0.3150811\ttotal: 1.01s\tremaining: 3.74s\n",
            "213:\tlearn: 0.3149362\ttotal: 1.02s\tremaining: 3.73s\n",
            "214:\tlearn: 0.3144490\ttotal: 1.02s\tremaining: 3.73s\n",
            "215:\tlearn: 0.3141338\ttotal: 1.02s\tremaining: 3.72s\n",
            "216:\tlearn: 0.3138857\ttotal: 1.03s\tremaining: 3.72s\n",
            "217:\tlearn: 0.3137333\ttotal: 1.04s\tremaining: 3.72s\n",
            "218:\tlearn: 0.3134985\ttotal: 1.04s\tremaining: 3.72s\n",
            "219:\tlearn: 0.3132268\ttotal: 1.05s\tremaining: 3.71s\n",
            "220:\tlearn: 0.3130642\ttotal: 1.05s\tremaining: 3.71s\n",
            "221:\tlearn: 0.3126251\ttotal: 1.05s\tremaining: 3.7s\n",
            "222:\tlearn: 0.3123846\ttotal: 1.06s\tremaining: 3.69s\n",
            "223:\tlearn: 0.3119469\ttotal: 1.06s\tremaining: 3.69s\n",
            "224:\tlearn: 0.3117032\ttotal: 1.07s\tremaining: 3.68s\n",
            "225:\tlearn: 0.3112684\ttotal: 1.07s\tremaining: 3.68s\n",
            "226:\tlearn: 0.3109714\ttotal: 1.08s\tremaining: 3.67s\n",
            "227:\tlearn: 0.3108223\ttotal: 1.08s\tremaining: 3.67s\n",
            "228:\tlearn: 0.3105107\ttotal: 1.09s\tremaining: 3.66s\n",
            "229:\tlearn: 0.3102343\ttotal: 1.09s\tremaining: 3.66s\n",
            "230:\tlearn: 0.3100689\ttotal: 1.1s\tremaining: 3.66s\n",
            "231:\tlearn: 0.3098405\ttotal: 1.1s\tremaining: 3.65s\n",
            "232:\tlearn: 0.3095791\ttotal: 1.11s\tremaining: 3.65s\n",
            "233:\tlearn: 0.3093096\ttotal: 1.11s\tremaining: 3.64s\n",
            "234:\tlearn: 0.3090349\ttotal: 1.12s\tremaining: 3.64s\n",
            "235:\tlearn: 0.3088408\ttotal: 1.12s\tremaining: 3.63s\n",
            "236:\tlearn: 0.3087242\ttotal: 1.13s\tremaining: 3.62s\n",
            "237:\tlearn: 0.3083421\ttotal: 1.13s\tremaining: 3.62s\n",
            "238:\tlearn: 0.3081730\ttotal: 1.13s\tremaining: 3.61s\n",
            "239:\tlearn: 0.3079155\ttotal: 1.14s\tremaining: 3.61s\n",
            "240:\tlearn: 0.3075533\ttotal: 1.14s\tremaining: 3.6s\n",
            "241:\tlearn: 0.3073246\ttotal: 1.15s\tremaining: 3.6s\n",
            "242:\tlearn: 0.3070008\ttotal: 1.15s\tremaining: 3.59s\n",
            "243:\tlearn: 0.3067187\ttotal: 1.16s\tremaining: 3.58s\n",
            "244:\tlearn: 0.3065346\ttotal: 1.16s\tremaining: 3.58s\n",
            "245:\tlearn: 0.3062553\ttotal: 1.17s\tremaining: 3.57s\n",
            "246:\tlearn: 0.3060336\ttotal: 1.17s\tremaining: 3.57s\n",
            "247:\tlearn: 0.3058353\ttotal: 1.17s\tremaining: 3.56s\n",
            "248:\tlearn: 0.3055766\ttotal: 1.18s\tremaining: 3.56s\n",
            "249:\tlearn: 0.3053261\ttotal: 1.19s\tremaining: 3.56s\n",
            "250:\tlearn: 0.3050756\ttotal: 1.19s\tremaining: 3.56s\n",
            "251:\tlearn: 0.3048872\ttotal: 1.2s\tremaining: 3.55s\n",
            "252:\tlearn: 0.3045401\ttotal: 1.2s\tremaining: 3.54s\n",
            "253:\tlearn: 0.3043069\ttotal: 1.2s\tremaining: 3.54s\n",
            "254:\tlearn: 0.3039929\ttotal: 1.21s\tremaining: 3.53s\n",
            "255:\tlearn: 0.3037170\ttotal: 1.21s\tremaining: 3.52s\n",
            "256:\tlearn: 0.3033738\ttotal: 1.22s\tremaining: 3.52s\n",
            "257:\tlearn: 0.3030036\ttotal: 1.22s\tremaining: 3.52s\n",
            "258:\tlearn: 0.3028794\ttotal: 1.23s\tremaining: 3.51s\n",
            "259:\tlearn: 0.3025552\ttotal: 1.23s\tremaining: 3.5s\n",
            "260:\tlearn: 0.3023386\ttotal: 1.24s\tremaining: 3.5s\n",
            "261:\tlearn: 0.3020056\ttotal: 1.24s\tremaining: 3.49s\n",
            "262:\tlearn: 0.3017313\ttotal: 1.24s\tremaining: 3.49s\n",
            "263:\tlearn: 0.3015604\ttotal: 1.25s\tremaining: 3.48s\n",
            "264:\tlearn: 0.3013772\ttotal: 1.25s\tremaining: 3.48s\n",
            "265:\tlearn: 0.3011044\ttotal: 1.26s\tremaining: 3.47s\n",
            "266:\tlearn: 0.3009736\ttotal: 1.26s\tremaining: 3.46s\n",
            "267:\tlearn: 0.3008225\ttotal: 1.27s\tremaining: 3.46s\n",
            "268:\tlearn: 0.3005756\ttotal: 1.27s\tremaining: 3.46s\n",
            "269:\tlearn: 0.3003747\ttotal: 1.28s\tremaining: 3.45s\n",
            "270:\tlearn: 0.2999841\ttotal: 1.28s\tremaining: 3.44s\n",
            "271:\tlearn: 0.2998705\ttotal: 1.29s\tremaining: 3.44s\n",
            "272:\tlearn: 0.2996121\ttotal: 1.29s\tremaining: 3.44s\n",
            "273:\tlearn: 0.2993350\ttotal: 1.3s\tremaining: 3.44s\n",
            "274:\tlearn: 0.2990188\ttotal: 1.3s\tremaining: 3.43s\n",
            "275:\tlearn: 0.2987023\ttotal: 1.31s\tremaining: 3.43s\n",
            "276:\tlearn: 0.2985018\ttotal: 1.31s\tremaining: 3.42s\n",
            "277:\tlearn: 0.2981888\ttotal: 1.31s\tremaining: 3.42s\n",
            "278:\tlearn: 0.2980316\ttotal: 1.32s\tremaining: 3.41s\n",
            "279:\tlearn: 0.2978306\ttotal: 1.32s\tremaining: 3.41s\n",
            "280:\tlearn: 0.2977000\ttotal: 1.33s\tremaining: 3.4s\n",
            "281:\tlearn: 0.2975290\ttotal: 1.33s\tremaining: 3.4s\n",
            "282:\tlearn: 0.2972519\ttotal: 1.34s\tremaining: 3.39s\n",
            "283:\tlearn: 0.2970474\ttotal: 1.34s\tremaining: 3.38s\n",
            "284:\tlearn: 0.2969251\ttotal: 1.35s\tremaining: 3.38s\n",
            "285:\tlearn: 0.2965781\ttotal: 1.35s\tremaining: 3.37s\n",
            "286:\tlearn: 0.2964863\ttotal: 1.35s\tremaining: 3.37s\n",
            "287:\tlearn: 0.2963372\ttotal: 1.36s\tremaining: 3.36s\n",
            "288:\tlearn: 0.2961021\ttotal: 1.36s\tremaining: 3.36s\n",
            "289:\tlearn: 0.2958734\ttotal: 1.37s\tremaining: 3.35s\n",
            "290:\tlearn: 0.2956303\ttotal: 1.37s\tremaining: 3.35s\n",
            "291:\tlearn: 0.2954667\ttotal: 1.38s\tremaining: 3.35s\n",
            "292:\tlearn: 0.2952837\ttotal: 1.38s\tremaining: 3.34s\n",
            "293:\tlearn: 0.2950325\ttotal: 1.39s\tremaining: 3.33s\n",
            "294:\tlearn: 0.2948255\ttotal: 1.39s\tremaining: 3.33s\n",
            "295:\tlearn: 0.2946563\ttotal: 1.4s\tremaining: 3.32s\n",
            "296:\tlearn: 0.2945070\ttotal: 1.4s\tremaining: 3.32s\n",
            "297:\tlearn: 0.2942925\ttotal: 1.41s\tremaining: 3.31s\n",
            "298:\tlearn: 0.2940320\ttotal: 1.41s\tremaining: 3.31s\n",
            "299:\tlearn: 0.2939049\ttotal: 1.42s\tremaining: 3.3s\n",
            "300:\tlearn: 0.2936250\ttotal: 1.42s\tremaining: 3.3s\n",
            "301:\tlearn: 0.2933327\ttotal: 1.42s\tremaining: 3.29s\n",
            "302:\tlearn: 0.2931207\ttotal: 1.43s\tremaining: 3.29s\n",
            "303:\tlearn: 0.2929640\ttotal: 1.43s\tremaining: 3.28s\n",
            "304:\tlearn: 0.2926279\ttotal: 1.44s\tremaining: 3.27s\n",
            "305:\tlearn: 0.2923944\ttotal: 1.44s\tremaining: 3.27s\n",
            "306:\tlearn: 0.2920767\ttotal: 1.45s\tremaining: 3.27s\n",
            "307:\tlearn: 0.2919330\ttotal: 1.45s\tremaining: 3.26s\n",
            "308:\tlearn: 0.2918131\ttotal: 1.45s\tremaining: 3.25s\n",
            "309:\tlearn: 0.2916668\ttotal: 1.46s\tremaining: 3.25s\n",
            "310:\tlearn: 0.2914486\ttotal: 1.46s\tremaining: 3.24s\n",
            "311:\tlearn: 0.2912203\ttotal: 1.47s\tremaining: 3.24s\n",
            "312:\tlearn: 0.2910501\ttotal: 1.47s\tremaining: 3.23s\n",
            "313:\tlearn: 0.2908812\ttotal: 1.48s\tremaining: 3.23s\n",
            "314:\tlearn: 0.2907907\ttotal: 1.48s\tremaining: 3.22s\n",
            "315:\tlearn: 0.2905932\ttotal: 1.49s\tremaining: 3.22s\n",
            "316:\tlearn: 0.2904363\ttotal: 1.49s\tremaining: 3.21s\n",
            "317:\tlearn: 0.2902238\ttotal: 1.49s\tremaining: 3.21s\n",
            "318:\tlearn: 0.2899540\ttotal: 1.5s\tremaining: 3.2s\n",
            "319:\tlearn: 0.2898163\ttotal: 1.5s\tremaining: 3.19s\n",
            "320:\tlearn: 0.2895981\ttotal: 1.51s\tremaining: 3.19s\n",
            "321:\tlearn: 0.2895324\ttotal: 1.51s\tremaining: 3.18s\n",
            "322:\tlearn: 0.2892704\ttotal: 1.52s\tremaining: 3.18s\n",
            "323:\tlearn: 0.2889137\ttotal: 1.52s\tremaining: 3.17s\n",
            "324:\tlearn: 0.2887586\ttotal: 1.53s\tremaining: 3.17s\n",
            "325:\tlearn: 0.2885475\ttotal: 1.53s\tremaining: 3.17s\n",
            "326:\tlearn: 0.2882351\ttotal: 1.54s\tremaining: 3.16s\n",
            "327:\tlearn: 0.2880426\ttotal: 1.54s\tremaining: 3.16s\n",
            "328:\tlearn: 0.2879322\ttotal: 1.55s\tremaining: 3.15s\n",
            "329:\tlearn: 0.2876825\ttotal: 1.55s\tremaining: 3.15s\n",
            "330:\tlearn: 0.2873780\ttotal: 1.55s\tremaining: 3.14s\n",
            "331:\tlearn: 0.2872498\ttotal: 1.56s\tremaining: 3.14s\n",
            "332:\tlearn: 0.2870731\ttotal: 1.56s\tremaining: 3.13s\n",
            "333:\tlearn: 0.2868420\ttotal: 1.57s\tremaining: 3.13s\n",
            "334:\tlearn: 0.2866758\ttotal: 1.58s\tremaining: 3.13s\n",
            "335:\tlearn: 0.2863763\ttotal: 1.58s\tremaining: 3.13s\n",
            "336:\tlearn: 0.2859693\ttotal: 1.59s\tremaining: 3.12s\n",
            "337:\tlearn: 0.2858839\ttotal: 1.59s\tremaining: 3.11s\n",
            "338:\tlearn: 0.2857019\ttotal: 1.59s\tremaining: 3.11s\n",
            "339:\tlearn: 0.2855508\ttotal: 1.6s\tremaining: 3.1s\n",
            "340:\tlearn: 0.2854645\ttotal: 1.6s\tremaining: 3.1s\n",
            "341:\tlearn: 0.2852669\ttotal: 1.61s\tremaining: 3.09s\n",
            "342:\tlearn: 0.2850263\ttotal: 1.61s\tremaining: 3.09s\n",
            "343:\tlearn: 0.2846626\ttotal: 1.62s\tremaining: 3.08s\n",
            "344:\tlearn: 0.2845158\ttotal: 1.62s\tremaining: 3.08s\n",
            "345:\tlearn: 0.2843579\ttotal: 1.63s\tremaining: 3.07s\n",
            "346:\tlearn: 0.2841759\ttotal: 1.63s\tremaining: 3.07s\n",
            "347:\tlearn: 0.2840262\ttotal: 1.63s\tremaining: 3.06s\n",
            "348:\tlearn: 0.2837355\ttotal: 1.64s\tremaining: 3.06s\n",
            "349:\tlearn: 0.2835280\ttotal: 1.64s\tremaining: 3.05s\n",
            "350:\tlearn: 0.2833491\ttotal: 1.65s\tremaining: 3.05s\n",
            "351:\tlearn: 0.2831312\ttotal: 1.65s\tremaining: 3.04s\n",
            "352:\tlearn: 0.2830187\ttotal: 1.66s\tremaining: 3.04s\n",
            "353:\tlearn: 0.2828741\ttotal: 1.66s\tremaining: 3.03s\n",
            "354:\tlearn: 0.2827334\ttotal: 1.66s\tremaining: 3.02s\n",
            "355:\tlearn: 0.2825578\ttotal: 1.67s\tremaining: 3.02s\n",
            "356:\tlearn: 0.2823620\ttotal: 1.67s\tremaining: 3.01s\n",
            "357:\tlearn: 0.2820728\ttotal: 1.68s\tremaining: 3.01s\n",
            "358:\tlearn: 0.2819284\ttotal: 1.68s\tremaining: 3s\n",
            "359:\tlearn: 0.2817599\ttotal: 1.69s\tremaining: 3s\n",
            "360:\tlearn: 0.2817077\ttotal: 1.69s\tremaining: 2.99s\n",
            "361:\tlearn: 0.2815342\ttotal: 1.7s\tremaining: 2.99s\n",
            "362:\tlearn: 0.2813508\ttotal: 1.7s\tremaining: 2.98s\n",
            "363:\tlearn: 0.2811723\ttotal: 1.7s\tremaining: 2.98s\n",
            "364:\tlearn: 0.2810678\ttotal: 1.71s\tremaining: 2.97s\n",
            "365:\tlearn: 0.2809632\ttotal: 1.71s\tremaining: 2.97s\n",
            "366:\tlearn: 0.2807956\ttotal: 1.72s\tremaining: 2.96s\n",
            "367:\tlearn: 0.2805956\ttotal: 1.72s\tremaining: 2.96s\n",
            "368:\tlearn: 0.2804861\ttotal: 1.73s\tremaining: 2.95s\n",
            "369:\tlearn: 0.2802940\ttotal: 1.73s\tremaining: 2.94s\n",
            "370:\tlearn: 0.2800383\ttotal: 1.73s\tremaining: 2.94s\n",
            "371:\tlearn: 0.2799069\ttotal: 1.74s\tremaining: 2.93s\n",
            "372:\tlearn: 0.2797529\ttotal: 1.74s\tremaining: 2.93s\n",
            "373:\tlearn: 0.2794754\ttotal: 1.75s\tremaining: 2.92s\n",
            "374:\tlearn: 0.2792734\ttotal: 1.75s\tremaining: 2.92s\n",
            "375:\tlearn: 0.2790064\ttotal: 1.75s\tremaining: 2.91s\n",
            "376:\tlearn: 0.2788633\ttotal: 1.76s\tremaining: 2.91s\n",
            "377:\tlearn: 0.2787559\ttotal: 1.76s\tremaining: 2.9s\n",
            "378:\tlearn: 0.2786443\ttotal: 1.77s\tremaining: 2.9s\n",
            "379:\tlearn: 0.2784227\ttotal: 1.78s\tremaining: 2.9s\n",
            "380:\tlearn: 0.2782143\ttotal: 1.78s\tremaining: 2.89s\n",
            "381:\tlearn: 0.2779518\ttotal: 1.78s\tremaining: 2.89s\n",
            "382:\tlearn: 0.2776743\ttotal: 1.79s\tremaining: 2.88s\n",
            "383:\tlearn: 0.2775049\ttotal: 1.79s\tremaining: 2.88s\n",
            "384:\tlearn: 0.2772724\ttotal: 1.8s\tremaining: 2.87s\n",
            "385:\tlearn: 0.2769740\ttotal: 1.8s\tremaining: 2.87s\n",
            "386:\tlearn: 0.2767745\ttotal: 1.81s\tremaining: 2.86s\n",
            "387:\tlearn: 0.2765180\ttotal: 1.81s\tremaining: 2.86s\n",
            "388:\tlearn: 0.2763670\ttotal: 1.82s\tremaining: 2.86s\n",
            "389:\tlearn: 0.2761283\ttotal: 1.82s\tremaining: 2.85s\n",
            "390:\tlearn: 0.2759193\ttotal: 1.83s\tremaining: 2.85s\n",
            "391:\tlearn: 0.2758630\ttotal: 1.83s\tremaining: 2.85s\n",
            "392:\tlearn: 0.2755961\ttotal: 1.84s\tremaining: 2.84s\n",
            "393:\tlearn: 0.2753852\ttotal: 1.84s\tremaining: 2.84s\n",
            "394:\tlearn: 0.2752873\ttotal: 1.85s\tremaining: 2.83s\n",
            "395:\tlearn: 0.2750410\ttotal: 1.85s\tremaining: 2.83s\n",
            "396:\tlearn: 0.2748518\ttotal: 1.86s\tremaining: 2.82s\n",
            "397:\tlearn: 0.2746924\ttotal: 1.86s\tremaining: 2.82s\n",
            "398:\tlearn: 0.2744724\ttotal: 1.87s\tremaining: 2.82s\n",
            "399:\tlearn: 0.2742550\ttotal: 1.88s\tremaining: 2.82s\n",
            "400:\tlearn: 0.2739175\ttotal: 1.89s\tremaining: 2.82s\n",
            "401:\tlearn: 0.2737105\ttotal: 1.9s\tremaining: 2.82s\n",
            "402:\tlearn: 0.2734876\ttotal: 1.9s\tremaining: 2.81s\n",
            "403:\tlearn: 0.2732477\ttotal: 1.9s\tremaining: 2.81s\n",
            "404:\tlearn: 0.2731373\ttotal: 1.91s\tremaining: 2.8s\n",
            "405:\tlearn: 0.2730162\ttotal: 1.91s\tremaining: 2.8s\n",
            "406:\tlearn: 0.2729209\ttotal: 1.92s\tremaining: 2.79s\n",
            "407:\tlearn: 0.2727489\ttotal: 1.92s\tremaining: 2.79s\n",
            "408:\tlearn: 0.2724659\ttotal: 1.93s\tremaining: 2.78s\n",
            "409:\tlearn: 0.2722043\ttotal: 1.93s\tremaining: 2.78s\n",
            "410:\tlearn: 0.2720014\ttotal: 1.94s\tremaining: 2.77s\n",
            "411:\tlearn: 0.2714609\ttotal: 1.94s\tremaining: 2.77s\n",
            "412:\tlearn: 0.2711630\ttotal: 1.94s\tremaining: 2.76s\n",
            "413:\tlearn: 0.2710381\ttotal: 1.95s\tremaining: 2.76s\n",
            "414:\tlearn: 0.2709152\ttotal: 1.95s\tremaining: 2.75s\n",
            "415:\tlearn: 0.2708126\ttotal: 1.96s\tremaining: 2.75s\n",
            "416:\tlearn: 0.2706548\ttotal: 1.96s\tremaining: 2.74s\n",
            "417:\tlearn: 0.2704944\ttotal: 1.97s\tremaining: 2.74s\n",
            "418:\tlearn: 0.2701682\ttotal: 1.97s\tremaining: 2.74s\n",
            "419:\tlearn: 0.2698339\ttotal: 1.98s\tremaining: 2.73s\n",
            "420:\tlearn: 0.2697418\ttotal: 1.98s\tremaining: 2.73s\n",
            "421:\tlearn: 0.2695573\ttotal: 1.99s\tremaining: 2.72s\n",
            "422:\tlearn: 0.2694137\ttotal: 1.99s\tremaining: 2.72s\n",
            "423:\tlearn: 0.2692955\ttotal: 2s\tremaining: 2.71s\n",
            "424:\tlearn: 0.2690515\ttotal: 2s\tremaining: 2.71s\n",
            "425:\tlearn: 0.2687595\ttotal: 2s\tremaining: 2.7s\n",
            "426:\tlearn: 0.2684600\ttotal: 2.01s\tremaining: 2.7s\n",
            "427:\tlearn: 0.2680539\ttotal: 2.01s\tremaining: 2.69s\n",
            "428:\tlearn: 0.2677864\ttotal: 2.02s\tremaining: 2.69s\n",
            "429:\tlearn: 0.2674188\ttotal: 2.02s\tremaining: 2.68s\n",
            "430:\tlearn: 0.2672070\ttotal: 2.03s\tremaining: 2.67s\n",
            "431:\tlearn: 0.2670908\ttotal: 2.03s\tremaining: 2.67s\n",
            "432:\tlearn: 0.2670127\ttotal: 2.04s\tremaining: 2.67s\n",
            "433:\tlearn: 0.2668320\ttotal: 2.04s\tremaining: 2.66s\n",
            "434:\tlearn: 0.2666337\ttotal: 2.04s\tremaining: 2.65s\n",
            "435:\tlearn: 0.2664885\ttotal: 2.05s\tremaining: 2.65s\n",
            "436:\tlearn: 0.2663067\ttotal: 2.05s\tremaining: 2.65s\n",
            "437:\tlearn: 0.2660484\ttotal: 2.06s\tremaining: 2.64s\n",
            "438:\tlearn: 0.2658306\ttotal: 2.06s\tremaining: 2.64s\n",
            "439:\tlearn: 0.2655901\ttotal: 2.07s\tremaining: 2.63s\n",
            "440:\tlearn: 0.2654331\ttotal: 2.07s\tremaining: 2.63s\n",
            "441:\tlearn: 0.2651353\ttotal: 2.08s\tremaining: 2.62s\n",
            "442:\tlearn: 0.2649468\ttotal: 2.08s\tremaining: 2.62s\n",
            "443:\tlearn: 0.2647603\ttotal: 2.09s\tremaining: 2.62s\n",
            "444:\tlearn: 0.2646007\ttotal: 2.1s\tremaining: 2.61s\n",
            "445:\tlearn: 0.2644115\ttotal: 2.1s\tremaining: 2.61s\n",
            "446:\tlearn: 0.2642443\ttotal: 2.1s\tremaining: 2.6s\n",
            "447:\tlearn: 0.2639820\ttotal: 2.11s\tremaining: 2.6s\n",
            "448:\tlearn: 0.2638290\ttotal: 2.11s\tremaining: 2.59s\n",
            "449:\tlearn: 0.2636950\ttotal: 2.12s\tremaining: 2.59s\n",
            "450:\tlearn: 0.2635085\ttotal: 2.12s\tremaining: 2.58s\n",
            "451:\tlearn: 0.2634345\ttotal: 2.13s\tremaining: 2.58s\n",
            "452:\tlearn: 0.2631981\ttotal: 2.13s\tremaining: 2.57s\n",
            "453:\tlearn: 0.2630903\ttotal: 2.13s\tremaining: 2.57s\n",
            "454:\tlearn: 0.2630451\ttotal: 2.14s\tremaining: 2.56s\n",
            "455:\tlearn: 0.2627905\ttotal: 2.14s\tremaining: 2.56s\n",
            "456:\tlearn: 0.2626628\ttotal: 2.15s\tremaining: 2.55s\n",
            "457:\tlearn: 0.2623949\ttotal: 2.15s\tremaining: 2.55s\n",
            "458:\tlearn: 0.2623038\ttotal: 2.16s\tremaining: 2.54s\n",
            "459:\tlearn: 0.2621882\ttotal: 2.17s\tremaining: 2.54s\n",
            "460:\tlearn: 0.2620819\ttotal: 2.17s\tremaining: 2.54s\n",
            "461:\tlearn: 0.2619428\ttotal: 2.17s\tremaining: 2.53s\n",
            "462:\tlearn: 0.2617694\ttotal: 2.18s\tremaining: 2.53s\n",
            "463:\tlearn: 0.2614804\ttotal: 2.18s\tremaining: 2.52s\n",
            "464:\tlearn: 0.2613389\ttotal: 2.19s\tremaining: 2.52s\n",
            "465:\tlearn: 0.2611160\ttotal: 2.19s\tremaining: 2.51s\n",
            "466:\tlearn: 0.2609266\ttotal: 2.2s\tremaining: 2.51s\n",
            "467:\tlearn: 0.2607282\ttotal: 2.2s\tremaining: 2.5s\n",
            "468:\tlearn: 0.2605212\ttotal: 2.21s\tremaining: 2.5s\n",
            "469:\tlearn: 0.2603349\ttotal: 2.21s\tremaining: 2.49s\n",
            "470:\tlearn: 0.2601823\ttotal: 2.21s\tremaining: 2.49s\n",
            "471:\tlearn: 0.2600482\ttotal: 2.22s\tremaining: 2.48s\n",
            "472:\tlearn: 0.2598939\ttotal: 2.22s\tremaining: 2.48s\n",
            "473:\tlearn: 0.2597988\ttotal: 2.23s\tremaining: 2.47s\n",
            "474:\tlearn: 0.2595402\ttotal: 2.23s\tremaining: 2.46s\n",
            "475:\tlearn: 0.2592729\ttotal: 2.23s\tremaining: 2.46s\n",
            "476:\tlearn: 0.2591830\ttotal: 2.24s\tremaining: 2.46s\n",
            "477:\tlearn: 0.2589833\ttotal: 2.24s\tremaining: 2.45s\n",
            "478:\tlearn: 0.2588666\ttotal: 2.25s\tremaining: 2.45s\n",
            "479:\tlearn: 0.2586775\ttotal: 2.25s\tremaining: 2.44s\n",
            "480:\tlearn: 0.2584890\ttotal: 2.26s\tremaining: 2.44s\n",
            "481:\tlearn: 0.2583377\ttotal: 2.26s\tremaining: 2.43s\n",
            "482:\tlearn: 0.2581411\ttotal: 2.27s\tremaining: 2.42s\n",
            "483:\tlearn: 0.2580088\ttotal: 2.27s\tremaining: 2.42s\n",
            "484:\tlearn: 0.2578380\ttotal: 2.27s\tremaining: 2.42s\n",
            "485:\tlearn: 0.2575664\ttotal: 2.28s\tremaining: 2.41s\n",
            "486:\tlearn: 0.2574145\ttotal: 2.28s\tremaining: 2.4s\n",
            "487:\tlearn: 0.2572033\ttotal: 2.29s\tremaining: 2.4s\n",
            "488:\tlearn: 0.2570209\ttotal: 2.29s\tremaining: 2.4s\n",
            "489:\tlearn: 0.2568899\ttotal: 2.3s\tremaining: 2.39s\n",
            "490:\tlearn: 0.2568581\ttotal: 2.3s\tremaining: 2.38s\n",
            "491:\tlearn: 0.2566240\ttotal: 2.31s\tremaining: 2.38s\n",
            "492:\tlearn: 0.2565978\ttotal: 2.31s\tremaining: 2.38s\n",
            "493:\tlearn: 0.2562944\ttotal: 2.32s\tremaining: 2.38s\n",
            "494:\tlearn: 0.2561226\ttotal: 2.32s\tremaining: 2.37s\n",
            "495:\tlearn: 0.2559507\ttotal: 2.33s\tremaining: 2.37s\n",
            "496:\tlearn: 0.2558548\ttotal: 2.33s\tremaining: 2.36s\n",
            "497:\tlearn: 0.2555552\ttotal: 2.34s\tremaining: 2.36s\n",
            "498:\tlearn: 0.2554032\ttotal: 2.34s\tremaining: 2.35s\n",
            "499:\tlearn: 0.2552354\ttotal: 2.35s\tremaining: 2.35s\n",
            "500:\tlearn: 0.2550291\ttotal: 2.35s\tremaining: 2.34s\n",
            "501:\tlearn: 0.2548279\ttotal: 2.36s\tremaining: 2.34s\n",
            "502:\tlearn: 0.2546718\ttotal: 2.37s\tremaining: 2.34s\n",
            "503:\tlearn: 0.2545596\ttotal: 2.37s\tremaining: 2.34s\n",
            "504:\tlearn: 0.2544191\ttotal: 2.38s\tremaining: 2.33s\n",
            "505:\tlearn: 0.2542730\ttotal: 2.38s\tremaining: 2.33s\n",
            "506:\tlearn: 0.2541979\ttotal: 2.39s\tremaining: 2.32s\n",
            "507:\tlearn: 0.2539529\ttotal: 2.39s\tremaining: 2.32s\n",
            "508:\tlearn: 0.2536967\ttotal: 2.4s\tremaining: 2.31s\n",
            "509:\tlearn: 0.2536159\ttotal: 2.4s\tremaining: 2.31s\n",
            "510:\tlearn: 0.2534749\ttotal: 2.41s\tremaining: 2.31s\n",
            "511:\tlearn: 0.2531954\ttotal: 2.41s\tremaining: 2.3s\n",
            "512:\tlearn: 0.2530927\ttotal: 2.42s\tremaining: 2.29s\n",
            "513:\tlearn: 0.2529283\ttotal: 2.42s\tremaining: 2.29s\n",
            "514:\tlearn: 0.2527636\ttotal: 2.43s\tremaining: 2.29s\n",
            "515:\tlearn: 0.2525502\ttotal: 2.43s\tremaining: 2.28s\n",
            "516:\tlearn: 0.2524180\ttotal: 2.44s\tremaining: 2.28s\n",
            "517:\tlearn: 0.2522865\ttotal: 2.44s\tremaining: 2.27s\n",
            "518:\tlearn: 0.2520659\ttotal: 2.45s\tremaining: 2.27s\n",
            "519:\tlearn: 0.2519535\ttotal: 2.45s\tremaining: 2.26s\n",
            "520:\tlearn: 0.2518431\ttotal: 2.46s\tremaining: 2.26s\n",
            "521:\tlearn: 0.2516449\ttotal: 2.46s\tremaining: 2.25s\n",
            "522:\tlearn: 0.2514911\ttotal: 2.46s\tremaining: 2.25s\n",
            "523:\tlearn: 0.2512805\ttotal: 2.47s\tremaining: 2.24s\n",
            "524:\tlearn: 0.2510298\ttotal: 2.47s\tremaining: 2.24s\n",
            "525:\tlearn: 0.2507610\ttotal: 2.48s\tremaining: 2.23s\n",
            "526:\tlearn: 0.2505869\ttotal: 2.48s\tremaining: 2.23s\n",
            "527:\tlearn: 0.2503233\ttotal: 2.48s\tremaining: 2.22s\n",
            "528:\tlearn: 0.2501710\ttotal: 2.49s\tremaining: 2.22s\n",
            "529:\tlearn: 0.2499823\ttotal: 2.49s\tremaining: 2.21s\n",
            "530:\tlearn: 0.2498115\ttotal: 2.5s\tremaining: 2.21s\n",
            "531:\tlearn: 0.2495908\ttotal: 2.5s\tremaining: 2.2s\n",
            "532:\tlearn: 0.2495276\ttotal: 2.51s\tremaining: 2.2s\n",
            "533:\tlearn: 0.2493670\ttotal: 2.51s\tremaining: 2.19s\n",
            "534:\tlearn: 0.2491072\ttotal: 2.52s\tremaining: 2.19s\n",
            "535:\tlearn: 0.2487501\ttotal: 2.52s\tremaining: 2.18s\n",
            "536:\tlearn: 0.2485641\ttotal: 2.52s\tremaining: 2.18s\n",
            "537:\tlearn: 0.2484864\ttotal: 2.53s\tremaining: 2.17s\n",
            "538:\tlearn: 0.2484087\ttotal: 2.53s\tremaining: 2.17s\n",
            "539:\tlearn: 0.2481649\ttotal: 2.54s\tremaining: 2.16s\n",
            "540:\tlearn: 0.2480513\ttotal: 2.54s\tremaining: 2.16s\n",
            "541:\tlearn: 0.2479388\ttotal: 2.55s\tremaining: 2.15s\n",
            "542:\tlearn: 0.2478004\ttotal: 2.55s\tremaining: 2.15s\n",
            "543:\tlearn: 0.2476657\ttotal: 2.56s\tremaining: 2.15s\n",
            "544:\tlearn: 0.2474898\ttotal: 2.56s\tremaining: 2.14s\n",
            "545:\tlearn: 0.2473192\ttotal: 2.57s\tremaining: 2.14s\n",
            "546:\tlearn: 0.2471768\ttotal: 2.57s\tremaining: 2.13s\n",
            "547:\tlearn: 0.2470125\ttotal: 2.58s\tremaining: 2.13s\n",
            "548:\tlearn: 0.2468358\ttotal: 2.58s\tremaining: 2.12s\n",
            "549:\tlearn: 0.2467548\ttotal: 2.59s\tremaining: 2.12s\n",
            "550:\tlearn: 0.2466064\ttotal: 2.59s\tremaining: 2.11s\n",
            "551:\tlearn: 0.2464517\ttotal: 2.6s\tremaining: 2.11s\n",
            "552:\tlearn: 0.2462123\ttotal: 2.6s\tremaining: 2.1s\n",
            "553:\tlearn: 0.2460404\ttotal: 2.6s\tremaining: 2.1s\n",
            "554:\tlearn: 0.2459113\ttotal: 2.61s\tremaining: 2.09s\n",
            "555:\tlearn: 0.2456626\ttotal: 2.61s\tremaining: 2.09s\n",
            "556:\tlearn: 0.2454086\ttotal: 2.62s\tremaining: 2.08s\n",
            "557:\tlearn: 0.2452473\ttotal: 2.62s\tremaining: 2.08s\n",
            "558:\tlearn: 0.2450654\ttotal: 2.63s\tremaining: 2.07s\n",
            "559:\tlearn: 0.2449778\ttotal: 2.63s\tremaining: 2.07s\n",
            "560:\tlearn: 0.2448288\ttotal: 2.64s\tremaining: 2.06s\n",
            "561:\tlearn: 0.2446649\ttotal: 2.64s\tremaining: 2.06s\n",
            "562:\tlearn: 0.2445677\ttotal: 2.65s\tremaining: 2.05s\n",
            "563:\tlearn: 0.2443155\ttotal: 2.65s\tremaining: 2.05s\n",
            "564:\tlearn: 0.2441730\ttotal: 2.65s\tremaining: 2.04s\n",
            "565:\tlearn: 0.2440360\ttotal: 2.66s\tremaining: 2.04s\n",
            "566:\tlearn: 0.2439394\ttotal: 2.66s\tremaining: 2.03s\n",
            "567:\tlearn: 0.2437310\ttotal: 2.67s\tremaining: 2.03s\n",
            "568:\tlearn: 0.2436656\ttotal: 2.67s\tremaining: 2.02s\n",
            "569:\tlearn: 0.2433548\ttotal: 2.67s\tremaining: 2.02s\n",
            "570:\tlearn: 0.2431890\ttotal: 2.68s\tremaining: 2.01s\n",
            "571:\tlearn: 0.2430233\ttotal: 2.68s\tremaining: 2.01s\n",
            "572:\tlearn: 0.2428518\ttotal: 2.69s\tremaining: 2s\n",
            "573:\tlearn: 0.2426312\ttotal: 2.69s\tremaining: 2s\n",
            "574:\tlearn: 0.2424747\ttotal: 2.7s\tremaining: 1.99s\n",
            "575:\tlearn: 0.2422926\ttotal: 2.7s\tremaining: 1.99s\n",
            "576:\tlearn: 0.2420001\ttotal: 2.71s\tremaining: 1.98s\n",
            "577:\tlearn: 0.2419092\ttotal: 2.71s\tremaining: 1.98s\n",
            "578:\tlearn: 0.2417305\ttotal: 2.71s\tremaining: 1.97s\n",
            "579:\tlearn: 0.2415482\ttotal: 2.72s\tremaining: 1.97s\n",
            "580:\tlearn: 0.2414572\ttotal: 2.72s\tremaining: 1.96s\n",
            "581:\tlearn: 0.2412604\ttotal: 2.73s\tremaining: 1.96s\n",
            "582:\tlearn: 0.2412086\ttotal: 2.73s\tremaining: 1.95s\n",
            "583:\tlearn: 0.2409628\ttotal: 2.74s\tremaining: 1.95s\n",
            "584:\tlearn: 0.2407667\ttotal: 2.74s\tremaining: 1.94s\n",
            "585:\tlearn: 0.2406769\ttotal: 2.75s\tremaining: 1.94s\n",
            "586:\tlearn: 0.2406040\ttotal: 2.75s\tremaining: 1.93s\n",
            "587:\tlearn: 0.2404759\ttotal: 2.75s\tremaining: 1.93s\n",
            "588:\tlearn: 0.2401940\ttotal: 2.76s\tremaining: 1.93s\n",
            "589:\tlearn: 0.2400113\ttotal: 2.77s\tremaining: 1.92s\n",
            "590:\tlearn: 0.2397996\ttotal: 2.77s\tremaining: 1.92s\n",
            "591:\tlearn: 0.2396585\ttotal: 2.77s\tremaining: 1.91s\n",
            "592:\tlearn: 0.2394869\ttotal: 2.78s\tremaining: 1.91s\n",
            "593:\tlearn: 0.2392557\ttotal: 2.78s\tremaining: 1.9s\n",
            "594:\tlearn: 0.2390444\ttotal: 2.79s\tremaining: 1.9s\n",
            "595:\tlearn: 0.2388275\ttotal: 2.79s\tremaining: 1.89s\n",
            "596:\tlearn: 0.2387510\ttotal: 2.8s\tremaining: 1.89s\n",
            "597:\tlearn: 0.2384685\ttotal: 2.81s\tremaining: 1.89s\n",
            "598:\tlearn: 0.2383501\ttotal: 2.81s\tremaining: 1.88s\n",
            "599:\tlearn: 0.2382449\ttotal: 2.81s\tremaining: 1.88s\n",
            "600:\tlearn: 0.2381280\ttotal: 2.82s\tremaining: 1.87s\n",
            "601:\tlearn: 0.2380929\ttotal: 2.83s\tremaining: 1.87s\n",
            "602:\tlearn: 0.2378322\ttotal: 2.83s\tremaining: 1.86s\n",
            "603:\tlearn: 0.2376671\ttotal: 2.83s\tremaining: 1.86s\n",
            "604:\tlearn: 0.2374558\ttotal: 2.84s\tremaining: 1.85s\n",
            "605:\tlearn: 0.2372409\ttotal: 2.84s\tremaining: 1.85s\n",
            "606:\tlearn: 0.2371343\ttotal: 2.85s\tremaining: 1.84s\n",
            "607:\tlearn: 0.2368300\ttotal: 2.86s\tremaining: 1.85s\n",
            "608:\tlearn: 0.2366588\ttotal: 2.87s\tremaining: 1.84s\n",
            "609:\tlearn: 0.2365155\ttotal: 2.87s\tremaining: 1.84s\n",
            "610:\tlearn: 0.2363206\ttotal: 2.88s\tremaining: 1.83s\n",
            "611:\tlearn: 0.2361923\ttotal: 2.88s\tremaining: 1.83s\n",
            "612:\tlearn: 0.2359752\ttotal: 2.89s\tremaining: 1.82s\n",
            "613:\tlearn: 0.2357910\ttotal: 2.89s\tremaining: 1.82s\n",
            "614:\tlearn: 0.2355819\ttotal: 2.9s\tremaining: 1.81s\n",
            "615:\tlearn: 0.2355292\ttotal: 2.9s\tremaining: 1.81s\n",
            "616:\tlearn: 0.2354469\ttotal: 2.9s\tremaining: 1.8s\n",
            "617:\tlearn: 0.2353182\ttotal: 2.91s\tremaining: 1.8s\n",
            "618:\tlearn: 0.2351155\ttotal: 2.91s\tremaining: 1.79s\n",
            "619:\tlearn: 0.2350341\ttotal: 2.92s\tremaining: 1.79s\n",
            "620:\tlearn: 0.2348588\ttotal: 2.92s\tremaining: 1.78s\n",
            "621:\tlearn: 0.2346864\ttotal: 2.93s\tremaining: 1.78s\n",
            "622:\tlearn: 0.2344741\ttotal: 2.94s\tremaining: 1.78s\n",
            "623:\tlearn: 0.2342179\ttotal: 2.95s\tremaining: 1.78s\n",
            "624:\tlearn: 0.2340206\ttotal: 2.96s\tremaining: 1.77s\n",
            "625:\tlearn: 0.2337366\ttotal: 2.96s\tremaining: 1.77s\n",
            "626:\tlearn: 0.2335906\ttotal: 2.97s\tremaining: 1.76s\n",
            "627:\tlearn: 0.2334595\ttotal: 2.97s\tremaining: 1.76s\n",
            "628:\tlearn: 0.2332912\ttotal: 2.97s\tremaining: 1.75s\n",
            "629:\tlearn: 0.2331823\ttotal: 2.98s\tremaining: 1.75s\n",
            "630:\tlearn: 0.2329174\ttotal: 2.98s\tremaining: 1.74s\n",
            "631:\tlearn: 0.2326092\ttotal: 2.99s\tremaining: 1.74s\n",
            "632:\tlearn: 0.2324413\ttotal: 2.99s\tremaining: 1.74s\n",
            "633:\tlearn: 0.2322919\ttotal: 3s\tremaining: 1.73s\n",
            "634:\tlearn: 0.2321665\ttotal: 3s\tremaining: 1.73s\n",
            "635:\tlearn: 0.2320072\ttotal: 3s\tremaining: 1.72s\n",
            "636:\tlearn: 0.2317343\ttotal: 3.01s\tremaining: 1.72s\n",
            "637:\tlearn: 0.2314169\ttotal: 3.02s\tremaining: 1.71s\n",
            "638:\tlearn: 0.2312227\ttotal: 3.02s\tremaining: 1.71s\n",
            "639:\tlearn: 0.2310242\ttotal: 3.03s\tremaining: 1.7s\n",
            "640:\tlearn: 0.2308530\ttotal: 3.03s\tremaining: 1.7s\n",
            "641:\tlearn: 0.2306469\ttotal: 3.04s\tremaining: 1.69s\n",
            "642:\tlearn: 0.2303344\ttotal: 3.04s\tremaining: 1.69s\n",
            "643:\tlearn: 0.2302563\ttotal: 3.04s\tremaining: 1.68s\n",
            "644:\tlearn: 0.2300910\ttotal: 3.05s\tremaining: 1.68s\n",
            "645:\tlearn: 0.2300249\ttotal: 3.05s\tremaining: 1.67s\n",
            "646:\tlearn: 0.2297593\ttotal: 3.06s\tremaining: 1.67s\n",
            "647:\tlearn: 0.2294909\ttotal: 3.06s\tremaining: 1.66s\n",
            "648:\tlearn: 0.2293140\ttotal: 3.07s\tremaining: 1.66s\n",
            "649:\tlearn: 0.2290907\ttotal: 3.07s\tremaining: 1.65s\n",
            "650:\tlearn: 0.2290057\ttotal: 3.08s\tremaining: 1.65s\n",
            "651:\tlearn: 0.2287544\ttotal: 3.08s\tremaining: 1.64s\n",
            "652:\tlearn: 0.2284890\ttotal: 3.08s\tremaining: 1.64s\n",
            "653:\tlearn: 0.2283220\ttotal: 3.09s\tremaining: 1.63s\n",
            "654:\tlearn: 0.2280730\ttotal: 3.09s\tremaining: 1.63s\n",
            "655:\tlearn: 0.2278842\ttotal: 3.1s\tremaining: 1.62s\n",
            "656:\tlearn: 0.2276692\ttotal: 3.1s\tremaining: 1.62s\n",
            "657:\tlearn: 0.2274823\ttotal: 3.11s\tremaining: 1.61s\n",
            "658:\tlearn: 0.2272993\ttotal: 3.11s\tremaining: 1.61s\n",
            "659:\tlearn: 0.2270992\ttotal: 3.12s\tremaining: 1.6s\n",
            "660:\tlearn: 0.2270232\ttotal: 3.12s\tremaining: 1.6s\n",
            "661:\tlearn: 0.2268741\ttotal: 3.12s\tremaining: 1.59s\n",
            "662:\tlearn: 0.2266587\ttotal: 3.13s\tremaining: 1.59s\n",
            "663:\tlearn: 0.2265319\ttotal: 3.13s\tremaining: 1.58s\n",
            "664:\tlearn: 0.2263075\ttotal: 3.14s\tremaining: 1.58s\n",
            "665:\tlearn: 0.2261389\ttotal: 3.14s\tremaining: 1.57s\n",
            "666:\tlearn: 0.2259973\ttotal: 3.15s\tremaining: 1.57s\n",
            "667:\tlearn: 0.2257693\ttotal: 3.15s\tremaining: 1.57s\n",
            "668:\tlearn: 0.2256285\ttotal: 3.16s\tremaining: 1.56s\n",
            "669:\tlearn: 0.2254315\ttotal: 3.16s\tremaining: 1.56s\n",
            "670:\tlearn: 0.2252028\ttotal: 3.17s\tremaining: 1.55s\n",
            "671:\tlearn: 0.2250638\ttotal: 3.17s\tremaining: 1.55s\n",
            "672:\tlearn: 0.2248829\ttotal: 3.18s\tremaining: 1.54s\n",
            "673:\tlearn: 0.2246702\ttotal: 3.18s\tremaining: 1.54s\n",
            "674:\tlearn: 0.2245063\ttotal: 3.19s\tremaining: 1.53s\n",
            "675:\tlearn: 0.2243196\ttotal: 3.19s\tremaining: 1.53s\n",
            "676:\tlearn: 0.2240961\ttotal: 3.19s\tremaining: 1.52s\n",
            "677:\tlearn: 0.2239894\ttotal: 3.2s\tremaining: 1.52s\n",
            "678:\tlearn: 0.2239693\ttotal: 3.2s\tremaining: 1.51s\n",
            "679:\tlearn: 0.2238161\ttotal: 3.21s\tremaining: 1.51s\n",
            "680:\tlearn: 0.2237560\ttotal: 3.21s\tremaining: 1.5s\n",
            "681:\tlearn: 0.2235613\ttotal: 3.22s\tremaining: 1.5s\n",
            "682:\tlearn: 0.2234136\ttotal: 3.22s\tremaining: 1.49s\n",
            "683:\tlearn: 0.2231608\ttotal: 3.23s\tremaining: 1.49s\n",
            "684:\tlearn: 0.2228778\ttotal: 3.23s\tremaining: 1.49s\n",
            "685:\tlearn: 0.2227648\ttotal: 3.24s\tremaining: 1.48s\n",
            "686:\tlearn: 0.2225379\ttotal: 3.24s\tremaining: 1.48s\n",
            "687:\tlearn: 0.2224472\ttotal: 3.25s\tremaining: 1.47s\n",
            "688:\tlearn: 0.2222572\ttotal: 3.25s\tremaining: 1.47s\n",
            "689:\tlearn: 0.2220335\ttotal: 3.26s\tremaining: 1.46s\n",
            "690:\tlearn: 0.2218046\ttotal: 3.26s\tremaining: 1.46s\n",
            "691:\tlearn: 0.2217012\ttotal: 3.27s\tremaining: 1.45s\n",
            "692:\tlearn: 0.2214626\ttotal: 3.27s\tremaining: 1.45s\n",
            "693:\tlearn: 0.2212245\ttotal: 3.28s\tremaining: 1.44s\n",
            "694:\tlearn: 0.2210744\ttotal: 3.28s\tremaining: 1.44s\n",
            "695:\tlearn: 0.2209801\ttotal: 3.29s\tremaining: 1.44s\n",
            "696:\tlearn: 0.2207779\ttotal: 3.29s\tremaining: 1.43s\n",
            "697:\tlearn: 0.2205992\ttotal: 3.29s\tremaining: 1.43s\n",
            "698:\tlearn: 0.2203772\ttotal: 3.3s\tremaining: 1.42s\n",
            "699:\tlearn: 0.2201661\ttotal: 3.3s\tremaining: 1.42s\n",
            "700:\tlearn: 0.2199013\ttotal: 3.31s\tremaining: 1.41s\n",
            "701:\tlearn: 0.2197451\ttotal: 3.31s\tremaining: 1.41s\n",
            "702:\tlearn: 0.2196773\ttotal: 3.32s\tremaining: 1.4s\n",
            "703:\tlearn: 0.2196018\ttotal: 3.32s\tremaining: 1.4s\n",
            "704:\tlearn: 0.2194300\ttotal: 3.33s\tremaining: 1.39s\n",
            "705:\tlearn: 0.2193680\ttotal: 3.33s\tremaining: 1.39s\n",
            "706:\tlearn: 0.2191338\ttotal: 3.34s\tremaining: 1.38s\n",
            "707:\tlearn: 0.2190334\ttotal: 3.35s\tremaining: 1.38s\n",
            "708:\tlearn: 0.2188929\ttotal: 3.35s\tremaining: 1.38s\n",
            "709:\tlearn: 0.2187291\ttotal: 3.35s\tremaining: 1.37s\n",
            "710:\tlearn: 0.2185963\ttotal: 3.36s\tremaining: 1.36s\n",
            "711:\tlearn: 0.2184187\ttotal: 3.36s\tremaining: 1.36s\n",
            "712:\tlearn: 0.2182540\ttotal: 3.37s\tremaining: 1.35s\n",
            "713:\tlearn: 0.2181423\ttotal: 3.37s\tremaining: 1.35s\n",
            "714:\tlearn: 0.2179389\ttotal: 3.38s\tremaining: 1.35s\n",
            "715:\tlearn: 0.2178199\ttotal: 3.38s\tremaining: 1.34s\n",
            "716:\tlearn: 0.2177369\ttotal: 3.39s\tremaining: 1.34s\n",
            "717:\tlearn: 0.2175382\ttotal: 3.39s\tremaining: 1.33s\n",
            "718:\tlearn: 0.2174656\ttotal: 3.39s\tremaining: 1.33s\n",
            "719:\tlearn: 0.2173386\ttotal: 3.4s\tremaining: 1.32s\n",
            "720:\tlearn: 0.2171440\ttotal: 3.4s\tremaining: 1.32s\n",
            "721:\tlearn: 0.2169228\ttotal: 3.41s\tremaining: 1.31s\n",
            "722:\tlearn: 0.2167268\ttotal: 3.41s\tremaining: 1.31s\n",
            "723:\tlearn: 0.2165821\ttotal: 3.42s\tremaining: 1.3s\n",
            "724:\tlearn: 0.2164442\ttotal: 3.42s\tremaining: 1.3s\n",
            "725:\tlearn: 0.2162750\ttotal: 3.42s\tremaining: 1.29s\n",
            "726:\tlearn: 0.2161230\ttotal: 3.43s\tremaining: 1.29s\n",
            "727:\tlearn: 0.2160372\ttotal: 3.43s\tremaining: 1.28s\n",
            "728:\tlearn: 0.2158570\ttotal: 3.44s\tremaining: 1.28s\n",
            "729:\tlearn: 0.2156527\ttotal: 3.44s\tremaining: 1.27s\n",
            "730:\tlearn: 0.2156275\ttotal: 3.45s\tremaining: 1.27s\n",
            "731:\tlearn: 0.2154692\ttotal: 3.45s\tremaining: 1.26s\n",
            "732:\tlearn: 0.2153814\ttotal: 3.46s\tremaining: 1.26s\n",
            "733:\tlearn: 0.2151104\ttotal: 3.46s\tremaining: 1.25s\n",
            "734:\tlearn: 0.2149783\ttotal: 3.46s\tremaining: 1.25s\n",
            "735:\tlearn: 0.2149017\ttotal: 3.47s\tremaining: 1.24s\n",
            "736:\tlearn: 0.2148557\ttotal: 3.47s\tremaining: 1.24s\n",
            "737:\tlearn: 0.2146927\ttotal: 3.48s\tremaining: 1.23s\n",
            "738:\tlearn: 0.2145531\ttotal: 3.48s\tremaining: 1.23s\n",
            "739:\tlearn: 0.2143743\ttotal: 3.49s\tremaining: 1.23s\n",
            "740:\tlearn: 0.2143542\ttotal: 3.49s\tremaining: 1.22s\n",
            "741:\tlearn: 0.2141597\ttotal: 3.5s\tremaining: 1.22s\n",
            "742:\tlearn: 0.2140025\ttotal: 3.5s\tremaining: 1.21s\n",
            "743:\tlearn: 0.2137845\ttotal: 3.5s\tremaining: 1.21s\n",
            "744:\tlearn: 0.2136651\ttotal: 3.51s\tremaining: 1.2s\n",
            "745:\tlearn: 0.2134883\ttotal: 3.51s\tremaining: 1.2s\n",
            "746:\tlearn: 0.2133165\ttotal: 3.52s\tremaining: 1.19s\n",
            "747:\tlearn: 0.2132287\ttotal: 3.53s\tremaining: 1.19s\n",
            "748:\tlearn: 0.2130471\ttotal: 3.54s\tremaining: 1.18s\n",
            "749:\tlearn: 0.2128117\ttotal: 3.54s\tremaining: 1.18s\n",
            "750:\tlearn: 0.2126476\ttotal: 3.55s\tremaining: 1.18s\n",
            "751:\tlearn: 0.2125193\ttotal: 3.55s\tremaining: 1.17s\n",
            "752:\tlearn: 0.2123873\ttotal: 3.56s\tremaining: 1.17s\n",
            "753:\tlearn: 0.2121760\ttotal: 3.56s\tremaining: 1.16s\n",
            "754:\tlearn: 0.2121052\ttotal: 3.57s\tremaining: 1.16s\n",
            "755:\tlearn: 0.2119591\ttotal: 3.57s\tremaining: 1.15s\n",
            "756:\tlearn: 0.2118062\ttotal: 3.58s\tremaining: 1.15s\n",
            "757:\tlearn: 0.2116599\ttotal: 3.58s\tremaining: 1.14s\n",
            "758:\tlearn: 0.2114882\ttotal: 3.59s\tremaining: 1.14s\n",
            "759:\tlearn: 0.2113360\ttotal: 3.59s\tremaining: 1.13s\n",
            "760:\tlearn: 0.2112068\ttotal: 3.59s\tremaining: 1.13s\n",
            "761:\tlearn: 0.2109975\ttotal: 3.6s\tremaining: 1.12s\n",
            "762:\tlearn: 0.2108249\ttotal: 3.6s\tremaining: 1.12s\n",
            "763:\tlearn: 0.2108022\ttotal: 3.61s\tremaining: 1.11s\n",
            "764:\tlearn: 0.2106621\ttotal: 3.61s\tremaining: 1.11s\n",
            "765:\tlearn: 0.2105637\ttotal: 3.62s\tremaining: 1.1s\n",
            "766:\tlearn: 0.2103683\ttotal: 3.62s\tremaining: 1.1s\n",
            "767:\tlearn: 0.2102009\ttotal: 3.63s\tremaining: 1.09s\n",
            "768:\tlearn: 0.2101259\ttotal: 3.63s\tremaining: 1.09s\n",
            "769:\tlearn: 0.2099032\ttotal: 3.63s\tremaining: 1.08s\n",
            "770:\tlearn: 0.2096854\ttotal: 3.64s\tremaining: 1.08s\n",
            "771:\tlearn: 0.2094749\ttotal: 3.64s\tremaining: 1.07s\n",
            "772:\tlearn: 0.2094209\ttotal: 3.65s\tremaining: 1.07s\n",
            "773:\tlearn: 0.2092732\ttotal: 3.65s\tremaining: 1.07s\n",
            "774:\tlearn: 0.2091999\ttotal: 3.66s\tremaining: 1.06s\n",
            "775:\tlearn: 0.2090604\ttotal: 3.66s\tremaining: 1.06s\n",
            "776:\tlearn: 0.2089221\ttotal: 3.67s\tremaining: 1.05s\n",
            "777:\tlearn: 0.2088603\ttotal: 3.67s\tremaining: 1.05s\n",
            "778:\tlearn: 0.2087533\ttotal: 3.67s\tremaining: 1.04s\n",
            "779:\tlearn: 0.2086232\ttotal: 3.68s\tremaining: 1.04s\n",
            "780:\tlearn: 0.2084422\ttotal: 3.68s\tremaining: 1.03s\n",
            "781:\tlearn: 0.2082973\ttotal: 3.69s\tremaining: 1.03s\n",
            "782:\tlearn: 0.2081265\ttotal: 3.69s\tremaining: 1.02s\n",
            "783:\tlearn: 0.2079843\ttotal: 3.69s\tremaining: 1.02s\n",
            "784:\tlearn: 0.2077806\ttotal: 3.7s\tremaining: 1.01s\n",
            "785:\tlearn: 0.2077078\ttotal: 3.7s\tremaining: 1.01s\n",
            "786:\tlearn: 0.2076027\ttotal: 3.71s\tremaining: 1s\n",
            "787:\tlearn: 0.2074692\ttotal: 3.71s\tremaining: 999ms\n",
            "788:\tlearn: 0.2072882\ttotal: 3.72s\tremaining: 994ms\n",
            "789:\tlearn: 0.2071555\ttotal: 3.72s\tremaining: 989ms\n",
            "790:\tlearn: 0.2069644\ttotal: 3.73s\tremaining: 985ms\n",
            "791:\tlearn: 0.2069098\ttotal: 3.74s\tremaining: 981ms\n",
            "792:\tlearn: 0.2068416\ttotal: 3.74s\tremaining: 977ms\n",
            "793:\tlearn: 0.2066756\ttotal: 3.75s\tremaining: 972ms\n",
            "794:\tlearn: 0.2064845\ttotal: 3.75s\tremaining: 967ms\n",
            "795:\tlearn: 0.2063331\ttotal: 3.75s\tremaining: 962ms\n",
            "796:\tlearn: 0.2061761\ttotal: 3.76s\tremaining: 958ms\n",
            "797:\tlearn: 0.2061271\ttotal: 3.76s\tremaining: 953ms\n",
            "798:\tlearn: 0.2060195\ttotal: 3.77s\tremaining: 948ms\n",
            "799:\tlearn: 0.2058961\ttotal: 3.77s\tremaining: 944ms\n",
            "800:\tlearn: 0.2057282\ttotal: 3.78s\tremaining: 940ms\n",
            "801:\tlearn: 0.2056320\ttotal: 3.79s\tremaining: 935ms\n",
            "802:\tlearn: 0.2054779\ttotal: 3.79s\tremaining: 930ms\n",
            "803:\tlearn: 0.2052885\ttotal: 3.8s\tremaining: 925ms\n",
            "804:\tlearn: 0.2051760\ttotal: 3.8s\tremaining: 921ms\n",
            "805:\tlearn: 0.2049881\ttotal: 3.81s\tremaining: 916ms\n",
            "806:\tlearn: 0.2048376\ttotal: 3.81s\tremaining: 911ms\n",
            "807:\tlearn: 0.2046542\ttotal: 3.81s\tremaining: 906ms\n",
            "808:\tlearn: 0.2045613\ttotal: 3.82s\tremaining: 902ms\n",
            "809:\tlearn: 0.2044270\ttotal: 3.83s\tremaining: 898ms\n",
            "810:\tlearn: 0.2042252\ttotal: 3.84s\tremaining: 894ms\n",
            "811:\tlearn: 0.2041556\ttotal: 3.84s\tremaining: 890ms\n",
            "812:\tlearn: 0.2040328\ttotal: 3.85s\tremaining: 885ms\n",
            "813:\tlearn: 0.2039429\ttotal: 3.85s\tremaining: 880ms\n",
            "814:\tlearn: 0.2037955\ttotal: 3.85s\tremaining: 875ms\n",
            "815:\tlearn: 0.2036888\ttotal: 3.86s\tremaining: 870ms\n",
            "816:\tlearn: 0.2035775\ttotal: 3.86s\tremaining: 866ms\n",
            "817:\tlearn: 0.2033965\ttotal: 3.87s\tremaining: 861ms\n",
            "818:\tlearn: 0.2032599\ttotal: 3.87s\tremaining: 856ms\n",
            "819:\tlearn: 0.2030774\ttotal: 3.88s\tremaining: 851ms\n",
            "820:\tlearn: 0.2028761\ttotal: 3.88s\tremaining: 846ms\n",
            "821:\tlearn: 0.2027646\ttotal: 3.89s\tremaining: 842ms\n",
            "822:\tlearn: 0.2026542\ttotal: 3.89s\tremaining: 837ms\n",
            "823:\tlearn: 0.2024662\ttotal: 3.89s\tremaining: 832ms\n",
            "824:\tlearn: 0.2023257\ttotal: 3.9s\tremaining: 827ms\n",
            "825:\tlearn: 0.2021408\ttotal: 3.9s\tremaining: 822ms\n",
            "826:\tlearn: 0.2019230\ttotal: 3.91s\tremaining: 818ms\n",
            "827:\tlearn: 0.2017641\ttotal: 3.91s\tremaining: 813ms\n",
            "828:\tlearn: 0.2016479\ttotal: 3.92s\tremaining: 808ms\n",
            "829:\tlearn: 0.2015727\ttotal: 3.92s\tremaining: 803ms\n",
            "830:\tlearn: 0.2014661\ttotal: 3.92s\tremaining: 798ms\n",
            "831:\tlearn: 0.2012477\ttotal: 3.93s\tremaining: 794ms\n",
            "832:\tlearn: 0.2009930\ttotal: 3.94s\tremaining: 789ms\n",
            "833:\tlearn: 0.2008680\ttotal: 3.94s\tremaining: 785ms\n",
            "834:\tlearn: 0.2006755\ttotal: 3.95s\tremaining: 780ms\n",
            "835:\tlearn: 0.2005826\ttotal: 3.95s\tremaining: 775ms\n",
            "836:\tlearn: 0.2004359\ttotal: 3.96s\tremaining: 770ms\n",
            "837:\tlearn: 0.2003281\ttotal: 3.96s\tremaining: 766ms\n",
            "838:\tlearn: 0.2001855\ttotal: 3.96s\tremaining: 761ms\n",
            "839:\tlearn: 0.2000203\ttotal: 3.97s\tremaining: 756ms\n",
            "840:\tlearn: 0.1998428\ttotal: 3.97s\tremaining: 751ms\n",
            "841:\tlearn: 0.1997022\ttotal: 3.98s\tremaining: 747ms\n",
            "842:\tlearn: 0.1995045\ttotal: 3.98s\tremaining: 742ms\n",
            "843:\tlearn: 0.1993959\ttotal: 3.99s\tremaining: 737ms\n",
            "844:\tlearn: 0.1992740\ttotal: 3.99s\tremaining: 732ms\n",
            "845:\tlearn: 0.1991652\ttotal: 4s\tremaining: 728ms\n",
            "846:\tlearn: 0.1990400\ttotal: 4s\tremaining: 723ms\n",
            "847:\tlearn: 0.1988706\ttotal: 4.01s\tremaining: 718ms\n",
            "848:\tlearn: 0.1987634\ttotal: 4.01s\tremaining: 714ms\n",
            "849:\tlearn: 0.1986694\ttotal: 4.02s\tremaining: 709ms\n",
            "850:\tlearn: 0.1985727\ttotal: 4.02s\tremaining: 704ms\n",
            "851:\tlearn: 0.1985302\ttotal: 4.03s\tremaining: 699ms\n",
            "852:\tlearn: 0.1983731\ttotal: 4.03s\tremaining: 695ms\n",
            "853:\tlearn: 0.1981886\ttotal: 4.04s\tremaining: 690ms\n",
            "854:\tlearn: 0.1980765\ttotal: 4.04s\tremaining: 685ms\n",
            "855:\tlearn: 0.1980224\ttotal: 4.05s\tremaining: 681ms\n",
            "856:\tlearn: 0.1979023\ttotal: 4.05s\tremaining: 676ms\n",
            "857:\tlearn: 0.1977667\ttotal: 4.05s\tremaining: 671ms\n",
            "858:\tlearn: 0.1975993\ttotal: 4.06s\tremaining: 666ms\n",
            "859:\tlearn: 0.1974431\ttotal: 4.06s\tremaining: 662ms\n",
            "860:\tlearn: 0.1972636\ttotal: 4.07s\tremaining: 657ms\n",
            "861:\tlearn: 0.1971983\ttotal: 4.07s\tremaining: 652ms\n",
            "862:\tlearn: 0.1971793\ttotal: 4.08s\tremaining: 647ms\n",
            "863:\tlearn: 0.1970398\ttotal: 4.08s\tremaining: 643ms\n",
            "864:\tlearn: 0.1969051\ttotal: 4.09s\tremaining: 638ms\n",
            "865:\tlearn: 0.1968054\ttotal: 4.09s\tremaining: 633ms\n",
            "866:\tlearn: 0.1966474\ttotal: 4.09s\tremaining: 628ms\n",
            "867:\tlearn: 0.1964944\ttotal: 4.1s\tremaining: 623ms\n",
            "868:\tlearn: 0.1963837\ttotal: 4.1s\tremaining: 619ms\n",
            "869:\tlearn: 0.1962809\ttotal: 4.11s\tremaining: 614ms\n",
            "870:\tlearn: 0.1961472\ttotal: 4.11s\tremaining: 609ms\n",
            "871:\tlearn: 0.1959842\ttotal: 4.12s\tremaining: 604ms\n",
            "872:\tlearn: 0.1957982\ttotal: 4.12s\tremaining: 600ms\n",
            "873:\tlearn: 0.1956521\ttotal: 4.13s\tremaining: 595ms\n",
            "874:\tlearn: 0.1955334\ttotal: 4.13s\tremaining: 591ms\n",
            "875:\tlearn: 0.1954507\ttotal: 4.14s\tremaining: 586ms\n",
            "876:\tlearn: 0.1953559\ttotal: 4.14s\tremaining: 581ms\n",
            "877:\tlearn: 0.1952678\ttotal: 4.15s\tremaining: 576ms\n",
            "878:\tlearn: 0.1951315\ttotal: 4.15s\tremaining: 571ms\n",
            "879:\tlearn: 0.1949594\ttotal: 4.16s\tremaining: 567ms\n",
            "880:\tlearn: 0.1947772\ttotal: 4.16s\tremaining: 562ms\n",
            "881:\tlearn: 0.1946617\ttotal: 4.17s\tremaining: 557ms\n",
            "882:\tlearn: 0.1945435\ttotal: 4.17s\tremaining: 552ms\n",
            "883:\tlearn: 0.1944772\ttotal: 4.17s\tremaining: 548ms\n",
            "884:\tlearn: 0.1943724\ttotal: 4.18s\tremaining: 543ms\n",
            "885:\tlearn: 0.1941928\ttotal: 4.18s\tremaining: 538ms\n",
            "886:\tlearn: 0.1941388\ttotal: 4.19s\tremaining: 533ms\n",
            "887:\tlearn: 0.1940447\ttotal: 4.19s\tremaining: 529ms\n",
            "888:\tlearn: 0.1938976\ttotal: 4.2s\tremaining: 524ms\n",
            "889:\tlearn: 0.1937854\ttotal: 4.2s\tremaining: 519ms\n",
            "890:\tlearn: 0.1936223\ttotal: 4.21s\tremaining: 514ms\n",
            "891:\tlearn: 0.1935832\ttotal: 4.21s\tremaining: 510ms\n",
            "892:\tlearn: 0.1934724\ttotal: 4.21s\tremaining: 505ms\n",
            "893:\tlearn: 0.1933209\ttotal: 4.22s\tremaining: 500ms\n",
            "894:\tlearn: 0.1931904\ttotal: 4.22s\tremaining: 495ms\n",
            "895:\tlearn: 0.1931380\ttotal: 4.23s\tremaining: 491ms\n",
            "896:\tlearn: 0.1929780\ttotal: 4.23s\tremaining: 486ms\n",
            "897:\tlearn: 0.1928494\ttotal: 4.24s\tremaining: 481ms\n",
            "898:\tlearn: 0.1927624\ttotal: 4.24s\tremaining: 476ms\n",
            "899:\tlearn: 0.1926069\ttotal: 4.25s\tremaining: 472ms\n",
            "900:\tlearn: 0.1924381\ttotal: 4.25s\tremaining: 467ms\n",
            "901:\tlearn: 0.1922928\ttotal: 4.25s\tremaining: 462ms\n",
            "902:\tlearn: 0.1922649\ttotal: 4.26s\tremaining: 457ms\n",
            "903:\tlearn: 0.1921605\ttotal: 4.26s\tremaining: 453ms\n",
            "904:\tlearn: 0.1921169\ttotal: 4.27s\tremaining: 448ms\n",
            "905:\tlearn: 0.1919890\ttotal: 4.27s\tremaining: 443ms\n",
            "906:\tlearn: 0.1918209\ttotal: 4.28s\tremaining: 438ms\n",
            "907:\tlearn: 0.1916436\ttotal: 4.28s\tremaining: 434ms\n",
            "908:\tlearn: 0.1915038\ttotal: 4.28s\tremaining: 429ms\n",
            "909:\tlearn: 0.1913283\ttotal: 4.29s\tremaining: 424ms\n",
            "910:\tlearn: 0.1911606\ttotal: 4.29s\tremaining: 419ms\n",
            "911:\tlearn: 0.1910249\ttotal: 4.3s\tremaining: 415ms\n",
            "912:\tlearn: 0.1909568\ttotal: 4.3s\tremaining: 410ms\n",
            "913:\tlearn: 0.1907908\ttotal: 4.31s\tremaining: 405ms\n",
            "914:\tlearn: 0.1906493\ttotal: 4.31s\tremaining: 400ms\n",
            "915:\tlearn: 0.1905017\ttotal: 4.32s\tremaining: 396ms\n",
            "916:\tlearn: 0.1903974\ttotal: 4.33s\tremaining: 392ms\n",
            "917:\tlearn: 0.1902855\ttotal: 4.33s\tremaining: 387ms\n",
            "918:\tlearn: 0.1901395\ttotal: 4.34s\tremaining: 383ms\n",
            "919:\tlearn: 0.1900026\ttotal: 4.34s\tremaining: 378ms\n",
            "920:\tlearn: 0.1898395\ttotal: 4.35s\tremaining: 373ms\n",
            "921:\tlearn: 0.1897083\ttotal: 4.35s\tremaining: 368ms\n",
            "922:\tlearn: 0.1895472\ttotal: 4.36s\tremaining: 363ms\n",
            "923:\tlearn: 0.1893988\ttotal: 4.36s\tremaining: 359ms\n",
            "924:\tlearn: 0.1892840\ttotal: 4.37s\tremaining: 354ms\n",
            "925:\tlearn: 0.1892467\ttotal: 4.37s\tremaining: 349ms\n",
            "926:\tlearn: 0.1891328\ttotal: 4.37s\tremaining: 345ms\n",
            "927:\tlearn: 0.1890842\ttotal: 4.38s\tremaining: 340ms\n",
            "928:\tlearn: 0.1889511\ttotal: 4.38s\tremaining: 335ms\n",
            "929:\tlearn: 0.1888262\ttotal: 4.39s\tremaining: 330ms\n",
            "930:\tlearn: 0.1886465\ttotal: 4.39s\tremaining: 326ms\n",
            "931:\tlearn: 0.1884892\ttotal: 4.4s\tremaining: 321ms\n",
            "932:\tlearn: 0.1883459\ttotal: 4.4s\tremaining: 316ms\n",
            "933:\tlearn: 0.1882179\ttotal: 4.41s\tremaining: 311ms\n",
            "934:\tlearn: 0.1880731\ttotal: 4.41s\tremaining: 307ms\n",
            "935:\tlearn: 0.1879542\ttotal: 4.41s\tremaining: 302ms\n",
            "936:\tlearn: 0.1878345\ttotal: 4.42s\tremaining: 297ms\n",
            "937:\tlearn: 0.1876698\ttotal: 4.42s\tremaining: 292ms\n",
            "938:\tlearn: 0.1875679\ttotal: 4.43s\tremaining: 288ms\n",
            "939:\tlearn: 0.1874409\ttotal: 4.43s\tremaining: 283ms\n",
            "940:\tlearn: 0.1872970\ttotal: 4.44s\tremaining: 278ms\n",
            "941:\tlearn: 0.1871871\ttotal: 4.44s\tremaining: 273ms\n",
            "942:\tlearn: 0.1870661\ttotal: 4.45s\tremaining: 269ms\n",
            "943:\tlearn: 0.1869601\ttotal: 4.45s\tremaining: 264ms\n",
            "944:\tlearn: 0.1867926\ttotal: 4.45s\tremaining: 259ms\n",
            "945:\tlearn: 0.1866011\ttotal: 4.46s\tremaining: 255ms\n",
            "946:\tlearn: 0.1864754\ttotal: 4.46s\tremaining: 250ms\n",
            "947:\tlearn: 0.1863559\ttotal: 4.47s\tremaining: 245ms\n",
            "948:\tlearn: 0.1862569\ttotal: 4.47s\tremaining: 240ms\n",
            "949:\tlearn: 0.1861490\ttotal: 4.47s\tremaining: 236ms\n",
            "950:\tlearn: 0.1860944\ttotal: 4.48s\tremaining: 231ms\n",
            "951:\tlearn: 0.1860302\ttotal: 4.48s\tremaining: 226ms\n",
            "952:\tlearn: 0.1858577\ttotal: 4.49s\tremaining: 221ms\n",
            "953:\tlearn: 0.1858408\ttotal: 4.49s\tremaining: 217ms\n",
            "954:\tlearn: 0.1856538\ttotal: 4.5s\tremaining: 212ms\n",
            "955:\tlearn: 0.1855355\ttotal: 4.5s\tremaining: 207ms\n",
            "956:\tlearn: 0.1854408\ttotal: 4.51s\tremaining: 202ms\n",
            "957:\tlearn: 0.1852899\ttotal: 4.51s\tremaining: 198ms\n",
            "958:\tlearn: 0.1852088\ttotal: 4.51s\tremaining: 193ms\n",
            "959:\tlearn: 0.1851100\ttotal: 4.52s\tremaining: 188ms\n",
            "960:\tlearn: 0.1850003\ttotal: 4.52s\tremaining: 184ms\n",
            "961:\tlearn: 0.1849228\ttotal: 4.53s\tremaining: 179ms\n",
            "962:\tlearn: 0.1848098\ttotal: 4.53s\tremaining: 174ms\n",
            "963:\tlearn: 0.1846910\ttotal: 4.54s\tremaining: 169ms\n",
            "964:\tlearn: 0.1845106\ttotal: 4.54s\tremaining: 165ms\n",
            "965:\tlearn: 0.1844280\ttotal: 4.55s\tremaining: 160ms\n",
            "966:\tlearn: 0.1844086\ttotal: 4.55s\tremaining: 155ms\n",
            "967:\tlearn: 0.1843502\ttotal: 4.56s\tremaining: 151ms\n",
            "968:\tlearn: 0.1842328\ttotal: 4.56s\tremaining: 146ms\n",
            "969:\tlearn: 0.1840934\ttotal: 4.57s\tremaining: 141ms\n",
            "970:\tlearn: 0.1840170\ttotal: 4.57s\tremaining: 137ms\n",
            "971:\tlearn: 0.1839310\ttotal: 4.58s\tremaining: 132ms\n",
            "972:\tlearn: 0.1838383\ttotal: 4.58s\tremaining: 127ms\n",
            "973:\tlearn: 0.1837188\ttotal: 4.59s\tremaining: 122ms\n",
            "974:\tlearn: 0.1836023\ttotal: 4.59s\tremaining: 118ms\n",
            "975:\tlearn: 0.1834015\ttotal: 4.6s\tremaining: 113ms\n",
            "976:\tlearn: 0.1832131\ttotal: 4.6s\tremaining: 108ms\n",
            "977:\tlearn: 0.1831355\ttotal: 4.61s\tremaining: 104ms\n",
            "978:\tlearn: 0.1830184\ttotal: 4.61s\tremaining: 98.9ms\n",
            "979:\tlearn: 0.1829336\ttotal: 4.61s\tremaining: 94.2ms\n",
            "980:\tlearn: 0.1828033\ttotal: 4.62s\tremaining: 89.5ms\n",
            "981:\tlearn: 0.1827028\ttotal: 4.62s\tremaining: 84.7ms\n",
            "982:\tlearn: 0.1826379\ttotal: 4.63s\tremaining: 80ms\n",
            "983:\tlearn: 0.1824905\ttotal: 4.63s\tremaining: 75.3ms\n",
            "984:\tlearn: 0.1824019\ttotal: 4.64s\tremaining: 70.6ms\n",
            "985:\tlearn: 0.1823583\ttotal: 4.64s\tremaining: 65.9ms\n",
            "986:\tlearn: 0.1821858\ttotal: 4.64s\tremaining: 61.2ms\n",
            "987:\tlearn: 0.1820881\ttotal: 4.65s\tremaining: 56.5ms\n",
            "988:\tlearn: 0.1819779\ttotal: 4.65s\tremaining: 51.8ms\n",
            "989:\tlearn: 0.1819338\ttotal: 4.66s\tremaining: 47.1ms\n",
            "990:\tlearn: 0.1817818\ttotal: 4.66s\tremaining: 42.3ms\n",
            "991:\tlearn: 0.1817099\ttotal: 4.67s\tremaining: 37.6ms\n",
            "992:\tlearn: 0.1816210\ttotal: 4.67s\tremaining: 32.9ms\n",
            "993:\tlearn: 0.1815296\ttotal: 4.68s\tremaining: 28.2ms\n",
            "994:\tlearn: 0.1813814\ttotal: 4.68s\tremaining: 23.5ms\n",
            "995:\tlearn: 0.1811726\ttotal: 4.68s\tremaining: 18.8ms\n",
            "996:\tlearn: 0.1811018\ttotal: 4.69s\tremaining: 14.1ms\n",
            "997:\tlearn: 0.1809852\ttotal: 4.69s\tremaining: 9.41ms\n",
            "998:\tlearn: 0.1808914\ttotal: 4.7s\tremaining: 4.7ms\n",
            "999:\tlearn: 0.1807841\ttotal: 4.7s\tremaining: 0us\n"
          ],
          "name": "stdout"
        },
        {
          "output_type": "execute_result",
          "data": {
            "text/html": [
              "<div>\n",
              "<style scoped>\n",
              "    .dataframe tbody tr th:only-of-type {\n",
              "        vertical-align: middle;\n",
              "    }\n",
              "\n",
              "    .dataframe tbody tr th {\n",
              "        vertical-align: top;\n",
              "    }\n",
              "\n",
              "    .dataframe thead th {\n",
              "        text-align: right;\n",
              "    }\n",
              "</style>\n",
              "<table border=\"1\" class=\"dataframe\">\n",
              "  <thead>\n",
              "    <tr style=\"text-align: right;\">\n",
              "      <th></th>\n",
              "      <th>importance</th>\n",
              "    </tr>\n",
              "  </thead>\n",
              "  <tbody>\n",
              "    <tr>\n",
              "      <th>idade</th>\n",
              "      <td>17.047755</td>\n",
              "    </tr>\n",
              "    <tr>\n",
              "      <th>local_onde_reside</th>\n",
              "      <td>13.780216</td>\n",
              "    </tr>\n",
              "    <tr>\n",
              "      <th>local_onde_trabalha</th>\n",
              "      <td>11.451726</td>\n",
              "    </tr>\n",
              "    <tr>\n",
              "      <th>possui_telefone_residencial</th>\n",
              "      <td>6.736029</td>\n",
              "    </tr>\n",
              "    <tr>\n",
              "      <th>meses_na_residencia</th>\n",
              "      <td>5.726205</td>\n",
              "    </tr>\n",
              "    <tr>\n",
              "      <th>codigo_area_telefone_residencial</th>\n",
              "      <td>5.130780</td>\n",
              "    </tr>\n",
              "    <tr>\n",
              "      <th>dia_vencimento</th>\n",
              "      <td>4.497409</td>\n",
              "    </tr>\n",
              "    <tr>\n",
              "      <th>renda_mensal_regular</th>\n",
              "      <td>4.081609</td>\n",
              "    </tr>\n",
              "    <tr>\n",
              "      <th>estado_civil</th>\n",
              "      <td>3.734707</td>\n",
              "    </tr>\n",
              "    <tr>\n",
              "      <th>qtde_dependentes</th>\n",
              "      <td>2.773657</td>\n",
              "    </tr>\n",
              "    <tr>\n",
              "      <th>ocupacao</th>\n",
              "      <td>2.450989</td>\n",
              "    </tr>\n",
              "    <tr>\n",
              "      <th>estado_onde_reside</th>\n",
              "      <td>2.107398</td>\n",
              "    </tr>\n",
              "    <tr>\n",
              "      <th>profissao</th>\n",
              "      <td>1.898063</td>\n",
              "    </tr>\n",
              "    <tr>\n",
              "      <th>qtde_contas_bancarias</th>\n",
              "      <td>1.710340</td>\n",
              "    </tr>\n",
              "    <tr>\n",
              "      <th>possui_cartao_mastercard</th>\n",
              "      <td>1.704449</td>\n",
              "    </tr>\n",
              "    <tr>\n",
              "      <th>codigo_area_telefone_trabalho</th>\n",
              "      <td>1.624947</td>\n",
              "    </tr>\n",
              "    <tr>\n",
              "      <th>estado_onde_nasceu</th>\n",
              "      <td>1.529463</td>\n",
              "    </tr>\n",
              "    <tr>\n",
              "      <th>sexo</th>\n",
              "      <td>1.381497</td>\n",
              "    </tr>\n",
              "    <tr>\n",
              "      <th>forma_envio_solicitacao</th>\n",
              "      <td>1.244813</td>\n",
              "    </tr>\n",
              "    <tr>\n",
              "      <th>tipo_residencia</th>\n",
              "      <td>1.089490</td>\n",
              "    </tr>\n",
              "    <tr>\n",
              "      <th>possui_carro</th>\n",
              "      <td>1.059666</td>\n",
              "    </tr>\n",
              "    <tr>\n",
              "      <th>estado_onde_trabalha</th>\n",
              "      <td>1.008337</td>\n",
              "    </tr>\n",
              "    <tr>\n",
              "      <th>possui_telefone_trabalho</th>\n",
              "      <td>0.882644</td>\n",
              "    </tr>\n",
              "    <tr>\n",
              "      <th>grau_instrucao_companheiro</th>\n",
              "      <td>0.812351</td>\n",
              "    </tr>\n",
              "    <tr>\n",
              "      <th>profissao_companheiro</th>\n",
              "      <td>0.742650</td>\n",
              "    </tr>\n",
              "    <tr>\n",
              "      <th>valor_patrimonio_pessoal</th>\n",
              "      <td>0.735153</td>\n",
              "    </tr>\n",
              "    <tr>\n",
              "      <th>possui_email</th>\n",
              "      <td>0.685158</td>\n",
              "    </tr>\n",
              "    <tr>\n",
              "      <th>renda_extra</th>\n",
              "      <td>0.616387</td>\n",
              "    </tr>\n",
              "    <tr>\n",
              "      <th>produto_solicitado</th>\n",
              "      <td>0.552163</td>\n",
              "    </tr>\n",
              "    <tr>\n",
              "      <th>possui_cartao_visa</th>\n",
              "      <td>0.483058</td>\n",
              "    </tr>\n",
              "    <tr>\n",
              "      <th>vinculo_formal_com_empresa</th>\n",
              "      <td>0.464854</td>\n",
              "    </tr>\n",
              "    <tr>\n",
              "      <th>nacionalidade</th>\n",
              "      <td>0.246912</td>\n",
              "    </tr>\n",
              "    <tr>\n",
              "      <th>possui_outros_cartoes</th>\n",
              "      <td>0.004613</td>\n",
              "    </tr>\n",
              "    <tr>\n",
              "      <th>possui_cartao_amex</th>\n",
              "      <td>0.002349</td>\n",
              "    </tr>\n",
              "    <tr>\n",
              "      <th>tipo_endereco</th>\n",
              "      <td>0.001310</td>\n",
              "    </tr>\n",
              "    <tr>\n",
              "      <th>meses_no_trabalho</th>\n",
              "      <td>0.000812</td>\n",
              "    </tr>\n",
              "    <tr>\n",
              "      <th>possui_cartao_diners</th>\n",
              "      <td>0.000039</td>\n",
              "    </tr>\n",
              "  </tbody>\n",
              "</table>\n",
              "</div>"
            ],
            "text/plain": [
              "                                  importance\n",
              "idade                              17.047755\n",
              "local_onde_reside                  13.780216\n",
              "local_onde_trabalha                11.451726\n",
              "possui_telefone_residencial         6.736029\n",
              "meses_na_residencia                 5.726205\n",
              "codigo_area_telefone_residencial    5.130780\n",
              "dia_vencimento                      4.497409\n",
              "renda_mensal_regular                4.081609\n",
              "estado_civil                        3.734707\n",
              "qtde_dependentes                    2.773657\n",
              "ocupacao                            2.450989\n",
              "estado_onde_reside                  2.107398\n",
              "profissao                           1.898063\n",
              "qtde_contas_bancarias               1.710340\n",
              "possui_cartao_mastercard            1.704449\n",
              "codigo_area_telefone_trabalho       1.624947\n",
              "estado_onde_nasceu                  1.529463\n",
              "sexo                                1.381497\n",
              "forma_envio_solicitacao             1.244813\n",
              "tipo_residencia                     1.089490\n",
              "possui_carro                        1.059666\n",
              "estado_onde_trabalha                1.008337\n",
              "possui_telefone_trabalho            0.882644\n",
              "grau_instrucao_companheiro          0.812351\n",
              "profissao_companheiro               0.742650\n",
              "valor_patrimonio_pessoal            0.735153\n",
              "possui_email                        0.685158\n",
              "renda_extra                         0.616387\n",
              "produto_solicitado                  0.552163\n",
              "possui_cartao_visa                  0.483058\n",
              "vinculo_formal_com_empresa          0.464854\n",
              "nacionalidade                       0.246912\n",
              "possui_outros_cartoes               0.004613\n",
              "possui_cartao_amex                  0.002349\n",
              "tipo_endereco                       0.001310\n",
              "meses_no_trabalho                   0.000812\n",
              "possui_cartao_diners                0.000039"
            ]
          },
          "metadata": {
            "tags": []
          },
          "execution_count": 184
        }
      ]
    },
    {
      "cell_type": "code",
      "metadata": {
        "id": "UMsVH4coU7nq"
      },
      "source": [
        "feature_importances.to_csv(\"Feature_importances.csv\")"
      ],
      "execution_count": null,
      "outputs": []
    },
    {
      "cell_type": "markdown",
      "metadata": {
        "id": "ftjGam_EdhVw"
      },
      "source": [
        "## Light GBM"
      ]
    },
    {
      "cell_type": "code",
      "metadata": {
        "colab": {
          "base_uri": "https://localhost:8080/",
          "height": 192
        },
        "id": "lPdxPdnidhVw",
        "outputId": "35b4a8e9-6619-4116-b362-edc3f145642d"
      },
      "source": [
        "\"\"\"model = lgb(n_estimators=1000)\n",
        "pipe = pipeline.Pipeline(steps=[\n",
        "    ('encoder',encoder),\n",
        "    ('imputer',imputer),\n",
        "    ('balancer',balancer),\n",
        "    ('union',union),\n",
        "    ('model',model)\n",
        "])\n",
        "\n",
        "lgb_search = {\n",
        "   'model__learning_rate':Real(0.0001,1,prior='log-uniform'),\n",
        "    'model__max_depth':Integer(4,30),\n",
        "    'model__num_leaves':Integer(24, 80),\n",
        "    'model__feature_fraction': Real(0.1, 0.9),\n",
        "    'model__bagging_fraction': Real(0.8, 1),\n",
        "    'model__max_bin':Integer(20,90),\n",
        "    'model__min_data_in_leaf': Integer(20, 80),\n",
        "    'model__min_sum_hessian_in_leaf':Real(0,100),\n",
        "    'model__subsample': Real(0.01, 1.0),\n",
        "    'model__reg_alpha':Real(0,100,prior='uniform'),\n",
        "    'model__reg_lambda':Real(0,100,prior='uniform')\n",
        "\n",
        "}\n",
        "\n",
        "opt = BayesSearchCV(\n",
        "    pipe,\n",
        "    [(lgb_search, 50)],\n",
        "    scoring=make_scorer(f1_score),\n",
        "    cv=cv\n",
        ")\n",
        "opt.fit(x_t[input_cols],x_t[output_col])\n",
        "print(\"val. score: %s\" % opt.best_score_)\n",
        "#print(\"test score: %s\" % opt.score(X_test, y_test))\n",
        "print(\"best params: %s\" % str(opt.best_params_))\"\"\""
      ],
      "execution_count": 185,
      "outputs": [
        {
          "output_type": "execute_result",
          "data": {
            "application/vnd.google.colaboratory.intrinsic+json": {
              "type": "string"
            },
            "text/plain": [
              "'model = lgb(n_estimators=1000)\\npipe = pipeline.Pipeline(steps=[\\n    (\\'encoder\\',encoder),\\n    (\\'imputer\\',imputer),\\n    (\\'balancer\\',balancer),\\n    (\\'union\\',union),\\n    (\\'model\\',model)\\n])\\n\\nlgb_search = {\\n   \\'model__learning_rate\\':Real(0.0001,1,prior=\\'log-uniform\\'),\\n    \\'model__max_depth\\':Integer(4,30),\\n    \\'model__num_leaves\\':Integer(24, 80),\\n    \\'model__feature_fraction\\': Real(0.1, 0.9),\\n    \\'model__bagging_fraction\\': Real(0.8, 1),\\n    \\'model__max_bin\\':Integer(20,90),\\n    \\'model__min_data_in_leaf\\': Integer(20, 80),\\n    \\'model__min_sum_hessian_in_leaf\\':Real(0,100),\\n    \\'model__subsample\\': Real(0.01, 1.0),\\n    \\'model__reg_alpha\\':Real(0,100,prior=\\'uniform\\'),\\n    \\'model__reg_lambda\\':Real(0,100,prior=\\'uniform\\')\\n\\n}\\n\\nopt = BayesSearchCV(\\n    pipe,\\n    [(lgb_search, 50)],\\n    scoring=make_scorer(f1_score),\\n    cv=5\\n)\\nopt.fit(x_t[input_cols],x_t[output_col])\\nprint(\"val. score: %s\" % opt.best_score_)\\n#print(\"test score: %s\" % opt.score(X_test, y_test))\\nprint(\"best params: %s\" % str(opt.best_params_))'"
            ]
          },
          "metadata": {
            "tags": []
          },
          "execution_count": 185
        }
      ]
    },
    {
      "cell_type": "code",
      "metadata": {
        "colab": {
          "base_uri": "https://localhost:8080/"
        },
        "id": "gZSAPyfsdhVw",
        "outputId": "ebb6063b-4c17-4636-f014-a4a54193130f"
      },
      "source": [
        "nome_modelo = \"LGBM\"\n",
        "model = lgb(bagging_fraction = 0.8973693288922182,\n",
        "            feature_fraction = 0.8919250170451992,\n",
        "            learning_rate = 0.00012265507016257372,\n",
        "            n_estimators=1000,\n",
        "            max_bin = 22,\n",
        "            max_depth = 29,\n",
        "            min_data_in_leaf = 53,\n",
        "            min_sum_hessian_in_leaf = 3,\n",
        "            num_leaves = 72,\n",
        "            reg_alpha = 60.83831537997138,\n",
        "            reg_lambda = 16.518974566272195,\n",
        "            subsample = 0.9274967636572905,\n",
        "            )\n",
        "\n",
        "pipe = pipeline.Pipeline(steps=[\n",
        "    ('encoder',encoder),\n",
        "    ('imputer',imputer),\n",
        "    ('balancer',balancer),\n",
        "    ('union',union),\n",
        "    ('model',model)\n",
        "])\n",
        "\n",
        "scores = cross_validate(pipe, x_t[input_cols], x_t[output_col],\n",
        "                        cv=cv, \n",
        "                        scoring=scoring,return_train_score=False)\n",
        "scores_geral[nome_modelo] = scores\n",
        "media,var = armazena_resultado(nome_modelo,scores)\n",
        "media"
      ],
      "execution_count": 186,
      "outputs": [
        {
          "output_type": "execute_result",
          "data": {
            "text/plain": [
              "{'acuracia': 0.5855,\n",
              " 'f1_score': 0.6198231732630028,\n",
              " 'fn': 3232,\n",
              " 'fp': 5058,\n",
              " 'precisão': 0.5722686047588732,\n",
              " 'recall': 0.6768000000000001,\n",
              " 'roc_auc': 0.5855,\n",
              " 'tn': 4942,\n",
              " 'tp': 6768}"
            ]
          },
          "metadata": {
            "tags": []
          },
          "execution_count": 186
        }
      ]
    },
    {
      "cell_type": "code",
      "metadata": {
        "id": "PsLhM9GZzSA4"
      },
      "source": [
        ""
      ],
      "execution_count": 186,
      "outputs": []
    },
    {
      "cell_type": "markdown",
      "metadata": {
        "id": "A04fgOkozTSX"
      },
      "source": [
        "## XGBOOST"
      ]
    },
    {
      "cell_type": "code",
      "metadata": {
        "colab": {
          "base_uri": "https://localhost:8080/",
          "height": 192
        },
        "id": "g1NsgJopzTSY",
        "outputId": "82e82346-748f-4e5a-86ea-173002bdb70d"
      },
      "source": [
        "\"\"\"model = xg.XGBClassifier(n_estimators=1000)\n",
        "\n",
        "pipe = pipeline.Pipeline(steps=[\n",
        "    ('encoder',encoder),\n",
        "    ('imputer',imputer),\n",
        "    ('balancer',balancer),\n",
        "    ('union',union),\n",
        "    ('model',model)\n",
        "])\n",
        "\n",
        "xgb_search = {\n",
        "   'model__eta':Real(0.0001,1,prior='log-uniform'),\n",
        "   'model__min_child_weight':Real(0.001, 1000,prior='log-uniform'),\n",
        "    'model__max_depth':Integer(3,20),\n",
        "    'model__gamma': Real(0.001, 1000,prior='log-uniform'),\n",
        "    'model__max_bin':Integer(20,90),\n",
        "    'model__subsample': Real(0.5, 1.0,prior='uniform'),\n",
        "    'model__colsample_bytree ': Real(0.5, 1.0,prior='uniform'),\n",
        "    'model__reg_alpha':Real(0.001,100,prior='log-uniform'),\n",
        "    'model__reg_lambda':Real(0.001,1000,prior='log-uniform')\n",
        "\n",
        "}\n",
        "\n",
        "opt = BayesSearchCV(\n",
        "    pipe,\n",
        "    [(xgb_search, 50)],\n",
        "    scoring=make_scorer(f1_score),\n",
        "    cv=5\n",
        ")\n",
        "opt.fit(x_t[input_cols],x_t[output_col])\n",
        "print(\"val. score: %s\" % opt.best_score_)\n",
        "#print(\"test score: %s\" % opt.score(X_test, y_test))\n",
        "print(\"best params: %s\" % str(opt.best_params_))\"\"\""
      ],
      "execution_count": 187,
      "outputs": [
        {
          "output_type": "execute_result",
          "data": {
            "application/vnd.google.colaboratory.intrinsic+json": {
              "type": "string"
            },
            "text/plain": [
              "'model = xg.XGBClassifier(n_estimators=1000)\\n\\npipe = pipeline.Pipeline(steps=[\\n    (\\'encoder\\',encoder),\\n    (\\'imputer\\',imputer),\\n    (\\'balancer\\',balancer),\\n    (\\'union\\',union),\\n    (\\'model\\',model)\\n])\\n\\nxgb_search = {\\n   \\'model__eta\\':Real(0.0001,1,prior=\\'log-uniform\\'),\\n   \\'model__min_child_weight\\':Real(0.001, 1000,prior=\\'log-uniform\\'),\\n    \\'model__max_depth\\':Integer(3,20),\\n    \\'model__gamma\\': Real(0.001, 1000,prior=\\'log-uniform\\'),\\n    \\'model__max_bin\\':Integer(20,90),\\n    \\'model__subsample\\': Real(0.5, 1.0,prior=\\'uniform\\'),\\n    \\'model__colsample_bytree \\': Real(0.5, 1.0,prior=\\'uniform\\'),\\n    \\'model__reg_alpha\\':Real(0.001,100,prior=\\'log-uniform\\'),\\n    \\'model__reg_lambda\\':Real(0.001,1000,prior=\\'log-uniform\\')\\n\\n}\\n\\nopt = BayesSearchCV(\\n    pipe,\\n    [(xgb_search, 50)],\\n    scoring=make_scorer(f1_score),\\n    cv=5\\n)\\nopt.fit(x_t[input_cols],x_t[output_col])\\nprint(\"val. score: %s\" % opt.best_score_)\\n#print(\"test score: %s\" % opt.score(X_test, y_test))\\nprint(\"best params: %s\" % str(opt.best_params_))'"
            ]
          },
          "metadata": {
            "tags": []
          },
          "execution_count": 187
        }
      ]
    },
    {
      "cell_type": "code",
      "metadata": {
        "colab": {
          "base_uri": "https://localhost:8080/"
        },
        "id": "jMGpgRGfzTSZ",
        "outputId": "5af4f6fe-8e36-4c0f-d53f-38883dd6529a"
      },
      "source": [
        "nome_modelo = \"XGBOOST\"\n",
        "model = xg.XGBClassifier(colsample_bytree = 0.7418419224939272,\n",
        "                         eta = 0.45633573765106905,\n",
        "                         gamma = 39.63998610324133,\n",
        "                         max_bin = 82,\n",
        "                         max_depth = 4,\n",
        "                         min_child_weight = 0.44619360202235636,\n",
        "                         reg_alpha = 18.688752405175503,\n",
        "                         reg_lambda = 44.516295463053766,\n",
        "                         subsample = 0.7518787153908242\n",
        "                         )\n",
        "\n",
        "pipe = pipeline.Pipeline(steps=[\n",
        "    ('encoder',encoder),\n",
        "    ('imputer',imputer),\n",
        "    ('balancer',balancer),\n",
        "    ('union',union),\n",
        "    ('model',model)\n",
        "])\n",
        "\n",
        "scores = cross_validate(pipe, x_t[input_cols], x_t[output_col],\n",
        "                        cv=cv, \n",
        "                        scoring=scoring,return_train_score=False)\n",
        "scores_geral[nome_modelo] = scores\n",
        "media,var = armazena_resultado(nome_modelo,scores)\n",
        "media"
      ],
      "execution_count": 188,
      "outputs": [
        {
          "output_type": "execute_result",
          "data": {
            "text/plain": [
              "{'acuracia': 0.5851,\n",
              " 'f1_score': 0.6185003587527129,\n",
              " 'fn': 3267,\n",
              " 'fp': 5031,\n",
              " 'precisão': 0.5723440925525638,\n",
              " 'recall': 0.6733,\n",
              " 'roc_auc': 0.5851,\n",
              " 'tn': 4969,\n",
              " 'tp': 6733}"
            ]
          },
          "metadata": {
            "tags": []
          },
          "execution_count": 188
        }
      ]
    },
    {
      "cell_type": "markdown",
      "metadata": {
        "id": "i_5KlucTgCLk"
      },
      "source": [
        "## SVM"
      ]
    },
    {
      "cell_type": "code",
      "metadata": {
        "id": "mIjZkzjbgCLo",
        "colab": {
          "base_uri": "https://localhost:8080/"
        },
        "outputId": "67c79bac-b629-451e-e191-c69e4828e32d"
      },
      "source": [
        "model = Pipeline([\n",
        "                  (\"Nys\",Nystroem(gamma=0.1, random_state=42, n_components=100)),\n",
        "                  (\"SVM\",LinearSVC(C=0.1))\n",
        "])\n",
        "\n",
        "pipe = pipeline.Pipeline(steps=[\n",
        "    ('encoder',encoder),\n",
        "    ('imputer',imputer),\n",
        "    ('balancer',balancer),\n",
        "    ('union',union),\n",
        "    ('model',model)\n",
        "])\n",
        "\n",
        "SVM_search = {\n",
        "   'model__Nys__n_components':Integer(300,500),\n",
        "   'model__Nys__gamma': Real(0.001,1,prior='log-uniform'),\n",
        "   'model__SVM__C':Real(0.00001,0.01,prior='log-uniform')\n",
        "}\n",
        "\n",
        "opt = BayesSearchCV(\n",
        "    pipe,\n",
        "    [(SVM_search, 50)],\n",
        "    scoring=make_scorer(f1_score),\n",
        "    cv=cv\n",
        ")\n",
        "opt.fit(x_t[input_cols],x_t[output_col])\n",
        "print(\"val. score: %s\" % opt.best_score_)\n",
        "#print(\"test score: %s\" % opt.score(X_test, y_test))\n",
        "print(\"best params: %s\" % str(opt.best_params_))"
      ],
      "execution_count": 234,
      "outputs": [
        {
          "output_type": "stream",
          "text": [
            "val. score: 0.6537339525382818\n",
            "best params: OrderedDict([('model__Nys__gamma', 0.19825149923858046), ('model__Nys__n_components', 371), ('model__SVM__C', 0.001)])\n"
          ],
          "name": "stdout"
        }
      ]
    },
    {
      "cell_type": "code",
      "metadata": {
        "id": "9PDuESghgCMW",
        "colab": {
          "base_uri": "https://localhost:8080/"
        },
        "outputId": "551ab133-c591-47fe-cdc6-3f582defe4f2"
      },
      "source": [
        "model = Pipeline([\n",
        "                  (\"Nys\",Nystroem(gamma=0.10119268595677983, random_state=42, n_components=328)),\n",
        "                  (\"SVM\",LinearSVC(C=0.00989507703903171))\n",
        "])\n",
        "\n",
        "nome_modelo = \"SVM\"\n",
        "pipe = pipeline.Pipeline(steps=[\n",
        "    ('encoder',encoder),\n",
        "    ('imputer',imputer),\n",
        "    ('balancer',balancer),\n",
        "    ('union',union),\n",
        "    ('model',model)\n",
        "])\n",
        "\n",
        "scores = cross_validate(pipe, x_t[input_cols], x_t[output_col],cv=cv, scoring=scoring,return_train_score=False)\n",
        "scores_geral[nome_modelo] = scores\n",
        "#print(np.sum(scores['test_tp']),np.sum(scores['test_tn']),np.sum(scores['test_fp']),np.sum(scores['test_fn']))\n",
        "#scores\n",
        "media,var = armazena_resultado(nome_modelo,scores)\n",
        "media"
      ],
      "execution_count": 235,
      "outputs": [
        {
          "output_type": "execute_result",
          "data": {
            "text/plain": [
              "{'acuracia': 0.5057499999999999,\n",
              " 'f1_score': 0.5722748681437068,\n",
              " 'fn': 2215,\n",
              " 'fp': 7670,\n",
              " 'precisão': 0.5059106236812281,\n",
              " 'recall': 0.7785000000000001,\n",
              " 'roc_auc': 0.5057499999999999,\n",
              " 'tn': 2330,\n",
              " 'tp': 7785}"
            ]
          },
          "metadata": {
            "tags": []
          },
          "execution_count": 235
        }
      ]
    },
    {
      "cell_type": "code",
      "metadata": {
        "colab": {
          "base_uri": "https://localhost:8080/"
        },
        "id": "EQFLHtb_bV9B",
        "outputId": "9be76fff-9bcf-44db-925c-fa1beae508b9"
      },
      "source": [
        "var"
      ],
      "execution_count": 221,
      "outputs": [
        {
          "output_type": "execute_result",
          "data": {
            "text/plain": [
              "{'acuracia': 4.6339999999999966e-05,\n",
              " 'f1_score': 8.756786885568622e-06,\n",
              " 'fn': -1,\n",
              " 'fp': -1,\n",
              " 'precisão': 1.6730225235285654e-05,\n",
              " 'recall': 3.564000000000002e-05,\n",
              " 'roc_auc': 4.6339999999999966e-05,\n",
              " 'tn': -1,\n",
              " 'tp': -1}"
            ]
          },
          "metadata": {
            "tags": []
          },
          "execution_count": 221
        }
      ]
    },
    {
      "cell_type": "markdown",
      "metadata": {
        "id": "Sob1KX9M0q9T"
      },
      "source": [
        "## Neural Network"
      ]
    },
    {
      "cell_type": "code",
      "metadata": {
        "id": "1h7Jvk4t0pQb"
      },
      "source": [
        "class MLPWrapper(BaseEstimator, ClassifierMixin):\n",
        "    def __init__(self, layer1=10, layer2=10, layer3=10,learning_rate_init=0.001):\n",
        "        self.layer1 = layer1\n",
        "        self.layer2 = layer2\n",
        "        self.layer3 = layer3\n",
        "        self.learning_rate_init = learning_rate_init\n",
        "\n",
        "    def fit(self, X, y):\n",
        "        model = MLPClassifier(\n",
        "            hidden_layer_sizes=[self.layer1, self.layer2, self.layer3],\n",
        "            activation='logistic',\n",
        "            learning_rate_init = self.learning_rate_init\n",
        "        )\n",
        "        model.fit(X, y)\n",
        "        self.model = model\n",
        "        return self\n",
        "\n",
        "    def predict(self, X):\n",
        "        return self.model.predict(X)\n",
        "\n",
        "    def score(self, X, y):\n",
        "        return self.model.score(X, y)\n"
      ],
      "execution_count": 40,
      "outputs": []
    },
    {
      "cell_type": "code",
      "metadata": {
        "id": "yeKAaHjdVaZV",
        "colab": {
          "base_uri": "https://localhost:8080/",
          "height": 157
        },
        "outputId": "f9b25055-1ad0-493f-d59f-3cfd642970d9"
      },
      "source": [
        "\"\"\"model = MLPWrapper(42,3,35)\n",
        "pipe = pipeline.Pipeline(steps=[\n",
        "    ('encoder',encoder),\n",
        "    ('imputer',imputer),\n",
        "    ('balancer',balancer),\n",
        "    ('union',union),\n",
        "    ('model',model)\n",
        "])\n",
        "\n",
        "NN_search = {\n",
        "    'model__layer1': Integer(1,2*(x_t[input_cols].shape[1])),\n",
        "    'model__layer2': Integer(1,2*(x_t[input_cols].shape[1])),\n",
        "    'model__layer3': Integer(1,2*(x_t[input_cols].shape[1])),\n",
        "    'model__learning_rate_init':Real(0.0001,0.1,prior='log-uniform')\n",
        "}\n",
        "\n",
        "opt = BayesSearchCV(\n",
        "    pipe,\n",
        "    [(NN_search, 50)],\n",
        "    scoring=make_scorer(f1_score),\n",
        "    cv=cv\n",
        ")\n",
        "\n",
        "opt.fit(x_t[input_cols],x_t[output_col])\n",
        "print(\"val. score: %s\" % opt.best_score_)\n",
        "#print(\"test score: %s\" % opt.score(X_test, y_test))\n",
        "print(\"best params: %s\" % str(opt.best_params_))\"\"\""
      ],
      "execution_count": 193,
      "outputs": [
        {
          "output_type": "execute_result",
          "data": {
            "application/vnd.google.colaboratory.intrinsic+json": {
              "type": "string"
            },
            "text/plain": [
              "'model = MLPWrapper(42,3,35)\\npipe = pipeline.Pipeline(steps=[\\n    (\\'encoder\\',encoder),\\n    (\\'imputer\\',imputer),\\n    (\\'balancer\\',balancer),\\n    (\\'union\\',union),\\n    (\\'model\\',model)\\n])\\n\\nNN_search = {\\n    \\'model__layer1\\': Integer(1,2*(x_t[input_cols].shape[1])),\\n    \\'model__layer2\\': Integer(1,2*(x_t[input_cols].shape[1])),\\n    \\'model__layer3\\': Integer(1,2*(x_t[input_cols].shape[1])),\\n    \\'model__learning_rate_init\\':Real(0.0001,0.1,prior=\\'log-uniform\\')\\n}\\n\\nopt = BayesSearchCV(\\n    pipe,\\n    [(NN_search, 50)],\\n    scoring=make_scorer(f1_score),\\n    cv=5\\n)\\n\\nopt.fit(x_t[input_cols],x_t[output_col])\\nprint(\"val. score: %s\" % opt.best_score_)\\n#print(\"test score: %s\" % opt.score(X_test, y_test))\\nprint(\"best params: %s\" % str(opt.best_params_))'"
            ]
          },
          "metadata": {
            "tags": []
          },
          "execution_count": 193
        }
      ]
    },
    {
      "cell_type": "code",
      "metadata": {
        "colab": {
          "base_uri": "https://localhost:8080/"
        },
        "id": "GKQEb3cKAiIy",
        "outputId": "8ffd8edc-4636-48e3-b7c7-3c7bbd12ef98"
      },
      "source": [
        "len(x_t[input_cols].columns)"
      ],
      "execution_count": 229,
      "outputs": [
        {
          "output_type": "execute_result",
          "data": {
            "text/plain": [
              "37"
            ]
          },
          "metadata": {
            "tags": []
          },
          "execution_count": 229
        }
      ]
    },
    {
      "cell_type": "code",
      "metadata": {
        "colab": {
          "base_uri": "https://localhost:8080/"
        },
        "id": "8GxVAUqH_rmq",
        "outputId": "c2051b92-b566-41e4-d53f-226452a10791"
      },
      "source": [
        "nome_modelo = \"Neural Network\"\n",
        "\n",
        "model = MLPWrapper(42,3,35,0.001)\n",
        "pipe = pipeline.Pipeline(steps=[\n",
        "    ('encoder',encoder),\n",
        "    ('imputer',imputer),\n",
        "    ('balancer',balancer),\n",
        "    ('union',union),\n",
        "    ('model',model)\n",
        "])\n",
        "\n",
        "scores = cross_validate(pipe, x_t[input_cols], x_t[output_col],cv=cv, scoring=scoring,return_train_score=False)\n",
        "scores_geral[nome_modelo] = scores\n",
        "#print(np.sum(scores['test_tp']),np.sum(scores['test_tn']),np.sum(scores['test_fp']),np.sum(scores['test_fn']))\n",
        "#scores\n",
        "media,var = armazena_resultado(nome_modelo,scores)\n",
        "media"
      ],
      "execution_count": 216,
      "outputs": [
        {
          "output_type": "execute_result",
          "data": {
            "text/plain": [
              "{'acuracia': 0.585,\n",
              " 'f1_score': 0.6328571104637463,\n",
              " 'fn': 2833,\n",
              " 'fp': 5467,\n",
              " 'precisão': 0.5674871698387683,\n",
              " 'recall': 0.7166999999999999,\n",
              " 'roc_auc': 0.585,\n",
              " 'tn': 4533,\n",
              " 'tp': 7167}"
            ]
          },
          "metadata": {
            "tags": []
          },
          "execution_count": 216
        }
      ]
    },
    {
      "cell_type": "markdown",
      "metadata": {
        "id": "V6JfqqsiTXYV"
      },
      "source": [
        "## KNN"
      ]
    },
    {
      "cell_type": "code",
      "metadata": {
        "colab": {
          "base_uri": "https://localhost:8080/"
        },
        "id": "10E1b3JCdoab",
        "outputId": "f01dee01-50b6-4281-9b11-ddb0ffc1abab"
      },
      "source": [
        "\"\"\"model = KNeighborsClassifier()\n",
        "\n",
        "pipe = pipeline.Pipeline(steps=[\n",
        "    ('encoder',encoder),\n",
        "    ('imputer',imputer),\n",
        "    ('balancer',balancer),\n",
        "    ('union',union),\n",
        "    ('model',model)\n",
        "])\n",
        "\n",
        "clf = GridSearchCV(pipe, {'model__n_neighbors':[3,4,5,6,7,8,9,10,11]}, cv=cv)\n",
        "clf.fit(x_t[input_cols],x_t[output_col])\n",
        "print(\"val. score: %s\" % clf.best_score_)\n",
        "#print(\"test score: %s\" % opt.score(X_test, y_test))\n",
        "print(\"best params: %s\" % str(clf.best_params_))\"\"\""
      ],
      "execution_count": 202,
      "outputs": [
        {
          "output_type": "stream",
          "text": [
            "val. score: 0.5342\n",
            "best params: {'model__n_neighbors': 9}\n"
          ],
          "name": "stdout"
        }
      ]
    },
    {
      "cell_type": "code",
      "metadata": {
        "colab": {
          "base_uri": "https://localhost:8080/"
        },
        "id": "KAenY8F5piQx",
        "outputId": "11990c1c-1c7b-4da9-b0b8-d96cb6c036af"
      },
      "source": [
        "model = KNeighborsClassifier(n_neighbors=9)\n",
        "nome_modelo = \"KNN\"\n",
        "pipe = pipeline.Pipeline(steps=[\n",
        "    ('encoder',encoder),\n",
        "    ('imputer',imputer),\n",
        "    ('balancer',balancer),\n",
        "    ('union',union),\n",
        "    ('model',model)\n",
        "])\n",
        "\n",
        "scores = cross_validate(pipe, x_t[input_cols], x_t[output_col],cv=cv, scoring=scoring,return_train_score=False)\n",
        "scores_geral[nome_modelo] = scores\n",
        "#print(np.sum(scores['test_tp']),np.sum(scores['test_tn']),np.sum(scores['test_fp']),np.sum(scores['test_fn']))\n",
        "#scores\n",
        "media,var = armazena_resultado(nome_modelo,scores)\n",
        "media"
      ],
      "execution_count": 208,
      "outputs": [
        {
          "output_type": "execute_result",
          "data": {
            "text/plain": [
              "{'acuracia': 0.5342,\n",
              " 'f1_score': 0.5348818095561545,\n",
              " 'fn': 4642,\n",
              " 'fp': 4674,\n",
              " 'precisão': 0.5341591140855272,\n",
              " 'recall': 0.5358,\n",
              " 'roc_auc': 0.5342,\n",
              " 'tn': 5326,\n",
              " 'tp': 5358}"
            ]
          },
          "metadata": {
            "tags": []
          },
          "execution_count": 208
        }
      ]
    },
    {
      "cell_type": "markdown",
      "metadata": {
        "id": "U7cAqoSjTdnT"
      },
      "source": [
        "## QDA"
      ]
    },
    {
      "cell_type": "code",
      "metadata": {
        "colab": {
          "base_uri": "https://localhost:8080/"
        },
        "id": "EWJ9Ob7iqqya",
        "outputId": "aad3c547-ccaf-4e99-8ef5-fecc49cfd24c"
      },
      "source": [
        "model = QuadraticDiscriminantAnalysis()\n",
        "pipe = pipeline.Pipeline(steps=[\n",
        "    ('encoder',encoder),\n",
        "    ('imputer',imputer),\n",
        "    ('balancer',balancer),\n",
        "    ('union',union),\n",
        "    ('model',model)\n",
        "])\n",
        "\n",
        "QDA_search = {\n",
        "    'model__reg_param':Real(0.00005,0.0005,prior='log-uniform')\n",
        "}\n",
        "\n",
        "opt = BayesSearchCV(\n",
        "    pipe,\n",
        "    [(QDA_search, 50)],\n",
        "    scoring=make_scorer(f1_score),\n",
        "    cv=cv\n",
        ")\n",
        "\n",
        "opt.fit(x_t[input_cols],x_t[output_col])\n",
        "print(\"val. score: %s\" % opt.best_score_)\n",
        "#print(\"test score: %s\" % opt.score(X_test, y_test))\n",
        "print(\"best params: %s\" % str(opt.best_params_))"
      ],
      "execution_count": 239,
      "outputs": [
        {
          "output_type": "stream",
          "text": [
            "val. score: 0.6381439388137965\n",
            "best params: OrderedDict([('model__reg_param', 5.0031232352585586e-05)])\n"
          ],
          "name": "stdout"
        }
      ]
    },
    {
      "cell_type": "code",
      "metadata": {
        "colab": {
          "base_uri": "https://localhost:8080/"
        },
        "id": "Z_E661BBwOvM",
        "outputId": "2c35ef54-fb1b-4cd2-e132-563d73993c27"
      },
      "source": [
        "model = QuadraticDiscriminantAnalysis(reg_param=0.00005)\n",
        "nome_modelo= \"QDA\"\n",
        "pipe = pipeline.Pipeline(steps=[\n",
        "    ('encoder',encoder),\n",
        "    ('imputer',imputer),\n",
        "    ('balancer',balancer),\n",
        "    ('union',union),\n",
        "    ('model',model)\n",
        "])\n",
        "scores = cross_validate(pipe, x_t[input_cols], x_t[output_col],cv=cv, scoring=scoring,return_train_score=False)\n",
        "scores_geral[nome_modelo] = scores\n",
        "#print(np.sum(scores['test_tp']),np.sum(scores['test_tn']),np.sum(scores['test_fp']),np.sum(scores['test_fn']))\n",
        "#scores\n",
        "media,var = armazena_resultado(nome_modelo,scores)\n",
        "media"
      ],
      "execution_count": 240,
      "outputs": [
        {
          "output_type": "execute_result",
          "data": {
            "text/plain": [
              "{'acuracia': 0.5574000000000001,\n",
              " 'f1_score': 0.638093059724073,\n",
              " 'fn': 2184,\n",
              " 'fp': 6668,\n",
              " 'precisão': 0.539806565481376,\n",
              " 'recall': 0.7816,\n",
              " 'roc_auc': 0.5574000000000001,\n",
              " 'tn': 3332,\n",
              " 'tp': 7816}"
            ]
          },
          "metadata": {
            "tags": []
          },
          "execution_count": 240
        }
      ]
    },
    {
      "cell_type": "markdown",
      "metadata": {
        "id": "RsMC1fXAUWE3"
      },
      "source": [
        "## ADABOOST"
      ]
    },
    {
      "cell_type": "code",
      "metadata": {
        "colab": {
          "base_uri": "https://localhost:8080/"
        },
        "id": "cClMmCguVEUO",
        "outputId": "f5c5715e-db56-41d9-e4a1-290a597f0472"
      },
      "source": [
        "model = AdaBoostClassifier(base_estimator=svm,n_estimators=100)\n",
        "pipe = pipeline.Pipeline(steps=[\n",
        "    ('encoder',encoder),\n",
        "    ('imputer',imputer),\n",
        "    ('balancer',balancer),\n",
        "    ('union',union),\n",
        "    ('model',model)\n",
        "])\n",
        "\n",
        "ADA_search = {\n",
        "    'model__learning_rate':Real(0.0001,1,prior='log-uniform')\n",
        "}\n",
        "\n",
        "opt = BayesSearchCV(\n",
        "    pipe,\n",
        "    [(ADA_search, 50)],\n",
        "    scoring=make_scorer(f1_score),\n",
        "    cv=cv\n",
        ")\n",
        "\n",
        "opt.fit(x_t[input_cols],x_t[output_col])\n",
        "print(\"val. score: %s\" % opt.best_score_)\n",
        "#print(\"test score: %s\" % opt.score(X_test, y_test))\n",
        "print(\"best params: %s\" % str(opt.best_params_))"
      ],
      "execution_count": 254,
      "outputs": [
        {
          "output_type": "stream",
          "text": [
            "val. score: 0.6460764636604175\n",
            "best params: OrderedDict([('model__learning_rate', 0.002092145432704537)])\n"
          ],
          "name": "stdout"
        }
      ]
    },
    {
      "cell_type": "code",
      "metadata": {
        "colab": {
          "base_uri": "https://localhost:8080/"
        },
        "id": "C278SpB2UZSL",
        "outputId": "98dd9f71-99ef-467e-8ffa-99873259bf8d"
      },
      "source": [
        "model = AdaBoostClassifier(n_estimators=100,learning_rate=0.002092145432704537)\n",
        "nome_modelo= \"ADABOOST\"\n",
        "pipe = pipeline.Pipeline(steps=[\n",
        "    ('encoder',encoder),\n",
        "    ('imputer',imputer),\n",
        "    ('balancer',balancer),\n",
        "    ('union',union),\n",
        "    ('model',model)\n",
        "])\n",
        "scores = cross_validate(pipe, x_t[input_cols], x_t[output_col],cv=cv, scoring=scoring,return_train_score=False)\n",
        "scores_geral[nome_modelo] = scores\n",
        "#print(np.sum(scores['test_tp']),np.sum(scores['test_tn']),np.sum(scores['test_fp']),np.sum(scores['test_fn']))\n",
        "#scores\n",
        "media,var = armazena_resultado(nome_modelo,scores)\n",
        "media"
      ],
      "execution_count": 44,
      "outputs": [
        {
          "output_type": "execute_result",
          "data": {
            "text/plain": [
              "{'acuracia': nan,\n",
              " 'f1_score': nan,\n",
              " 'fn': nan,\n",
              " 'fp': nan,\n",
              " 'precisão': nan,\n",
              " 'recall': nan,\n",
              " 'roc_auc': nan,\n",
              " 'tn': nan,\n",
              " 'tp': nan}"
            ]
          },
          "metadata": {
            "tags": []
          },
          "execution_count": 44
        }
      ]
    },
    {
      "cell_type": "markdown",
      "metadata": {
        "id": "TxV-uU27T8j-"
      },
      "source": [
        "## Ensemble"
      ]
    },
    {
      "cell_type": "code",
      "metadata": {
        "colab": {
          "base_uri": "https://localhost:8080/",
          "height": 53
        },
        "id": "uXlrJS9EZonV",
        "outputId": "37563d17-10dc-424e-cc91-110accca8c22"
      },
      "source": [
        "RF = RandomForestClassifier(n_estimators=499,max_depth=30)\n",
        "\"\"\"RF = pipeline.Pipeline(steps=[\n",
        "    ('encoder',encoder),\n",
        "    ('imputer',imputer),\n",
        "    ('balancer',balancer),\n",
        "    ('union',union),\n",
        "    ('model',model)\n",
        "])\"\"\"\n",
        "\n",
        "LR = LogisticRegression(C=993.0664736563477,max_iter=1600)\n",
        "\"\"\"LR = pipeline.Pipeline(steps=[\n",
        "    ('encoder',encoder),\n",
        "    ('imputer',imputer),\n",
        "    ('balancer',balancer),\n",
        "    ('union',union),\n",
        "    ('model',model)\n",
        "])\"\"\"\n",
        "\n",
        "NB = GaussianNB()\n",
        "\"\"\"NB = pipeline.Pipeline(steps=[\n",
        "    ('encoder',encoder),\n",
        "    ('imputer',imputer),\n",
        "    ('balancer',balancer),\n",
        "    ('union',union),\n",
        "    ('model',model)\n",
        "])\"\"\"\n",
        "\n",
        "CATB = CatBoostClassifier(l2_leaf_reg=5.409491968380465,\n",
        "                           learning_rate=0.0003793393560662113,\n",
        "                           max_depth=11,verbose=False)\n",
        "\"\"\"CATB = pipeline.Pipeline(steps=[\n",
        "    ('encoder',encoder),\n",
        "    ('imputer',imputer),\n",
        "    ('balancer',balancer),\n",
        "    ('union',union),\n",
        "    ('model',model)\n",
        "])\"\"\"\n",
        "\n",
        "LGB = lgb(bagging_fraction = 0.8973693288922182,\n",
        "            feature_fraction = 0.8919250170451992,\n",
        "            learning_rate = 0.00012265507016257372,\n",
        "            n_estimators=1000,\n",
        "            max_bin = 22,\n",
        "            max_depth = 29,\n",
        "            min_data_in_leaf = 53,\n",
        "            min_sum_hessian_in_leaf = 3,\n",
        "            num_leaves = 72,\n",
        "            reg_alpha = 60.83831537997138,\n",
        "            reg_lambda = 16.518974566272195,\n",
        "            subsample = 0.9274967636572905,\n",
        "            )\n",
        "\n",
        "\"\"\"LGB = pipeline.Pipeline(steps=[\n",
        "    ('encoder',encoder),\n",
        "    ('imputer',imputer),\n",
        "    ('balancer',balancer),\n",
        "    ('union',union),\n",
        "    ('model',model)\n",
        "])\"\"\"\n",
        "\n",
        "XG = xg.XGBClassifier(colsample_bytree = 0.7418419224939272,\n",
        "                         eta = 0.45633573765106905,\n",
        "                         gamma = 39.63998610324133,\n",
        "                         max_bin = 82,\n",
        "                         max_depth = 4,\n",
        "                         min_child_weight = 0.44619360202235636,\n",
        "                         reg_alpha = 18.688752405175503,\n",
        "                         reg_lambda = 44.516295463053766,\n",
        "                         subsample = 0.7518787153908242\n",
        "                         )\n",
        "\n",
        "\"\"\"XG = pipeline.Pipeline(steps=[\n",
        "    ('encoder',encoder),\n",
        "    ('imputer',imputer),\n",
        "    ('balancer',balancer),\n",
        "    ('union',union),\n",
        "    ('model',model)\n",
        "])\"\"\"\n",
        "\n",
        "SVM = Pipeline([\n",
        "                  (\"Nys\",Nystroem(gamma=0.10119268595677983, random_state=42, n_components=328)),\n",
        "                  (\"SVM\",LinearSVC(C=0.00989507703903171))\n",
        "])\n",
        "\"\"\"SVM = pipeline.Pipeline(steps=[\n",
        "    ('encoder',encoder),\n",
        "    ('imputer',imputer),\n",
        "    ('balancer',balancer),\n",
        "    ('union',union),\n",
        "    ('model',model)\n",
        "])\"\"\"\n",
        "\n",
        "NN = MLPWrapper(42,3,35,0.001)\n",
        "\"\"\"NN = pipeline.Pipeline(steps=[\n",
        "    ('encoder',encoder),\n",
        "    ('imputer',imputer),\n",
        "    ('balancer',balancer),\n",
        "    ('union',union),\n",
        "    ('model',model)\n",
        "])\"\"\"\n",
        "\n",
        "KNN = KNeighborsClassifier(n_neighbors=9)\n",
        "\"\"\"KNN = pipeline.Pipeline(steps=[\n",
        "    ('encoder',encoder),\n",
        "    ('imputer',imputer),\n",
        "    ('balancer',balancer),\n",
        "    ('union',union),\n",
        "    ('model',model)\n",
        "])\"\"\"\n",
        "\n",
        "QDA = QuadraticDiscriminantAnalysis(reg_param=0.00005)\n",
        "\"\"\"QDA = pipeline.Pipeline(steps=[\n",
        "    ('encoder',encoder),\n",
        "    ('imputer',imputer),\n",
        "    ('balancer',balancer),\n",
        "    ('union',union),\n",
        "    ('model',model)\n",
        "])\"\"\"\n",
        "\n",
        "ADA = AdaBoostClassifier(n_estimators=100,learning_rate=0.002092145432704537)\n",
        "\"\"\"ADA = pipeline.Pipeline(steps=[\n",
        "    ('encoder',encoder),\n",
        "    ('imputer',imputer),\n",
        "    ('balancer',balancer),\n",
        "    ('union',union),\n",
        "    ('model',model)\n",
        "])\"\"\"\n"
      ],
      "execution_count": 43,
      "outputs": [
        {
          "output_type": "execute_result",
          "data": {
            "application/vnd.google.colaboratory.intrinsic+json": {
              "type": "string"
            },
            "text/plain": [
              "\"ADA = pipeline.Pipeline(steps=[\\n    ('encoder',encoder),\\n    ('imputer',imputer),\\n    ('balancer',balancer),\\n    ('union',union),\\n    ('model',model)\\n])\""
            ]
          },
          "metadata": {
            "tags": []
          },
          "execution_count": 43
        }
      ]
    },
    {
      "cell_type": "code",
      "metadata": {
        "id": "RwO1MEg6T78E"
      },
      "source": [
        "level0 = list()\n",
        "level0.append(('svm', SVM))\n",
        "level0.append(('bayes', NB))\n",
        "level0.append(('ada', ADA))\n",
        "level0.append(('catb', CATB))\n",
        "level0.append(('qda', QDA))"
      ],
      "execution_count": 45,
      "outputs": []
    },
    {
      "cell_type": "code",
      "metadata": {
        "id": "_pg0C_OnfPq1"
      },
      "source": [
        "# define meta learner model\n",
        "level1 = LogisticRegression()\n",
        "# define the stacking ensemble\n",
        "model = StackingClassifier(estimators=level0, final_estimator=level1, cv=5)"
      ],
      "execution_count": 46,
      "outputs": []
    },
    {
      "cell_type": "code",
      "metadata": {
        "colab": {
          "base_uri": "https://localhost:8080/"
        },
        "id": "rElbrZWPgBg8",
        "outputId": "a040aca3-e52a-439f-bcbb-d847a56f3848"
      },
      "source": [
        "nome_modelo= \"stack\"\n",
        "pipe = pipeline.Pipeline(steps=[\n",
        "    ('encoder',encoder),\n",
        "    ('imputer',imputer),\n",
        "    ('balancer',balancer),\n",
        "    ('union',union),\n",
        "    ('model',model)\n",
        "])\n",
        "scores = cross_validate(pipe, x_t[input_cols], x_t[output_col],cv=cv, scoring=scoring,return_train_score=False)\n",
        "scores_geral[nome_modelo] = scores\n",
        "#print(np.sum(scores['test_tp']),np.sum(scores['test_tn']),np.sum(scores['test_fp']),np.sum(scores['test_fn']))\n",
        "#scores\n",
        "media,var = armazena_resultado(nome_modelo,scores)\n",
        "media"
      ],
      "execution_count": 47,
      "outputs": [
        {
          "output_type": "execute_result",
          "data": {
            "text/plain": [
              "{'acuracia': 0.5843499999999999,\n",
              " 'f1_score': 0.6263759843873575,\n",
              " 'fn': 3023,\n",
              " 'fp': 5290,\n",
              " 'precisão': 0.5686865393433821,\n",
              " 'recall': 0.6977,\n",
              " 'roc_auc': 0.5843499999999999,\n",
              " 'tn': 4710,\n",
              " 'tp': 6977}"
            ]
          },
          "metadata": {
            "tags": []
          },
          "execution_count": 47
        }
      ]
    },
    {
      "cell_type": "markdown",
      "metadata": {
        "id": "dmOIY86QdOtR"
      },
      "source": [
        "## Classifier Analysis"
      ]
    },
    {
      "cell_type": "code",
      "metadata": {
        "id": "Jv6eSplyI1nf",
        "colab": {
          "base_uri": "https://localhost:8080/",
          "height": 237
        },
        "outputId": "7db8da82-1dba-4424-81b5-350618ebfae4"
      },
      "source": [
        "for i in scores_geral:\n",
        "    if \"fit_time\" in scores_geral[i]:\n",
        "        del(scores_geral[i][\"fit_time\"])\n",
        "    if \"score_time\" in scores_geral[i]:\n",
        "        del(scores_geral[i][\"score_time\"])"
      ],
      "execution_count": 1,
      "outputs": [
        {
          "output_type": "error",
          "ename": "NameError",
          "evalue": "ignored",
          "traceback": [
            "\u001b[0;31m---------------------------------------------------------------------------\u001b[0m",
            "\u001b[0;31mNameError\u001b[0m                                 Traceback (most recent call last)",
            "\u001b[0;32m<ipython-input-1-1d9cc9b69f18>\u001b[0m in \u001b[0;36m<module>\u001b[0;34m()\u001b[0m\n\u001b[0;32m----> 1\u001b[0;31m \u001b[0;32mfor\u001b[0m \u001b[0mi\u001b[0m \u001b[0;32min\u001b[0m \u001b[0mscores_geral\u001b[0m\u001b[0;34m:\u001b[0m\u001b[0;34m\u001b[0m\u001b[0;34m\u001b[0m\u001b[0m\n\u001b[0m\u001b[1;32m      2\u001b[0m     \u001b[0;32mif\u001b[0m \u001b[0;34m\"fit_time\"\u001b[0m \u001b[0;32min\u001b[0m \u001b[0mscores_geral\u001b[0m\u001b[0;34m[\u001b[0m\u001b[0mi\u001b[0m\u001b[0;34m]\u001b[0m\u001b[0;34m:\u001b[0m\u001b[0;34m\u001b[0m\u001b[0;34m\u001b[0m\u001b[0m\n\u001b[1;32m      3\u001b[0m         \u001b[0;32mdel\u001b[0m\u001b[0;34m(\u001b[0m\u001b[0mscores_geral\u001b[0m\u001b[0;34m[\u001b[0m\u001b[0mi\u001b[0m\u001b[0;34m]\u001b[0m\u001b[0;34m[\u001b[0m\u001b[0;34m\"fit_time\"\u001b[0m\u001b[0;34m]\u001b[0m\u001b[0;34m)\u001b[0m\u001b[0;34m\u001b[0m\u001b[0;34m\u001b[0m\u001b[0m\n\u001b[1;32m      4\u001b[0m     \u001b[0;32mif\u001b[0m \u001b[0;34m\"score_time\"\u001b[0m \u001b[0;32min\u001b[0m \u001b[0mscores_geral\u001b[0m\u001b[0;34m[\u001b[0m\u001b[0mi\u001b[0m\u001b[0;34m]\u001b[0m\u001b[0;34m:\u001b[0m\u001b[0;34m\u001b[0m\u001b[0;34m\u001b[0m\u001b[0m\n\u001b[1;32m      5\u001b[0m         \u001b[0;32mdel\u001b[0m\u001b[0;34m(\u001b[0m\u001b[0mscores_geral\u001b[0m\u001b[0;34m[\u001b[0m\u001b[0mi\u001b[0m\u001b[0;34m]\u001b[0m\u001b[0;34m[\u001b[0m\u001b[0;34m\"score_time\"\u001b[0m\u001b[0;34m]\u001b[0m\u001b[0;34m)\u001b[0m\u001b[0;34m\u001b[0m\u001b[0;34m\u001b[0m\u001b[0m\n",
            "\u001b[0;31mNameError\u001b[0m: name 'scores_geral' is not defined"
          ]
        }
      ]
    },
    {
      "cell_type": "code",
      "metadata": {
        "id": "py3G3sQ9JHae"
      },
      "source": [
        "metricas = []\n",
        "for metric in scores_geral['SVM']:\n",
        "    metricas.append(metric)\n",
        "count_metrica = 0\n",
        "scores_boxplot = {}\n",
        "for met in range(len(metricas)):\n",
        "    dic_score = {}\n",
        "    for modelo in scores_geral:\n",
        "        dic_score[modelo] = scores_geral[modelo][metricas[count_metrica]]\n",
        "    scores_boxplot[metricas[count_metrica]] = pd.DataFrame(dic_score)\n",
        "    count_metrica+=1"
      ],
      "execution_count": 257,
      "outputs": []
    },
    {
      "cell_type": "code",
      "metadata": {
        "id": "r-LlTup9JdbS",
        "colab": {
          "base_uri": "https://localhost:8080/",
          "height": 535
        },
        "outputId": "c037ff74-0202-4dbe-b8fb-21bee88f6a2a"
      },
      "source": [
        "f, ax = plt.subplots(figsize=(12, 8))\n",
        "fig = sns.boxplot(data=scores_boxplot['test_f1_score'])\n",
        "plt.xticks(rotation=45)\n",
        "plt.savefig('models_f1.png')"
      ],
      "execution_count": 258,
      "outputs": [
        {
          "output_type": "display_data",
          "data": {
            "image/png": "[encoded data removed]",
            "text/plain": [
              "<Figure size 864x576 with 1 Axes>"
            ]
          },
          "metadata": {
            "tags": [],
            "needs_background": "light"
          }
        }
      ]
    },
    {
      "cell_type": "markdown",
      "metadata": {
        "id": "KwimUKnESVBI"
      },
      "source": [
        "# Final Result"
      ]
    },
    {
      "cell_type": "code",
      "metadata": {
        "id": "gT60_WOcLdt4"
      },
      "source": [
        "model = Pipeline([\n",
        "                  (\"Nys\",Nystroem(gamma=0.10119268595677983, random_state=42, n_components=328)),\n",
        "                  (\"SVM\",LinearSVC(C=0.00989507703903171))\n",
        "])\n",
        "pipe = pipeline.Pipeline(steps=[\n",
        "    ('encoder',encoder),\n",
        "    ('imputer',imputer),\n",
        "    ('balancer',balancer),\n",
        "    ('union',union),\n",
        "    ('model',model)\n",
        "])\n",
        "pipe.fit(x_t[input_cols],x_t[output_col])\n",
        "y_pred = np.array(pipe.predict(x_teste[input_cols]),dtype=np.int16)"
      ],
      "execution_count": 236,
      "outputs": []
    },
    {
      "cell_type": "code",
      "metadata": {
        "id": "bg9bB7MobGze"
      },
      "source": [
        "result = pd.DataFrame({'id_solicitante':list(x_teste.index + 1),'inadimplente':y_pred})\n",
        "result.to_csv('prediction1.csv',index=False)"
      ],
      "execution_count": 237,
      "outputs": []
    }
  ]
}